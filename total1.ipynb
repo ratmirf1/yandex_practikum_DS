{
 "cells": [
  {
   "cell_type": "markdown",
   "metadata": {},
   "source": [
    "<div style=\"border:solid green 2px; padding: 20px\">\n",
    "<b>Ратмир, привет!</b>\n",
    "\n",
    "Меня зовут Евгений Дащенко, и я буду проверять твой проект. Предлагаю общаться на «ты» 😊 Но если это не удобно - дай знать, и мы перейдем на \"вы\". \n",
    "\n",
    "Моя основная цель — не указать на совершенные тобою ошибки, а поделиться своим опытом и помочь тебе стать аналитиком данных. Ты уже проделал большую работу над проектом, но давай сделаем его еще лучше. Ниже ты найдешь мои комментарии - пожалуйста, не перемещай, не изменяй и не удаляй их. Я буду использовать цветовую разметку:\n",
    "\n",
    "<div class=\"alert alert-danger\">\n",
    "<b>Критическая ошибка: ❌</b> Так выделены самые важные замечания. Без их отработки проект не будет принят. </div>\n",
    "\n",
    "<div class=\"alert alert-warning\">\n",
    "<b>Хорошо, но можно и лучше: ❗️</b> Так выделены небольшие замечания. Одна-два таких замечания в проекте допустимы, но если их будет больше - тебе будет необходимо внести исправления. Это как тестовое задание при приеме на работу: очень много мелких ошибок могут стать причиной отказа кандидату. \n",
    "\n",
    "</div>\n",
    "\n",
    "<div class=\"alert alert-success\">\n",
    "<b>Все отлично: ✅</b> Так я выделяю все остальные комментарии.</div>\n",
    "\n",
    "Давай работать над проектом в диалоге: если ты что-то меняешь в проекте или отвечаешь на мои комменатри — пиши об этом. Мне будет легче отследить изменения, если ты выделишь свои комментарии:\n",
    "<div class=\"alert alert-info\"> <b>Комментарий студента: ℹ️</b> Например, вот так.</div>\n",
    "\n",
    "Всё это поможет выполнить повторную проверку твоего проекта оперативнее. "
   ]
  },
  {
   "cell_type": "markdown",
   "metadata": {},
   "source": [
    "# Анализ продаж компьютерных игр\n",
    "Вы работаете в интернет-магазине «Стримчик», который продаёт по всему миру компьютерные игры. Из открытых источников доступны исторические данные о продажах игр, оценки пользователей и экспертов, жанры и платформы (например, Xbox или PlayStation). Вам нужно выявить определяющие успешность игры закономерности. Это позволит сделать ставку на потенциально популярный продукт и спланировать рекламные кампании.\n",
    "Перед вами данные до 2016 года. Представим, что сейчас декабрь 2016 г., и вы планируете кампанию на 2017-й. Нужно отработать принцип работы с данными. Неважно, прогнозируете ли вы продажи на 2017 год по данным 2016-го или же 2027-й — по данным 2026 года.\n",
    "В наборе данных попадается аббревиатура ESRB (Entertainment Software Rating Board) — это ассоциация, определяющая возрастной рейтинг компьютерных игр. ESRB оценивает игровой контент и присваивает ему подходящую возрастную категорию, например, «Для взрослых», «Для детей младшего возраста» или «Для подростков»."
   ]
  },
  {
   "cell_type": "markdown",
   "metadata": {},
   "source": [
    "# Цель исследования:\n",
    "1. Провести исследовательский анализ данных\n",
    "2. Составить портрет пользователя каждого региона\n",
    "3. Проверить гипотезы и сделать вывод"
   ]
  },
  {
   "cell_type": "markdown",
   "metadata": {},
   "source": [
    "# Ход исследования:\n",
    "###  Открыть файл с данными и изучить общую информацию\n",
    "Путь к файлу: /datasets/games.csv  \n",
    "\n",
    "### Подготовить данные \n",
    "\n",
    "Заменить названия столбцов (привести к нижнему регистру); \n",
    "\n",
    "Преобразовать данные в нужные типы. Описать в каких столбцах они были заменены и почему. \n",
    "\n",
    "Обработать пропуски при необходимости:\n",
    "\n",
    "Объяснить, почему заполнены пропуски определённым образом или почему не стали это делать; \n",
    "\n",
    "Описать причины, которые могли привести к пропускам; \n",
    "\n",
    "Обратить внимание на аббревиатуру 'tbd' в столбце с оценкой пользователей. Отдельно разбрать это значение и опишите, как его обработать; \n",
    "\n",
    "Посчитать суммарные продажи во всех регионах\n",
    "\n",
    "### Провести исследовательский анализ данных \n",
    "\n",
    "Посмотреть сколько игр выпускалось в разные годы. Важны ли данные за все периоды? \n",
    "\n",
    "Посмотреть, как менялись продажи по платформам. \n",
    "\n",
    "Выберать платформы с наибольшими суммарными продажами и построить распределение по годам. \n",
    "\n",
    "За какой характерный срок появляются новые и исчезают старые платформы? \n",
    "\n",
    "Взять данные за соответствующий актуальный период. \n",
    "\n",
    "Актуальный период определить самостоятельно в результате исследования предыдущих вопросов. \n",
    "\n",
    "Основной фактор — эти данные помогут построить прогноз на 2017 год. \n",
    "\n",
    "Не учитывать в работе данные за предыдущие годы. \n",
    "\n",
    "Какие платформы лидируют по продажам, растут или падают? \n",
    "\n",
    "Выбрать несколько потенциально прибыльных платформ. \n",
    "\n",
    "Построить график «ящик с усами» по глобальным продажам игр в разбивке по платформам. \n",
    "\n",
    "Описать результат. Посмотреть, как влияют на продажи внутри одной популярной платформы отзывы пользователей и критиков. \n",
    "\n",
    "Построить диаграмму рассеяния и посчитайте корреляцию между отзывами и продажами. Сформировать выводы. \n",
    "\n",
    "Соотнести выводы с продажами игр на других платформах. \n",
    "\n",
    "Посмотреть на общее распределение игр по жанрам. \n",
    "\n",
    "Что можно сказать о самых прибыльных жанрах? Выделяются ли жанры с высокими и низкими продажами?\n",
    "\n",
    "### Составить портрет пользователя каждого региона Определить для пользователя каждого региона (NA, EU, JP): \n",
    "\n",
    "Самые популярные платформы (топ-5). \n",
    "\n",
    "Описать различия в долях продаж. \n",
    "\n",
    "Самые популярные жанры (топ-5). \n",
    "\n",
    "Пояснить разницу. Влияет ли рейтинг ESRB на продажи в отдельном регионе?\n",
    "\n",
    "### Проверить гипотезы \n",
    "\n",
    "Средние пользовательские рейтинги платформ Xbox One и PC одинаковые; \n",
    "\n",
    "Средние пользовательские рейтинги жанров Action (англ. «действие», экшен-игры) и Sports (англ. «спортивные соревнования») разные. \n",
    "\n",
    "Задать самостоятельно пороговое значение alpha. \n",
    "\n",
    "Пояснить: \n",
    "\n",
    "Как сформулировал нулевую и альтернативную гипотезы; \n",
    "\n",
    "Какой критерий применился для проверки гипотез и почему.\n",
    "\n",
    "### Написать общий вывод"
   ]
  },
  {
   "cell_type": "markdown",
   "metadata": {},
   "source": [
    "<div class=\"alert alert-success\">\n",
    "<b>Комментарий ревьюера: ✅</b>\n",
    "\n",
    "Здорово, когда есть вступление в сам проект, каждый сможет быстрее разобраться в концепции / деталях работы. Можно также привести краткий план проведения самой работы и описание используемых столбцов. \n",
    "\n",
    "</div>"
   ]
  },
  {
   "cell_type": "markdown",
   "metadata": {},
   "source": [
    "# 1. Открыть файл"
   ]
  },
  {
   "cell_type": "code",
   "execution_count": 50,
   "metadata": {},
   "outputs": [
    {
     "data": {
      "text/html": [
       "<div>\n",
       "<style scoped>\n",
       "    .dataframe tbody tr th:only-of-type {\n",
       "        vertical-align: middle;\n",
       "    }\n",
       "\n",
       "    .dataframe tbody tr th {\n",
       "        vertical-align: top;\n",
       "    }\n",
       "\n",
       "    .dataframe thead th {\n",
       "        text-align: right;\n",
       "    }\n",
       "</style>\n",
       "<table border=\"1\" class=\"dataframe\">\n",
       "  <thead>\n",
       "    <tr style=\"text-align: right;\">\n",
       "      <th></th>\n",
       "      <th>Name</th>\n",
       "      <th>Platform</th>\n",
       "      <th>Year_of_Release</th>\n",
       "      <th>Genre</th>\n",
       "      <th>NA_sales</th>\n",
       "      <th>EU_sales</th>\n",
       "      <th>JP_sales</th>\n",
       "      <th>Other_sales</th>\n",
       "      <th>Critic_Score</th>\n",
       "      <th>User_Score</th>\n",
       "      <th>Rating</th>\n",
       "    </tr>\n",
       "  </thead>\n",
       "  <tbody>\n",
       "    <tr>\n",
       "      <th>0</th>\n",
       "      <td>Wii Sports</td>\n",
       "      <td>Wii</td>\n",
       "      <td>2006.0</td>\n",
       "      <td>Sports</td>\n",
       "      <td>41.36</td>\n",
       "      <td>28.96</td>\n",
       "      <td>3.77</td>\n",
       "      <td>8.45</td>\n",
       "      <td>76.0</td>\n",
       "      <td>8</td>\n",
       "      <td>E</td>\n",
       "    </tr>\n",
       "    <tr>\n",
       "      <th>1</th>\n",
       "      <td>Super Mario Bros.</td>\n",
       "      <td>NES</td>\n",
       "      <td>1985.0</td>\n",
       "      <td>Platform</td>\n",
       "      <td>29.08</td>\n",
       "      <td>3.58</td>\n",
       "      <td>6.81</td>\n",
       "      <td>0.77</td>\n",
       "      <td>NaN</td>\n",
       "      <td>NaN</td>\n",
       "      <td>NaN</td>\n",
       "    </tr>\n",
       "    <tr>\n",
       "      <th>2</th>\n",
       "      <td>Mario Kart Wii</td>\n",
       "      <td>Wii</td>\n",
       "      <td>2008.0</td>\n",
       "      <td>Racing</td>\n",
       "      <td>15.68</td>\n",
       "      <td>12.76</td>\n",
       "      <td>3.79</td>\n",
       "      <td>3.29</td>\n",
       "      <td>82.0</td>\n",
       "      <td>8.3</td>\n",
       "      <td>E</td>\n",
       "    </tr>\n",
       "    <tr>\n",
       "      <th>3</th>\n",
       "      <td>Wii Sports Resort</td>\n",
       "      <td>Wii</td>\n",
       "      <td>2009.0</td>\n",
       "      <td>Sports</td>\n",
       "      <td>15.61</td>\n",
       "      <td>10.93</td>\n",
       "      <td>3.28</td>\n",
       "      <td>2.95</td>\n",
       "      <td>80.0</td>\n",
       "      <td>8</td>\n",
       "      <td>E</td>\n",
       "    </tr>\n",
       "    <tr>\n",
       "      <th>4</th>\n",
       "      <td>Pokemon Red/Pokemon Blue</td>\n",
       "      <td>GB</td>\n",
       "      <td>1996.0</td>\n",
       "      <td>Role-Playing</td>\n",
       "      <td>11.27</td>\n",
       "      <td>8.89</td>\n",
       "      <td>10.22</td>\n",
       "      <td>1.00</td>\n",
       "      <td>NaN</td>\n",
       "      <td>NaN</td>\n",
       "      <td>NaN</td>\n",
       "    </tr>\n",
       "    <tr>\n",
       "      <th>5</th>\n",
       "      <td>Tetris</td>\n",
       "      <td>GB</td>\n",
       "      <td>1989.0</td>\n",
       "      <td>Puzzle</td>\n",
       "      <td>23.20</td>\n",
       "      <td>2.26</td>\n",
       "      <td>4.22</td>\n",
       "      <td>0.58</td>\n",
       "      <td>NaN</td>\n",
       "      <td>NaN</td>\n",
       "      <td>NaN</td>\n",
       "    </tr>\n",
       "    <tr>\n",
       "      <th>6</th>\n",
       "      <td>New Super Mario Bros.</td>\n",
       "      <td>DS</td>\n",
       "      <td>2006.0</td>\n",
       "      <td>Platform</td>\n",
       "      <td>11.28</td>\n",
       "      <td>9.14</td>\n",
       "      <td>6.50</td>\n",
       "      <td>2.88</td>\n",
       "      <td>89.0</td>\n",
       "      <td>8.5</td>\n",
       "      <td>E</td>\n",
       "    </tr>\n",
       "    <tr>\n",
       "      <th>7</th>\n",
       "      <td>Wii Play</td>\n",
       "      <td>Wii</td>\n",
       "      <td>2006.0</td>\n",
       "      <td>Misc</td>\n",
       "      <td>13.96</td>\n",
       "      <td>9.18</td>\n",
       "      <td>2.93</td>\n",
       "      <td>2.84</td>\n",
       "      <td>58.0</td>\n",
       "      <td>6.6</td>\n",
       "      <td>E</td>\n",
       "    </tr>\n",
       "    <tr>\n",
       "      <th>8</th>\n",
       "      <td>New Super Mario Bros. Wii</td>\n",
       "      <td>Wii</td>\n",
       "      <td>2009.0</td>\n",
       "      <td>Platform</td>\n",
       "      <td>14.44</td>\n",
       "      <td>6.94</td>\n",
       "      <td>4.70</td>\n",
       "      <td>2.24</td>\n",
       "      <td>87.0</td>\n",
       "      <td>8.4</td>\n",
       "      <td>E</td>\n",
       "    </tr>\n",
       "    <tr>\n",
       "      <th>9</th>\n",
       "      <td>Duck Hunt</td>\n",
       "      <td>NES</td>\n",
       "      <td>1984.0</td>\n",
       "      <td>Shooter</td>\n",
       "      <td>26.93</td>\n",
       "      <td>0.63</td>\n",
       "      <td>0.28</td>\n",
       "      <td>0.47</td>\n",
       "      <td>NaN</td>\n",
       "      <td>NaN</td>\n",
       "      <td>NaN</td>\n",
       "    </tr>\n",
       "    <tr>\n",
       "      <th>10</th>\n",
       "      <td>Nintendogs</td>\n",
       "      <td>DS</td>\n",
       "      <td>2005.0</td>\n",
       "      <td>Simulation</td>\n",
       "      <td>9.05</td>\n",
       "      <td>10.95</td>\n",
       "      <td>1.93</td>\n",
       "      <td>2.74</td>\n",
       "      <td>NaN</td>\n",
       "      <td>NaN</td>\n",
       "      <td>NaN</td>\n",
       "    </tr>\n",
       "    <tr>\n",
       "      <th>11</th>\n",
       "      <td>Mario Kart DS</td>\n",
       "      <td>DS</td>\n",
       "      <td>2005.0</td>\n",
       "      <td>Racing</td>\n",
       "      <td>9.71</td>\n",
       "      <td>7.47</td>\n",
       "      <td>4.13</td>\n",
       "      <td>1.90</td>\n",
       "      <td>91.0</td>\n",
       "      <td>8.6</td>\n",
       "      <td>E</td>\n",
       "    </tr>\n",
       "    <tr>\n",
       "      <th>12</th>\n",
       "      <td>Pokemon Gold/Pokemon Silver</td>\n",
       "      <td>GB</td>\n",
       "      <td>1999.0</td>\n",
       "      <td>Role-Playing</td>\n",
       "      <td>9.00</td>\n",
       "      <td>6.18</td>\n",
       "      <td>7.20</td>\n",
       "      <td>0.71</td>\n",
       "      <td>NaN</td>\n",
       "      <td>NaN</td>\n",
       "      <td>NaN</td>\n",
       "    </tr>\n",
       "    <tr>\n",
       "      <th>13</th>\n",
       "      <td>Wii Fit</td>\n",
       "      <td>Wii</td>\n",
       "      <td>2007.0</td>\n",
       "      <td>Sports</td>\n",
       "      <td>8.92</td>\n",
       "      <td>8.03</td>\n",
       "      <td>3.60</td>\n",
       "      <td>2.15</td>\n",
       "      <td>80.0</td>\n",
       "      <td>7.7</td>\n",
       "      <td>E</td>\n",
       "    </tr>\n",
       "    <tr>\n",
       "      <th>14</th>\n",
       "      <td>Kinect Adventures!</td>\n",
       "      <td>X360</td>\n",
       "      <td>2010.0</td>\n",
       "      <td>Misc</td>\n",
       "      <td>15.00</td>\n",
       "      <td>4.89</td>\n",
       "      <td>0.24</td>\n",
       "      <td>1.69</td>\n",
       "      <td>61.0</td>\n",
       "      <td>6.3</td>\n",
       "      <td>E</td>\n",
       "    </tr>\n",
       "    <tr>\n",
       "      <th>15</th>\n",
       "      <td>Wii Fit Plus</td>\n",
       "      <td>Wii</td>\n",
       "      <td>2009.0</td>\n",
       "      <td>Sports</td>\n",
       "      <td>9.01</td>\n",
       "      <td>8.49</td>\n",
       "      <td>2.53</td>\n",
       "      <td>1.77</td>\n",
       "      <td>80.0</td>\n",
       "      <td>7.4</td>\n",
       "      <td>E</td>\n",
       "    </tr>\n",
       "    <tr>\n",
       "      <th>16</th>\n",
       "      <td>Grand Theft Auto V</td>\n",
       "      <td>PS3</td>\n",
       "      <td>2013.0</td>\n",
       "      <td>Action</td>\n",
       "      <td>7.02</td>\n",
       "      <td>9.09</td>\n",
       "      <td>0.98</td>\n",
       "      <td>3.96</td>\n",
       "      <td>97.0</td>\n",
       "      <td>8.2</td>\n",
       "      <td>M</td>\n",
       "    </tr>\n",
       "    <tr>\n",
       "      <th>17</th>\n",
       "      <td>Grand Theft Auto: San Andreas</td>\n",
       "      <td>PS2</td>\n",
       "      <td>2004.0</td>\n",
       "      <td>Action</td>\n",
       "      <td>9.43</td>\n",
       "      <td>0.40</td>\n",
       "      <td>0.41</td>\n",
       "      <td>10.57</td>\n",
       "      <td>95.0</td>\n",
       "      <td>9</td>\n",
       "      <td>M</td>\n",
       "    </tr>\n",
       "    <tr>\n",
       "      <th>18</th>\n",
       "      <td>Super Mario World</td>\n",
       "      <td>SNES</td>\n",
       "      <td>1990.0</td>\n",
       "      <td>Platform</td>\n",
       "      <td>12.78</td>\n",
       "      <td>3.75</td>\n",
       "      <td>3.54</td>\n",
       "      <td>0.55</td>\n",
       "      <td>NaN</td>\n",
       "      <td>NaN</td>\n",
       "      <td>NaN</td>\n",
       "    </tr>\n",
       "    <tr>\n",
       "      <th>19</th>\n",
       "      <td>Brain Age: Train Your Brain in Minutes a Day</td>\n",
       "      <td>DS</td>\n",
       "      <td>2005.0</td>\n",
       "      <td>Misc</td>\n",
       "      <td>4.74</td>\n",
       "      <td>9.20</td>\n",
       "      <td>4.16</td>\n",
       "      <td>2.04</td>\n",
       "      <td>77.0</td>\n",
       "      <td>7.9</td>\n",
       "      <td>E</td>\n",
       "    </tr>\n",
       "  </tbody>\n",
       "</table>\n",
       "</div>"
      ],
      "text/plain": [
       "                                            Name Platform  Year_of_Release  \\\n",
       "0                                     Wii Sports      Wii           2006.0   \n",
       "1                              Super Mario Bros.      NES           1985.0   \n",
       "2                                 Mario Kart Wii      Wii           2008.0   \n",
       "3                              Wii Sports Resort      Wii           2009.0   \n",
       "4                       Pokemon Red/Pokemon Blue       GB           1996.0   \n",
       "5                                         Tetris       GB           1989.0   \n",
       "6                          New Super Mario Bros.       DS           2006.0   \n",
       "7                                       Wii Play      Wii           2006.0   \n",
       "8                      New Super Mario Bros. Wii      Wii           2009.0   \n",
       "9                                      Duck Hunt      NES           1984.0   \n",
       "10                                    Nintendogs       DS           2005.0   \n",
       "11                                 Mario Kart DS       DS           2005.0   \n",
       "12                   Pokemon Gold/Pokemon Silver       GB           1999.0   \n",
       "13                                       Wii Fit      Wii           2007.0   \n",
       "14                            Kinect Adventures!     X360           2010.0   \n",
       "15                                  Wii Fit Plus      Wii           2009.0   \n",
       "16                            Grand Theft Auto V      PS3           2013.0   \n",
       "17                 Grand Theft Auto: San Andreas      PS2           2004.0   \n",
       "18                             Super Mario World     SNES           1990.0   \n",
       "19  Brain Age: Train Your Brain in Minutes a Day       DS           2005.0   \n",
       "\n",
       "           Genre  NA_sales  EU_sales  JP_sales  Other_sales  Critic_Score  \\\n",
       "0         Sports     41.36     28.96      3.77         8.45          76.0   \n",
       "1       Platform     29.08      3.58      6.81         0.77           NaN   \n",
       "2         Racing     15.68     12.76      3.79         3.29          82.0   \n",
       "3         Sports     15.61     10.93      3.28         2.95          80.0   \n",
       "4   Role-Playing     11.27      8.89     10.22         1.00           NaN   \n",
       "5         Puzzle     23.20      2.26      4.22         0.58           NaN   \n",
       "6       Platform     11.28      9.14      6.50         2.88          89.0   \n",
       "7           Misc     13.96      9.18      2.93         2.84          58.0   \n",
       "8       Platform     14.44      6.94      4.70         2.24          87.0   \n",
       "9        Shooter     26.93      0.63      0.28         0.47           NaN   \n",
       "10    Simulation      9.05     10.95      1.93         2.74           NaN   \n",
       "11        Racing      9.71      7.47      4.13         1.90          91.0   \n",
       "12  Role-Playing      9.00      6.18      7.20         0.71           NaN   \n",
       "13        Sports      8.92      8.03      3.60         2.15          80.0   \n",
       "14          Misc     15.00      4.89      0.24         1.69          61.0   \n",
       "15        Sports      9.01      8.49      2.53         1.77          80.0   \n",
       "16        Action      7.02      9.09      0.98         3.96          97.0   \n",
       "17        Action      9.43      0.40      0.41        10.57          95.0   \n",
       "18      Platform     12.78      3.75      3.54         0.55           NaN   \n",
       "19          Misc      4.74      9.20      4.16         2.04          77.0   \n",
       "\n",
       "   User_Score Rating  \n",
       "0           8      E  \n",
       "1         NaN    NaN  \n",
       "2         8.3      E  \n",
       "3           8      E  \n",
       "4         NaN    NaN  \n",
       "5         NaN    NaN  \n",
       "6         8.5      E  \n",
       "7         6.6      E  \n",
       "8         8.4      E  \n",
       "9         NaN    NaN  \n",
       "10        NaN    NaN  \n",
       "11        8.6      E  \n",
       "12        NaN    NaN  \n",
       "13        7.7      E  \n",
       "14        6.3      E  \n",
       "15        7.4      E  \n",
       "16        8.2      M  \n",
       "17          9      M  \n",
       "18        NaN    NaN  \n",
       "19        7.9      E  "
      ]
     },
     "execution_count": 50,
     "metadata": {},
     "output_type": "execute_result"
    }
   ],
   "source": [
    "import pandas as pd\n",
    "import numpy as np\n",
    "import matplotlib.pyplot as plt\n",
    "from scipy import stats as st\n",
    "data = pd.read_csv('/datasets/games.csv')\n",
    "data.head(20)"
   ]
  },
  {
   "cell_type": "markdown",
   "metadata": {},
   "source": [
    "# 2. Подготовить данные"
   ]
  },
  {
   "cell_type": "code",
   "execution_count": 51,
   "metadata": {},
   "outputs": [],
   "source": [
    "#приводим названия столбцов к нижнему регистру\n",
    "data.columns = data.columns.str.lower()\n",
    "#data.head()"
   ]
  },
  {
   "cell_type": "markdown",
   "metadata": {},
   "source": [
    "<div class=\"alert alert-success\">\n",
    "<b>Комментарий ревьюера: ✅</b>\n",
    "\n",
    "Отличный способ заменить регистр в наших данных 👍\n",
    "</div>"
   ]
  },
  {
   "cell_type": "code",
   "execution_count": 52,
   "metadata": {},
   "outputs": [
    {
     "name": "stdout",
     "output_type": "stream",
     "text": [
      "<class 'pandas.core.frame.DataFrame'>\n",
      "RangeIndex: 16715 entries, 0 to 16714\n",
      "Data columns (total 11 columns):\n",
      " #   Column           Non-Null Count  Dtype  \n",
      "---  ------           --------------  -----  \n",
      " 0   name             16713 non-null  object \n",
      " 1   platform         16715 non-null  object \n",
      " 2   year_of_release  16446 non-null  float64\n",
      " 3   genre            16713 non-null  object \n",
      " 4   na_sales         16715 non-null  float64\n",
      " 5   eu_sales         16715 non-null  float64\n",
      " 6   jp_sales         16715 non-null  float64\n",
      " 7   other_sales      16715 non-null  float64\n",
      " 8   critic_score     8137 non-null   float64\n",
      " 9   user_score       10014 non-null  object \n",
      " 10  rating           9949 non-null   object \n",
      "dtypes: float64(6), object(5)\n",
      "memory usage: 1.4+ MB\n"
     ]
    }
   ],
   "source": [
    "#проверяем типы данных\n",
    "data.info()"
   ]
  },
  {
   "cell_type": "code",
   "execution_count": 53,
   "metadata": {},
   "outputs": [],
   "source": [
    "#изменяем значения в столбцах year_of_release(года должны быть в int) и user_score(оценки в числах)\n",
    "#в int и float соответственно\n",
    "#data['year_of_release'].unique()\n",
    "data = data.dropna(subset=['year_of_release']).reset_index(drop=True)\n",
    "data['year_of_release'].unique()\n",
    "data['year_of_release'] = data['year_of_release'].astype(int)\n",
    "#data['user_score'].unique()\n",
    "data.loc[data['user_score'] == 'tbd', 'user_score'] = float('nan')\n",
    "data['user_score'] = data['user_score'].astype(float)\n",
    "#data['user_score'].unique()"
   ]
  },
  {
   "cell_type": "markdown",
   "metadata": {},
   "source": [
    "<div class=\"alert alert-success\">\n",
    "<b>Комментарий ревьюера: ✅</b>\n",
    "\n",
    "В том числе метод `fillna` и `astype` можно применять к нескольким столбцам одновременно.\n",
    "    \n",
    "Если столбцов более 2–ух, то рекомендую применять цикл `for`.\n",
    "    \n",
    "Пример: \n",
    "    \n",
    "`df.astype({ \"col1\": \"float64\", \"col2\": \"int64\"})`\n",
    "    \n",
    "</div>"
   ]
  },
  {
   "cell_type": "markdown",
   "metadata": {},
   "source": [
    "# Пропуски"
   ]
  },
  {
   "cell_type": "code",
   "execution_count": 54,
   "metadata": {},
   "outputs": [],
   "source": [
    "#пропски в столбце year_of_release уже удалены, теперь\n",
    "#удалим пропуски в столбце name и genre\n",
    "data.isna().sum()\n",
    "data = data.dropna(subset=['name']).reset_index(drop=True)\n",
    "data = data.dropna(subset=['genre']).reset_index(drop=True)\n",
    "#data.isna().sum()"
   ]
  },
  {
   "cell_type": "markdown",
   "metadata": {},
   "source": [
    "В остальных столбцах пропуски нельзя ничем заменить и удалить значения, потому что это может исказить исследование. Причиной пропусков может быть непопулярность некоторых игр, и, соответственно им не уделили внимания"
   ]
  },
  {
   "cell_type": "markdown",
   "metadata": {},
   "source": [
    "# Общие продажи"
   ]
  },
  {
   "cell_type": "code",
   "execution_count": 55,
   "metadata": {},
   "outputs": [
    {
     "data": {
      "text/html": [
       "<div>\n",
       "<style scoped>\n",
       "    .dataframe tbody tr th:only-of-type {\n",
       "        vertical-align: middle;\n",
       "    }\n",
       "\n",
       "    .dataframe tbody tr th {\n",
       "        vertical-align: top;\n",
       "    }\n",
       "\n",
       "    .dataframe thead th {\n",
       "        text-align: right;\n",
       "    }\n",
       "</style>\n",
       "<table border=\"1\" class=\"dataframe\">\n",
       "  <thead>\n",
       "    <tr style=\"text-align: right;\">\n",
       "      <th></th>\n",
       "      <th>name</th>\n",
       "      <th>platform</th>\n",
       "      <th>year_of_release</th>\n",
       "      <th>genre</th>\n",
       "      <th>na_sales</th>\n",
       "      <th>eu_sales</th>\n",
       "      <th>jp_sales</th>\n",
       "      <th>other_sales</th>\n",
       "      <th>critic_score</th>\n",
       "      <th>user_score</th>\n",
       "      <th>rating</th>\n",
       "      <th>sales_world</th>\n",
       "    </tr>\n",
       "  </thead>\n",
       "  <tbody>\n",
       "    <tr>\n",
       "      <th>0</th>\n",
       "      <td>Wii Sports</td>\n",
       "      <td>Wii</td>\n",
       "      <td>2006</td>\n",
       "      <td>Sports</td>\n",
       "      <td>41.36</td>\n",
       "      <td>28.96</td>\n",
       "      <td>3.77</td>\n",
       "      <td>8.45</td>\n",
       "      <td>76.0</td>\n",
       "      <td>8.0</td>\n",
       "      <td>E</td>\n",
       "      <td>82.54</td>\n",
       "    </tr>\n",
       "    <tr>\n",
       "      <th>1</th>\n",
       "      <td>Super Mario Bros.</td>\n",
       "      <td>NES</td>\n",
       "      <td>1985</td>\n",
       "      <td>Platform</td>\n",
       "      <td>29.08</td>\n",
       "      <td>3.58</td>\n",
       "      <td>6.81</td>\n",
       "      <td>0.77</td>\n",
       "      <td>NaN</td>\n",
       "      <td>NaN</td>\n",
       "      <td>NaN</td>\n",
       "      <td>40.24</td>\n",
       "    </tr>\n",
       "    <tr>\n",
       "      <th>2</th>\n",
       "      <td>Mario Kart Wii</td>\n",
       "      <td>Wii</td>\n",
       "      <td>2008</td>\n",
       "      <td>Racing</td>\n",
       "      <td>15.68</td>\n",
       "      <td>12.76</td>\n",
       "      <td>3.79</td>\n",
       "      <td>3.29</td>\n",
       "      <td>82.0</td>\n",
       "      <td>8.3</td>\n",
       "      <td>E</td>\n",
       "      <td>35.52</td>\n",
       "    </tr>\n",
       "    <tr>\n",
       "      <th>3</th>\n",
       "      <td>Wii Sports Resort</td>\n",
       "      <td>Wii</td>\n",
       "      <td>2009</td>\n",
       "      <td>Sports</td>\n",
       "      <td>15.61</td>\n",
       "      <td>10.93</td>\n",
       "      <td>3.28</td>\n",
       "      <td>2.95</td>\n",
       "      <td>80.0</td>\n",
       "      <td>8.0</td>\n",
       "      <td>E</td>\n",
       "      <td>32.77</td>\n",
       "    </tr>\n",
       "    <tr>\n",
       "      <th>4</th>\n",
       "      <td>Pokemon Red/Pokemon Blue</td>\n",
       "      <td>GB</td>\n",
       "      <td>1996</td>\n",
       "      <td>Role-Playing</td>\n",
       "      <td>11.27</td>\n",
       "      <td>8.89</td>\n",
       "      <td>10.22</td>\n",
       "      <td>1.00</td>\n",
       "      <td>NaN</td>\n",
       "      <td>NaN</td>\n",
       "      <td>NaN</td>\n",
       "      <td>31.38</td>\n",
       "    </tr>\n",
       "  </tbody>\n",
       "</table>\n",
       "</div>"
      ],
      "text/plain": [
       "                       name platform  year_of_release         genre  na_sales  \\\n",
       "0                Wii Sports      Wii             2006        Sports     41.36   \n",
       "1         Super Mario Bros.      NES             1985      Platform     29.08   \n",
       "2            Mario Kart Wii      Wii             2008        Racing     15.68   \n",
       "3         Wii Sports Resort      Wii             2009        Sports     15.61   \n",
       "4  Pokemon Red/Pokemon Blue       GB             1996  Role-Playing     11.27   \n",
       "\n",
       "   eu_sales  jp_sales  other_sales  critic_score  user_score rating  \\\n",
       "0     28.96      3.77         8.45          76.0         8.0      E   \n",
       "1      3.58      6.81         0.77           NaN         NaN    NaN   \n",
       "2     12.76      3.79         3.29          82.0         8.3      E   \n",
       "3     10.93      3.28         2.95          80.0         8.0      E   \n",
       "4      8.89     10.22         1.00           NaN         NaN    NaN   \n",
       "\n",
       "   sales_world  \n",
       "0        82.54  \n",
       "1        40.24  \n",
       "2        35.52  \n",
       "3        32.77  \n",
       "4        31.38  "
      ]
     },
     "execution_count": 55,
     "metadata": {},
     "output_type": "execute_result"
    }
   ],
   "source": [
    "#посчитаем суммарные продажи во всех регионах и создадим новый столбец\n",
    "data['sales_world'] = data['na_sales'] + data['eu_sales'] + data['jp_sales'] + data['other_sales']\n",
    "data.head() #проверка"
   ]
  },
  {
   "cell_type": "markdown",
   "metadata": {},
   "source": [
    "<div class=\"alert alert-success\">\n",
    "<b>Комментарий ревьюера: ✅</b>\n",
    "\n",
    "Кстати мы можем применить метод `sum(axis=1)` к суммируемым столбцам.\n",
    "    \n",
    "`df[['col1', 'col2', 'col3']].sum(axis=1)`\n",
    "</div>"
   ]
  },
  {
   "cell_type": "markdown",
   "metadata": {},
   "source": [
    "# Вывод\n",
    "Мы избавились от пропусков там, где это возможно. Привели к нужному типу столбцы year_of_release и user_score. Создали новый столбец sales_world, где посчитали суммарные продажи во всех регионах."
   ]
  },
  {
   "cell_type": "markdown",
   "metadata": {},
   "source": [
    "# 3. Исследовательский анализ данных"
   ]
  },
  {
   "cell_type": "markdown",
   "metadata": {},
   "source": [
    "Посмотрим сколько игр выпускалось в разные годы. Важны ли данные за все периоды?"
   ]
  },
  {
   "cell_type": "markdown",
   "metadata": {},
   "source": [
    "<div class=\"alert alert-warning\">\n",
    "<b>Комментарий ревьюера: ❗️</b>\n",
    "\n",
    "<s>Если код не помещается в одну строку, рекомендую переносить его на следующую подстроку если мы внутри одного метода пишем код или с помощью обратного слеша, если применяем несколько методов. Так код читается быстрее и понятнее.\n",
    "    \n",
    "</div>"
   ]
  },
  {
   "cell_type": "code",
   "execution_count": 56,
   "metadata": {},
   "outputs": [
    {
     "data": {
      "image/png": "[encoded data removed]",
      "text/plain": [
       "<Figure size 1080x648 with 1 Axes>"
      ]
     },
     "metadata": {
      "needs_background": "light"
     },
     "output_type": "display_data"
    }
   ],
   "source": [
    "rel_per_sales = (\n",
    "    data.pivot_table(index='year_of_release', values='sales_world', aggfunc='count')\n",
    "    .plot(grid=True, figsize=(15, 9))\n",
    ")\n",
    "plt.title('Зависимость количества игр от года выпуска')\n",
    "plt.show()"
   ]
  },
  {
   "cell_type": "markdown",
   "metadata": {},
   "source": [
    "<div class=\"alert alert-warning\">\n",
    "<b>Комментарий ревьюера: ❗️</b>\n",
    "\n",
    "<s>Не забывай пожалуйста подписывать каждый график.\n",
    "    \n",
    "Это важный момент всего проекта, так быстрее понять о чем идёт речь на графике.\n",
    "    \n",
    "</div>"
   ]
  },
  {
   "cell_type": "markdown",
   "metadata": {},
   "source": [
    "# Вывод\n",
    "По графику видно, что общий рост начинается с 1990 г., с 2000 по 2002 наблюдается стремительный рост , затем пару лет небольшое падение и начиная с 2004 стремительный рост до пика в 2008 и до 2009, а затем резкое падение. Целесообразнее будет взять данные за последние 5 года."
   ]
  },
  {
   "cell_type": "markdown",
   "metadata": {},
   "source": [
    "# Как менялись продажи по платформам"
   ]
  },
  {
   "cell_type": "code",
   "execution_count": 57,
   "metadata": {},
   "outputs": [
    {
     "data": {
      "image/png": "[encoded data removed]",
      "text/plain": [
       "<Figure size 432x288 with 1 Axes>"
      ]
     },
     "metadata": {
      "needs_background": "light"
     },
     "output_type": "display_data"
    }
   ],
   "source": [
    "platform_per_sales = data.pivot_table(index='platform', values='sales_world', aggfunc='sum').sort_values('sales_world', ascending=False).plot(kind='bar')\n",
    "plt.title('Распределение продаж по платформам')\n",
    "plt.show()"
   ]
  },
  {
   "cell_type": "markdown",
   "metadata": {},
   "source": [
    "<div class=\"alert alert-success\">\n",
    "<b>Комментарий ревьюера: ✅</b>\n",
    "\n",
    "Кстати для того чтобы подписать график мы можем использовать метод `plt.title()` и в конце кода применить `plt.show()`\n",
    "</div>"
   ]
  },
  {
   "cell_type": "markdown",
   "metadata": {},
   "source": [
    "По данному графику можно сделать вывод, что 6 платформ(PS2, XBox360, PS3, Wii, DS, PS) сильно выделяются по суммарным продажам, относительно других платформ. Но эти платформы уже не актуальны. Поэтому посмотрим данные за последние 2 года. Но сначала сделаем распределение по годам и поймем примерно срок жизни платформ."
   ]
  },
  {
   "cell_type": "code",
   "execution_count": 58,
   "metadata": {},
   "outputs": [
    {
     "data": {
      "image/png": "[encoded data removed]",
      "text/plain": [
       "<Figure size 432x288 with 1 Axes>"
      ]
     },
     "metadata": {
      "needs_background": "light"
     },
     "output_type": "display_data"
    }
   ],
   "source": [
    "#PS2\n",
    "data.query('platform == \"PS2\"').pivot_table(index='year_of_release', values='sales_world', aggfunc='sum').plot(kind='bar');\n",
    "plt.title('Распределение продаж по годам PS2')\n",
    "plt.show()"
   ]
  },
  {
   "cell_type": "markdown",
   "metadata": {},
   "source": [
    "<div class=\"alert alert-success\">\n",
    "<b>Комментарий ревьюера: ✅</b>\n",
    "\n",
    "Также мы можем увеличить сам график, чтобы его было удобнее изучать с помощью метода `plt.figure(figsize=(10,7))` или если используешь методы библиотеки `pandas`, в основном всегда есть атрибут `figsize=(10,7)`, который также поможет настроить ширину и высоту графика.\n",
    "    \n",
    "</div>"
   ]
  },
  {
   "cell_type": "code",
   "execution_count": 59,
   "metadata": {},
   "outputs": [
    {
     "data": {
      "image/png": "[encoded data removed]",
      "text/plain": [
       "<Figure size 432x288 with 1 Axes>"
      ]
     },
     "metadata": {
      "needs_background": "light"
     },
     "output_type": "display_data"
    }
   ],
   "source": [
    "#X360\n",
    "data.query('platform == \"X360\"').pivot_table(index='year_of_release', values='sales_world', aggfunc='sum').plot(kind='bar');\n",
    "plt.title('Распределение продаж по годам X360')\n",
    "plt.show()"
   ]
  },
  {
   "cell_type": "code",
   "execution_count": 60,
   "metadata": {},
   "outputs": [
    {
     "data": {
      "image/png": "[encoded data removed]",
      "text/plain": [
       "<Figure size 432x288 with 1 Axes>"
      ]
     },
     "metadata": {
      "needs_background": "light"
     },
     "output_type": "display_data"
    }
   ],
   "source": [
    "#PS3\n",
    "data.query('platform == \"PS3\"').pivot_table(index='year_of_release', values='sales_world', aggfunc='sum').plot(kind='bar');\n",
    "plt.title('Распределение продаж по годам PS3')\n",
    "plt.show()"
   ]
  },
  {
   "cell_type": "markdown",
   "metadata": {},
   "source": [
    "<div class=\"alert alert-success\">\n",
    "<b>Комментарий ревьюера: ✅</b>\n",
    "\n",
    "Здорово, что визуализируешь платформы в отдельности, ведь так гораздо проще понять какая ситуация в каждой из них. Чтобы оптимизировать код внутри проекта, можно было построить графики через цикл `for`.\n",
    "    \n",
    "</div>"
   ]
  },
  {
   "cell_type": "markdown",
   "metadata": {},
   "source": [
    "Сделав распределение по годам мы заметили, что в среднем срок жизни платформы варируется от 8 до 10 лет. Затем на смену приходит новая платформа. Посмотрим на примере PS2 и PS3."
   ]
  },
  {
   "cell_type": "markdown",
   "metadata": {},
   "source": [
    "<div class=\"alert alert-success\">\n",
    "<b>Комментарий ревьюера: ✅</b>\n",
    "\n",
    "Согласен.\n",
    "    \n",
    "В том числе мы могли посчитать срок жизни платформы – вычесть из максимальной даты минимальную по каждой платформе и затем усреднить получившиеся значения.\n",
    "    \n",
    "</div>"
   ]
  },
  {
   "cell_type": "code",
   "execution_count": 61,
   "metadata": {},
   "outputs": [
    {
     "data": {
      "image/png": "[encoded data removed]",
      "text/plain": [
       "<Figure size 1080x504 with 1 Axes>"
      ]
     },
     "metadata": {
      "needs_background": "light"
     },
     "output_type": "display_data"
    }
   ],
   "source": [
    "ps2_data = data.query('platform == \"PS2\"')\n",
    "ps3_data = data.query('platform == \"PS3\"')\n",
    "plt.figure(figsize=(15,7))\n",
    "plt.plot(ps2_data.groupby('year_of_release')['sales_world'].sum(), label='PS2')\n",
    "plt.plot(ps3_data.groupby('year_of_release')['sales_world'].sum(), label='PS3')\n",
    "plt.legend()\n",
    "plt.xlabel('Год выпуска')\n",
    "plt.ylabel('Количество продаж')\n",
    "plt.title('Пересечение прадаж платформ PS3 и PS4')\n",
    "plt.show()"
   ]
  },
  {
   "cell_type": "markdown",
   "metadata": {},
   "source": [
    "На примере старого и нового поколения платформ мы видим новая платформа выпускается уже на сильном спаде старой, а их пересечение мы наблюдаем в 2007 году. Так же старая платформа на пике имеет больше продаж.  "
   ]
  },
  {
   "cell_type": "code",
   "execution_count": 62,
   "metadata": {},
   "outputs": [],
   "source": [
    "#создаем новую базу за актуальный период\n",
    "new_data = data.query('year_of_release >= 2012')"
   ]
  },
  {
   "cell_type": "markdown",
   "metadata": {},
   "source": [
    "<div class=\"alert alert-danger\">\n",
    "<b>Комментарий ревьюера: ❌</b>\n",
    "\n",
    "<s>Я бы рекомендовал все таки брать 5-ти летний период, потому что именно он учитывает в себе свежие актуальные данные предыдущих периодов.\n",
    "    \n",
    "Если мы посмотрим на наши данные, то увидим пиковые росты и падения, как раз именно в этот период.\n",
    "    \n",
    "</div>"
   ]
  },
  {
   "cell_type": "code",
   "execution_count": 63,
   "metadata": {
    "scrolled": true
   },
   "outputs": [
    {
     "data": {
      "image/png": "[encoded data removed]",
      "text/plain": [
       "<Figure size 576x360 with 1 Axes>"
      ]
     },
     "metadata": {
      "needs_background": "light"
     },
     "output_type": "display_data"
    }
   ],
   "source": [
    "#постороим граафик с актуальными данными\n",
    "new_plt_pr_sls = new_data.pivot_table(index='platform', values='sales_world', aggfunc='sum').sort_values('sales_world', ascending=False).plot(kind='bar', figsize=(8,5))\n",
    "plt.title('Распределение продаж по платформам за актуальный период')\n",
    "plt.show()"
   ]
  },
  {
   "cell_type": "markdown",
   "metadata": {},
   "source": [
    "Из новых, более актуальных данных следует, что пальму первенства держит PS4, на втором PS3, а на третьем - X360.\n",
    "сделаем распределение по годам"
   ]
  },
  {
   "cell_type": "code",
   "execution_count": 64,
   "metadata": {},
   "outputs": [
    {
     "data": {
      "image/png": "[encoded data removed]",
      "text/plain": [
       "<Figure size 576x360 with 1 Axes>"
      ]
     },
     "metadata": {
      "needs_background": "light"
     },
     "output_type": "display_data"
    }
   ],
   "source": [
    "#X360\n",
    "new_data.query('platform == \"X360\"').pivot_table(index='year_of_release', values='sales_world', aggfunc='sum').plot(kind='bar', figsize=(8,5));\n",
    "plt.title('Распределение продаж по годам за актуальный период X360')\n",
    "plt.show()"
   ]
  },
  {
   "cell_type": "markdown",
   "metadata": {},
   "source": [
    "Наблюдается спад с каждым годом"
   ]
  },
  {
   "cell_type": "code",
   "execution_count": 65,
   "metadata": {},
   "outputs": [
    {
     "data": {
      "image/png": "[encoded data removed]",
      "text/plain": [
       "<Figure size 576x360 with 1 Axes>"
      ]
     },
     "metadata": {
      "needs_background": "light"
     },
     "output_type": "display_data"
    }
   ],
   "source": [
    "#PS3\n",
    "new_data.query('platform == \"PS3\"').pivot_table(index='year_of_release', values='sales_world', aggfunc='sum').plot(kind='bar', figsize=(8,5));\n",
    "plt.title('Распределение продаж по годам за актуальный период PS3')\n",
    "plt.show()"
   ]
  },
  {
   "cell_type": "markdown",
   "metadata": {},
   "source": [
    "Есть небольшой рост, а затем сильный спад в 2014 году"
   ]
  },
  {
   "cell_type": "code",
   "execution_count": 66,
   "metadata": {},
   "outputs": [
    {
     "data": {
      "image/png": "[encoded data removed]",
      "text/plain": [
       "<Figure size 576x360 with 1 Axes>"
      ]
     },
     "metadata": {
      "needs_background": "light"
     },
     "output_type": "display_data"
    }
   ],
   "source": [
    "#PS4\n",
    "new_data.query('platform == \"PS4\"').pivot_table(index='year_of_release', values='sales_world', aggfunc='sum').plot(kind='bar', figsize=(8,5));\n",
    "plt.title('Распределение продаж по годам за актуальный период PS4')\n",
    "plt.show()"
   ]
  },
  {
   "cell_type": "markdown",
   "metadata": {},
   "source": [
    "Стабильно ростущие продажи, самая успешная платформа"
   ]
  },
  {
   "cell_type": "code",
   "execution_count": 67,
   "metadata": {},
   "outputs": [
    {
     "data": {
      "image/png": "[encoded data removed]",
      "text/plain": [
       "<Figure size 576x360 with 1 Axes>"
      ]
     },
     "metadata": {
      "needs_background": "light"
     },
     "output_type": "display_data"
    }
   ],
   "source": [
    "#XOne\n",
    "new_data.query('platform == \"XOne\"').pivot_table(index='year_of_release', values='sales_world', aggfunc='sum').plot(kind='bar', figsize=(8,5));\n",
    "plt.title('Распределение продаж по годам за актуальный период XOne')\n",
    "plt.show()"
   ]
  },
  {
   "cell_type": "markdown",
   "metadata": {},
   "source": [
    "Стабильно растущие продажи"
   ]
  },
  {
   "cell_type": "code",
   "execution_count": 68,
   "metadata": {},
   "outputs": [
    {
     "data": {
      "image/png": "[encoded data removed]",
      "text/plain": [
       "<Figure size 576x360 with 1 Axes>"
      ]
     },
     "metadata": {
      "needs_background": "light"
     },
     "output_type": "display_data"
    }
   ],
   "source": [
    "#3DS\n",
    "new_data.query('platform == \"3DS\"').pivot_table(index='year_of_release', values='sales_world', aggfunc='sum').plot(kind='bar', figsize=(8,5));\n",
    "plt.title('Распределение продаж по годам за актуальный период 3DS')\n",
    "plt.show()"
   ]
  },
  {
   "cell_type": "markdown",
   "metadata": {},
   "source": [
    "Наблюдается рост, а затем небольшой спад"
   ]
  },
  {
   "cell_type": "markdown",
   "metadata": {},
   "source": [
    "Для дальнейшего исследования оставим платформы PS4, XOne, 3DS. Построим графикик \"ящик с усами\""
   ]
  },
  {
   "cell_type": "code",
   "execution_count": 69,
   "metadata": {},
   "outputs": [],
   "source": [
    "good_data = data.query('platform in [\"PS4\", \"XOne\", \"3DS\"] and  year_of_release >= 2012')"
   ]
  },
  {
   "cell_type": "code",
   "execution_count": 70,
   "metadata": {},
   "outputs": [
    {
     "data": {
      "image/png": "[encoded data removed]",
      "text/plain": [
       "<Figure size 792x720 with 1 Axes>"
      ]
     },
     "metadata": {
      "needs_background": "light"
     },
     "output_type": "display_data"
    }
   ],
   "source": [
    "good_data.boxplot(column='sales_world', by='platform', figsize=(11,10))\n",
    "plt.xlabel('Платформа')\n",
    "plt.ylabel('Продажи')\n",
    "plt.ylim(0, 5)\n",
    "plt.title('\"Ящик с усами\" по платформам')\n",
    "plt.show()"
   ]
  },
  {
   "cell_type": "markdown",
   "metadata": {},
   "source": [
    "По данному графику видно, что у всех трех платформ есть выбросы, причем они выше 3. Самая популярная платформа - PS4"
   ]
  },
  {
   "cell_type": "markdown",
   "metadata": {},
   "source": [
    "<div class=\"alert alert-success\">\n",
    "<b>Комментарий ревьюера: ✅</b>\n",
    "\n",
    "Отличный способ визуализировать разброс данных по каждой платформе 👍\n",
    "    \n",
    "Кстати мы можем использовать параметр `showfliers=False`, чтобы убрать выбросы с графика.\n",
    "    \n",
    "---\n",
    "    \n",
    "Также рекомендую посмотреть на график `boxplot` из библиотеки `seaborn`.\n",
    "    \n",
    "</div>"
   ]
  },
  {
   "cell_type": "markdown",
   "metadata": {},
   "source": [
    "# Рассмотрим, как влияют на продажи внутри одной популярной платформы отзывы пользователей и критиков. Построим диаграмму рассеяния и посчитаем корреляцию между отзывами и продажами."
   ]
  },
  {
   "cell_type": "code",
   "execution_count": 71,
   "metadata": {},
   "outputs": [
    {
     "data": {
      "image/png": "[encoded data removed]",
      "text/plain": [
       "<Figure size 576x360 with 1 Axes>"
      ]
     },
     "metadata": {
      "needs_background": "light"
     },
     "output_type": "display_data"
    },
    {
     "data": {
      "image/png": "[encoded data removed]",
      "text/plain": [
       "<Figure size 576x360 with 1 Axes>"
      ]
     },
     "metadata": {
      "needs_background": "light"
     },
     "output_type": "display_data"
    },
    {
     "name": "stdout",
     "output_type": "stream",
     "text": [
      "Корреляция между отзывами критиков и продажами:0.407\n",
      "Корреляция между отзывами игроков и продажами:-0.032\n"
     ]
    }
   ],
   "source": [
    "#строим диаграмму рассеяния для самой популярной платформы, из данных оценок критиков и игроков\n",
    "#затем посчитаем корреляцию\n",
    "popular_platform = good_data.query('platform == \"PS4\"')\n",
    "popular_platform.plot(kind='scatter', x='critic_score', y='sales_world', figsize=(8,5))\n",
    "plt.title('Диаграмма рассеяния оценок критиков платформы PS4')\n",
    "popular_platform.plot(kind='scatter', x='user_score', y='sales_world', figsize=(8,5))\n",
    "plt.title('Диаграмма рассеяния оценок игроков платформы PS4')\n",
    "plt.show()\n",
    "#корреляция\n",
    "first_cor = popular_platform['critic_score'].corr(popular_platform['sales_world'])\n",
    "second_cor = popular_platform['user_score'].corr(popular_platform['sales_world'])\n",
    "print(f'Корреляция между отзывами критиков и продажами:{first_cor:.3}')\n",
    "print(f'Корреляция между отзывами игроков и продажами:{second_cor:.3}')"
   ]
  },
  {
   "cell_type": "markdown",
   "metadata": {},
   "source": [
    "<div class=\"alert alert-danger\">\n",
    "<b>Комментарий ревьюера: ❌</b>\n",
    "\n",
    "<s>Давай все таки подпишем каждый график и таким образом повысим презентабельность всего проекта в целом.\n",
    "    \n",
    "</div>"
   ]
  },
  {
   "cell_type": "markdown",
   "metadata": {},
   "source": [
    "# Вывод\n",
    "В целом взамосвязь очевидна - чем выше оценки критиков, тем выше продажи, это видно по графику и по расчету корреляции(влияние прямое). Однако корреляция по отзывам игроков не только минимальна, но и отрицательна. Посмотрим на велечину корреляции на других платформах"
   ]
  },
  {
   "cell_type": "code",
   "execution_count": 72,
   "metadata": {},
   "outputs": [
    {
     "name": "stdout",
     "output_type": "stream",
     "text": [
      "Корреляция между отзывами критиков и продажами:0.417\n",
      "Корреляция между отзывами игроков и продажами:-0.0689\n"
     ]
    }
   ],
   "source": [
    "#Xone\n",
    "second_plat = good_data.query('platform == \"XOne\"')\n",
    "cor_one_critic = second_plat['critic_score'].corr(second_plat['sales_world'])\n",
    "cor_one_players = second_plat['user_score'].corr(second_plat['sales_world'])\n",
    "print(f'Корреляция между отзывами критиков и продажами:{cor_one_critic:.3}')\n",
    "print(f'Корреляция между отзывами игроков и продажами:{cor_one_players:.3}')"
   ]
  },
  {
   "cell_type": "code",
   "execution_count": 73,
   "metadata": {},
   "outputs": [
    {
     "name": "stdout",
     "output_type": "stream",
     "text": [
      "Корреляция между отзывами критиков и продажами:0.321\n",
      "Корреляция между отзывами игроков и продажами:0.198\n"
     ]
    }
   ],
   "source": [
    "#3DS\n",
    "third_plat = good_data.query('platform == \"3DS\"')\n",
    "cor_ds_critic = third_plat['critic_score'].corr(third_plat['sales_world'])\n",
    "cor_ds_players = third_plat['user_score'].corr(third_plat['sales_world'])\n",
    "print(f'Корреляция между отзывами критиков и продажами:{cor_ds_critic:.3}')\n",
    "print(f'Корреляция между отзывами игроков и продажами:{cor_ds_players:.3}')"
   ]
  },
  {
   "cell_type": "markdown",
   "metadata": {},
   "source": [
    "# Вывод\n",
    "Корреляция по XOne почти такая же, как и у PS4. Но у 3DS корреляция по критикам чуть меньше и зависимость прямая, а по отзывам играков уже есть разница, относительно двух других. Зависимость есть и она прямая."
   ]
  },
  {
   "cell_type": "markdown",
   "metadata": {},
   "source": [
    "<div class=\"alert alert-success\">\n",
    "<b>Комментарий ревьюера: ✅</b>\n",
    "    \n",
    "Хорошие и логичные комментарии. Очень важно строить график корреляции между переменными, ведь может произойти такая ситуация, что расчет у нас очень сильный а на графике абсолютно другая картина.\n",
    "    \n",
    "---\n",
    "\n",
    "В том числе можно было построить матрицу корреляции между нужными нам переменными.\n",
    "    \n",
    "И визуализировать её с помощью метода `heatmap` из библиотеки `seaborn`.\n",
    "    \n",
    "</div>"
   ]
  },
  {
   "cell_type": "markdown",
   "metadata": {},
   "source": [
    "# Распределение по жанрам"
   ]
  },
  {
   "cell_type": "code",
   "execution_count": 74,
   "metadata": {},
   "outputs": [
    {
     "data": {
      "image/png": "[encoded data removed]",
      "text/plain": [
       "<Figure size 576x360 with 1 Axes>"
      ]
     },
     "metadata": {
      "needs_background": "light"
     },
     "output_type": "display_data"
    }
   ],
   "source": [
    "good_data.pivot_table(index='genre', values='sales_world', aggfunc='sum').sort_values('sales_world', ascending=False).plot(kind='bar', figsize=(8,5));\n",
    "plt.title('График распределения продаж по жанрам')\n",
    "plt.show()"
   ]
  },
  {
   "cell_type": "code",
   "execution_count": 75,
   "metadata": {},
   "outputs": [
    {
     "data": {
      "text/html": [
       "<div>\n",
       "<style scoped>\n",
       "    .dataframe tbody tr th:only-of-type {\n",
       "        vertical-align: middle;\n",
       "    }\n",
       "\n",
       "    .dataframe tbody tr th {\n",
       "        vertical-align: top;\n",
       "    }\n",
       "\n",
       "    .dataframe thead th {\n",
       "        text-align: right;\n",
       "    }\n",
       "</style>\n",
       "<table border=\"1\" class=\"dataframe\">\n",
       "  <thead>\n",
       "    <tr style=\"text-align: right;\">\n",
       "      <th></th>\n",
       "      <th>Средние значения продаж</th>\n",
       "    </tr>\n",
       "    <tr>\n",
       "      <th>genre</th>\n",
       "      <th></th>\n",
       "    </tr>\n",
       "  </thead>\n",
       "  <tbody>\n",
       "    <tr>\n",
       "      <th>Shooter</th>\n",
       "      <td>1.839753</td>\n",
       "    </tr>\n",
       "    <tr>\n",
       "      <th>Sports</th>\n",
       "      <td>0.901875</td>\n",
       "    </tr>\n",
       "    <tr>\n",
       "      <th>Role-Playing</th>\n",
       "      <td>0.825278</td>\n",
       "    </tr>\n",
       "    <tr>\n",
       "      <th>Platform</th>\n",
       "      <td>0.770278</td>\n",
       "    </tr>\n",
       "    <tr>\n",
       "      <th>Simulation</th>\n",
       "      <td>0.728333</td>\n",
       "    </tr>\n",
       "    <tr>\n",
       "      <th>Fighting</th>\n",
       "      <td>0.575294</td>\n",
       "    </tr>\n",
       "    <tr>\n",
       "      <th>Racing</th>\n",
       "      <td>0.555250</td>\n",
       "    </tr>\n",
       "    <tr>\n",
       "      <th>Action</th>\n",
       "      <td>0.464675</td>\n",
       "    </tr>\n",
       "    <tr>\n",
       "      <th>Misc</th>\n",
       "      <td>0.313375</td>\n",
       "    </tr>\n",
       "    <tr>\n",
       "      <th>Puzzle</th>\n",
       "      <td>0.191429</td>\n",
       "    </tr>\n",
       "    <tr>\n",
       "      <th>Adventure</th>\n",
       "      <td>0.177600</td>\n",
       "    </tr>\n",
       "    <tr>\n",
       "      <th>Strategy</th>\n",
       "      <td>0.115500</td>\n",
       "    </tr>\n",
       "  </tbody>\n",
       "</table>\n",
       "</div>"
      ],
      "text/plain": [
       "              Средние значения продаж\n",
       "genre                                \n",
       "Shooter                      1.839753\n",
       "Sports                       0.901875\n",
       "Role-Playing                 0.825278\n",
       "Platform                     0.770278\n",
       "Simulation                   0.728333\n",
       "Fighting                     0.575294\n",
       "Racing                       0.555250\n",
       "Action                       0.464675\n",
       "Misc                         0.313375\n",
       "Puzzle                       0.191429\n",
       "Adventure                    0.177600\n",
       "Strategy                     0.115500"
      ]
     },
     "execution_count": 75,
     "metadata": {},
     "output_type": "execute_result"
    },
    {
     "data": {
      "image/png": "[encoded data removed]",
      "text/plain": [
       "<Figure size 576x360 with 1 Axes>"
      ]
     },
     "metadata": {
      "needs_background": "light"
     },
     "output_type": "display_data"
    }
   ],
   "source": [
    "data_sr = good_data.pivot_table(index='genre', values='sales_world', aggfunc='mean').sort_values('sales_world', ascending=False)\n",
    "data_sr.columns = ['Средние значения продаж']\n",
    "data_sr.plot(kind='bar', figsize=(8,5));\n",
    "data_sr"
   ]
  },
  {
   "cell_type": "markdown",
   "metadata": {},
   "source": [
    "# Вывод\n",
    "Из графика мы выдим, что самые популярные жанры это Action и Shooter, затем примерно наравне идут ролевые и спортивные игры. Самые непопулярные это симуляторы, стратегии и пазлы.\n",
    "Если обратить внимание на средние значения продаж, то на первое место с большим отрывом вырываются шутеры, чуть хуже дела у спортивных и ролевых игр. Самые не популярные - пазлы, приключения и стратегии. "
   ]
  },
  {
   "cell_type": "markdown",
   "metadata": {},
   "source": [
    "<div class=\"alert alert-danger\">\n",
    "<b>Комментарий ревьюера: ❌</b>\n",
    "\n",
    "<s>А если мы посмотрим на средние значения продаж, какие выводы мы сможем сделать ? \n",
    "    \n",
    "Почему на средние значения ? \n",
    "    \n",
    "Т.к. эта метрика более устойчива к выбросам, чем просто суммы и количественные показатели.\n",
    "    \n",
    "</div>"
   ]
  },
  {
   "cell_type": "markdown",
   "metadata": {},
   "source": [
    "# 4  Составим портрет пользователя каждого региона"
   ]
  },
  {
   "cell_type": "markdown",
   "metadata": {},
   "source": [
    "Определить для пользователя каждого региона (NA, EU, JP):\n",
    "Самые популярные платформы (топ-5)"
   ]
  },
  {
   "cell_type": "code",
   "execution_count": 77,
   "metadata": {},
   "outputs": [
    {
     "data": {
      "image/png": "[encoded data removed]",
      "text/plain": [
       "<Figure size 576x360 with 1 Axes>"
      ]
     },
     "metadata": {
      "needs_background": "light"
     },
     "output_type": "display_data"
    },
    {
     "data": {
      "text/html": [
       "<div>\n",
       "<style scoped>\n",
       "    .dataframe tbody tr th:only-of-type {\n",
       "        vertical-align: middle;\n",
       "    }\n",
       "\n",
       "    .dataframe tbody tr th {\n",
       "        vertical-align: top;\n",
       "    }\n",
       "\n",
       "    .dataframe thead th {\n",
       "        text-align: right;\n",
       "    }\n",
       "</style>\n",
       "<table border=\"1\" class=\"dataframe\">\n",
       "  <thead>\n",
       "    <tr style=\"text-align: right;\">\n",
       "      <th></th>\n",
       "      <th>Продажи в Америке</th>\n",
       "    </tr>\n",
       "    <tr>\n",
       "      <th>platform</th>\n",
       "      <th></th>\n",
       "    </tr>\n",
       "  </thead>\n",
       "  <tbody>\n",
       "    <tr>\n",
       "      <th>X360</th>\n",
       "      <td>140.05</td>\n",
       "    </tr>\n",
       "    <tr>\n",
       "      <th>PS4</th>\n",
       "      <td>108.74</td>\n",
       "    </tr>\n",
       "    <tr>\n",
       "      <th>PS3</th>\n",
       "      <td>103.38</td>\n",
       "    </tr>\n",
       "    <tr>\n",
       "      <th>XOne</th>\n",
       "      <td>93.12</td>\n",
       "    </tr>\n",
       "    <tr>\n",
       "      <th>3DS</th>\n",
       "      <td>55.31</td>\n",
       "    </tr>\n",
       "  </tbody>\n",
       "</table>\n",
       "</div>"
      ],
      "text/plain": [
       "          Продажи в Америке\n",
       "platform                   \n",
       "X360                 140.05\n",
       "PS4                  108.74\n",
       "PS3                  103.38\n",
       "XOne                  93.12\n",
       "3DS                   55.31"
      ]
     },
     "execution_count": 77,
     "metadata": {},
     "output_type": "execute_result"
    }
   ],
   "source": [
    "#Америка\n",
    "top_5na_plat = new_data.pivot_table(index = 'platform', values = 'na_sales', aggfunc='sum')\n",
    "top_5na_plat.columns = ['Продажи в Америке']\n",
    "top_5na_plat = top_5na_plat.sort_values('Продажи в Америке', ascending = False).head(5)\n",
    "top_5na_plat.plot(kind='bar', figsize=(8,5))\n",
    "plt.title('Топ 5 платформ в Америке')\n",
    "plt.show()\n",
    "top_5na_plat"
   ]
  },
  {
   "cell_type": "code",
   "execution_count": 78,
   "metadata": {},
   "outputs": [
    {
     "data": {
      "image/png": "[encoded data removed]",
      "text/plain": [
       "<Figure size 576x360 with 1 Axes>"
      ]
     },
     "metadata": {
      "needs_background": "light"
     },
     "output_type": "display_data"
    },
    {
     "data": {
      "text/html": [
       "<div>\n",
       "<style scoped>\n",
       "    .dataframe tbody tr th:only-of-type {\n",
       "        vertical-align: middle;\n",
       "    }\n",
       "\n",
       "    .dataframe tbody tr th {\n",
       "        vertical-align: top;\n",
       "    }\n",
       "\n",
       "    .dataframe thead th {\n",
       "        text-align: right;\n",
       "    }\n",
       "</style>\n",
       "<table border=\"1\" class=\"dataframe\">\n",
       "  <thead>\n",
       "    <tr style=\"text-align: right;\">\n",
       "      <th></th>\n",
       "      <th>Продажи в Европе</th>\n",
       "    </tr>\n",
       "    <tr>\n",
       "      <th>platform</th>\n",
       "      <th></th>\n",
       "    </tr>\n",
       "  </thead>\n",
       "  <tbody>\n",
       "    <tr>\n",
       "      <th>PS4</th>\n",
       "      <td>141.09</td>\n",
       "    </tr>\n",
       "    <tr>\n",
       "      <th>PS3</th>\n",
       "      <td>106.86</td>\n",
       "    </tr>\n",
       "    <tr>\n",
       "      <th>X360</th>\n",
       "      <td>74.52</td>\n",
       "    </tr>\n",
       "    <tr>\n",
       "      <th>XOne</th>\n",
       "      <td>51.59</td>\n",
       "    </tr>\n",
       "    <tr>\n",
       "      <th>3DS</th>\n",
       "      <td>42.64</td>\n",
       "    </tr>\n",
       "  </tbody>\n",
       "</table>\n",
       "</div>"
      ],
      "text/plain": [
       "          Продажи в Европе\n",
       "platform                  \n",
       "PS4                 141.09\n",
       "PS3                 106.86\n",
       "X360                 74.52\n",
       "XOne                 51.59\n",
       "3DS                  42.64"
      ]
     },
     "execution_count": 78,
     "metadata": {},
     "output_type": "execute_result"
    }
   ],
   "source": [
    "#Европа\n",
    "top_5eu_plat = new_data.pivot_table(index = 'platform', values = 'eu_sales', aggfunc='sum')\n",
    "top_5eu_plat.columns = ['Продажи в Европе']\n",
    "top_5eu_plat = top_5eu_plat.sort_values('Продажи в Европе', ascending = False).head(5)\n",
    "top_5eu_plat.plot(kind='bar', figsize=(8,5))\n",
    "plt.title('Топ 5 платформ в Европе')\n",
    "plt.show()\n",
    "top_5eu_plat"
   ]
  },
  {
   "cell_type": "code",
   "execution_count": 80,
   "metadata": {},
   "outputs": [
    {
     "data": {
      "image/png": "[encoded data removed]",
      "text/plain": [
       "<Figure size 576x360 with 1 Axes>"
      ]
     },
     "metadata": {
      "needs_background": "light"
     },
     "output_type": "display_data"
    },
    {
     "data": {
      "text/html": [
       "<div>\n",
       "<style scoped>\n",
       "    .dataframe tbody tr th:only-of-type {\n",
       "        vertical-align: middle;\n",
       "    }\n",
       "\n",
       "    .dataframe tbody tr th {\n",
       "        vertical-align: top;\n",
       "    }\n",
       "\n",
       "    .dataframe thead th {\n",
       "        text-align: right;\n",
       "    }\n",
       "</style>\n",
       "<table border=\"1\" class=\"dataframe\">\n",
       "  <thead>\n",
       "    <tr style=\"text-align: right;\">\n",
       "      <th></th>\n",
       "      <th>Продажи в Японии</th>\n",
       "    </tr>\n",
       "    <tr>\n",
       "      <th>platform</th>\n",
       "      <th></th>\n",
       "    </tr>\n",
       "  </thead>\n",
       "  <tbody>\n",
       "    <tr>\n",
       "      <th>3DS</th>\n",
       "      <td>87.79</td>\n",
       "    </tr>\n",
       "    <tr>\n",
       "      <th>PS3</th>\n",
       "      <td>35.29</td>\n",
       "    </tr>\n",
       "    <tr>\n",
       "      <th>PSV</th>\n",
       "      <td>21.04</td>\n",
       "    </tr>\n",
       "    <tr>\n",
       "      <th>PS4</th>\n",
       "      <td>15.96</td>\n",
       "    </tr>\n",
       "    <tr>\n",
       "      <th>WiiU</th>\n",
       "      <td>13.01</td>\n",
       "    </tr>\n",
       "  </tbody>\n",
       "</table>\n",
       "</div>"
      ],
      "text/plain": [
       "          Продажи в Японии\n",
       "platform                  \n",
       "3DS                  87.79\n",
       "PS3                  35.29\n",
       "PSV                  21.04\n",
       "PS4                  15.96\n",
       "WiiU                 13.01"
      ]
     },
     "execution_count": 80,
     "metadata": {},
     "output_type": "execute_result"
    }
   ],
   "source": [
    "#Япония\n",
    "top_5jp_plat = new_data.pivot_table(index = 'platform', values = 'jp_sales', aggfunc='sum')\n",
    "top_5jp_plat.columns = ['Продажи в Японии']\n",
    "top_5jp_plat = top_5jp_plat.sort_values('Продажи в Японии', ascending = False).head(5)\n",
    "top_5jp_plat.plot(kind='bar', figsize=(8,5))\n",
    "plt.title('Топ 5 платформ в Японии')\n",
    "plt.show()\n",
    "top_5jp_plat"
   ]
  },
  {
   "cell_type": "markdown",
   "metadata": {},
   "source": [
    "# Вывод\n",
    "В Америке и в Европе на первых трех местах платформы PS4, PS3 и X360, с той лишь разницей, что в Америке предпочитают платформу от майкрософт, а в Европе от сони. В Японии как ни странно на первом месте 3DS. А PS3 лишь на втором месте. В Америке самая непопулярная платформа 3DS, как и в Европе, а в Японии - WiiU.  "
   ]
  },
  {
   "cell_type": "markdown",
   "metadata": {},
   "source": [
    "Определить для пользователя каждого региона (NA, EU, JP): \n",
    "Самые популярные жанры (топ-5)."
   ]
  },
  {
   "cell_type": "code",
   "execution_count": 81,
   "metadata": {},
   "outputs": [
    {
     "data": {
      "image/png": "[encoded data removed]",
      "text/plain": [
       "<Figure size 576x360 with 1 Axes>"
      ]
     },
     "metadata": {
      "needs_background": "light"
     },
     "output_type": "display_data"
    },
    {
     "data": {
      "text/html": [
       "<div>\n",
       "<style scoped>\n",
       "    .dataframe tbody tr th:only-of-type {\n",
       "        vertical-align: middle;\n",
       "    }\n",
       "\n",
       "    .dataframe tbody tr th {\n",
       "        vertical-align: top;\n",
       "    }\n",
       "\n",
       "    .dataframe thead th {\n",
       "        text-align: right;\n",
       "    }\n",
       "</style>\n",
       "<table border=\"1\" class=\"dataframe\">\n",
       "  <thead>\n",
       "    <tr style=\"text-align: right;\">\n",
       "      <th></th>\n",
       "      <th>Продажи по жанрам</th>\n",
       "    </tr>\n",
       "    <tr>\n",
       "      <th>genre</th>\n",
       "      <th></th>\n",
       "    </tr>\n",
       "  </thead>\n",
       "  <tbody>\n",
       "    <tr>\n",
       "      <th>Action</th>\n",
       "      <td>177.84</td>\n",
       "    </tr>\n",
       "    <tr>\n",
       "      <th>Shooter</th>\n",
       "      <td>144.77</td>\n",
       "    </tr>\n",
       "    <tr>\n",
       "      <th>Sports</th>\n",
       "      <td>81.53</td>\n",
       "    </tr>\n",
       "    <tr>\n",
       "      <th>Role-Playing</th>\n",
       "      <td>64.00</td>\n",
       "    </tr>\n",
       "    <tr>\n",
       "      <th>Misc</th>\n",
       "      <td>38.19</td>\n",
       "    </tr>\n",
       "  </tbody>\n",
       "</table>\n",
       "</div>"
      ],
      "text/plain": [
       "              Продажи по жанрам\n",
       "genre                          \n",
       "Action                   177.84\n",
       "Shooter                  144.77\n",
       "Sports                    81.53\n",
       "Role-Playing              64.00\n",
       "Misc                      38.19"
      ]
     },
     "execution_count": 81,
     "metadata": {},
     "output_type": "execute_result"
    }
   ],
   "source": [
    "#Америка\n",
    "top_5na_genr = new_data.pivot_table(index = 'genre', values = 'na_sales', aggfunc='sum')\n",
    "top_5na_genr.columns = ['Продажи по жанрам']\n",
    "top_5na_genr = top_5na_genr.sort_values('Продажи по жанрам', ascending = False).head(5)\n",
    "top_5na_genr.plot(kind='bar', figsize=(8,5))\n",
    "plt.title('Топ 5 жанров в Америке')\n",
    "plt.show()\n",
    "top_5na_genr"
   ]
  },
  {
   "cell_type": "code",
   "execution_count": 82,
   "metadata": {},
   "outputs": [
    {
     "data": {
      "image/png": "[encoded data removed]",
      "text/plain": [
       "<Figure size 576x360 with 1 Axes>"
      ]
     },
     "metadata": {
      "needs_background": "light"
     },
     "output_type": "display_data"
    },
    {
     "data": {
      "text/html": [
       "<div>\n",
       "<style scoped>\n",
       "    .dataframe tbody tr th:only-of-type {\n",
       "        vertical-align: middle;\n",
       "    }\n",
       "\n",
       "    .dataframe tbody tr th {\n",
       "        vertical-align: top;\n",
       "    }\n",
       "\n",
       "    .dataframe thead th {\n",
       "        text-align: right;\n",
       "    }\n",
       "</style>\n",
       "<table border=\"1\" class=\"dataframe\">\n",
       "  <thead>\n",
       "    <tr style=\"text-align: right;\">\n",
       "      <th></th>\n",
       "      <th>Продажи по жанрам</th>\n",
       "    </tr>\n",
       "    <tr>\n",
       "      <th>genre</th>\n",
       "      <th></th>\n",
       "    </tr>\n",
       "  </thead>\n",
       "  <tbody>\n",
       "    <tr>\n",
       "      <th>Action</th>\n",
       "      <td>159.34</td>\n",
       "    </tr>\n",
       "    <tr>\n",
       "      <th>Shooter</th>\n",
       "      <td>113.47</td>\n",
       "    </tr>\n",
       "    <tr>\n",
       "      <th>Sports</th>\n",
       "      <td>69.09</td>\n",
       "    </tr>\n",
       "    <tr>\n",
       "      <th>Role-Playing</th>\n",
       "      <td>48.53</td>\n",
       "    </tr>\n",
       "    <tr>\n",
       "      <th>Racing</th>\n",
       "      <td>27.29</td>\n",
       "    </tr>\n",
       "  </tbody>\n",
       "</table>\n",
       "</div>"
      ],
      "text/plain": [
       "              Продажи по жанрам\n",
       "genre                          \n",
       "Action                   159.34\n",
       "Shooter                  113.47\n",
       "Sports                    69.09\n",
       "Role-Playing              48.53\n",
       "Racing                    27.29"
      ]
     },
     "execution_count": 82,
     "metadata": {},
     "output_type": "execute_result"
    }
   ],
   "source": [
    "#Европа\n",
    "top_5eu_genr = new_data.pivot_table(index = 'genre', values = 'eu_sales', aggfunc='sum')\n",
    "top_5eu_genr.columns = ['Продажи по жанрам']\n",
    "top_5eu_genr = top_5eu_genr.sort_values('Продажи по жанрам', ascending = False).head(5)\n",
    "top_5eu_genr.plot(kind='bar', figsize=(8,5))\n",
    "plt.title('Топ 5 жанров в Европе')\n",
    "plt.show()\n",
    "top_5eu_genr"
   ]
  },
  {
   "cell_type": "code",
   "execution_count": 83,
   "metadata": {},
   "outputs": [
    {
     "data": {
      "image/png": "[encoded data removed]",
      "text/plain": [
       "<Figure size 576x360 with 1 Axes>"
      ]
     },
     "metadata": {
      "needs_background": "light"
     },
     "output_type": "display_data"
    },
    {
     "data": {
      "text/html": [
       "<div>\n",
       "<style scoped>\n",
       "    .dataframe tbody tr th:only-of-type {\n",
       "        vertical-align: middle;\n",
       "    }\n",
       "\n",
       "    .dataframe tbody tr th {\n",
       "        vertical-align: top;\n",
       "    }\n",
       "\n",
       "    .dataframe thead th {\n",
       "        text-align: right;\n",
       "    }\n",
       "</style>\n",
       "<table border=\"1\" class=\"dataframe\">\n",
       "  <thead>\n",
       "    <tr style=\"text-align: right;\">\n",
       "      <th></th>\n",
       "      <th>Продажи по жанрам</th>\n",
       "    </tr>\n",
       "    <tr>\n",
       "      <th>genre</th>\n",
       "      <th></th>\n",
       "    </tr>\n",
       "  </thead>\n",
       "  <tbody>\n",
       "    <tr>\n",
       "      <th>Role-Playing</th>\n",
       "      <td>65.44</td>\n",
       "    </tr>\n",
       "    <tr>\n",
       "      <th>Action</th>\n",
       "      <td>52.80</td>\n",
       "    </tr>\n",
       "    <tr>\n",
       "      <th>Misc</th>\n",
       "      <td>12.86</td>\n",
       "    </tr>\n",
       "    <tr>\n",
       "      <th>Simulation</th>\n",
       "      <td>10.41</td>\n",
       "    </tr>\n",
       "    <tr>\n",
       "      <th>Fighting</th>\n",
       "      <td>9.44</td>\n",
       "    </tr>\n",
       "  </tbody>\n",
       "</table>\n",
       "</div>"
      ],
      "text/plain": [
       "              Продажи по жанрам\n",
       "genre                          \n",
       "Role-Playing              65.44\n",
       "Action                    52.80\n",
       "Misc                      12.86\n",
       "Simulation                10.41\n",
       "Fighting                   9.44"
      ]
     },
     "execution_count": 83,
     "metadata": {},
     "output_type": "execute_result"
    }
   ],
   "source": [
    "#Япония\n",
    "top_5jp_genr = new_data.pivot_table(index = 'genre', values = 'jp_sales', aggfunc='sum')\n",
    "top_5jp_genr.columns = ['Продажи по жанрам']\n",
    "top_5jp_genr = top_5jp_genr.sort_values('Продажи по жанрам', ascending = False).head(5)\n",
    "top_5jp_genr.plot(kind='bar', figsize=(8,5))\n",
    "plt.title('Топ 5 жанров в Японии')\n",
    "plt.show()\n",
    "top_5jp_genr"
   ]
  },
  {
   "cell_type": "markdown",
   "metadata": {},
   "source": [
    "# Вывод\n",
    "В Америке и в Европе абсолютно одинаковый топ 5. На первых двух местах Action и Shooter. Самый непопулярный жанр - Mics. А в Японии самые популярные - Role-Playing и Action, непопулярные - Simulation и Fighting. Америка и Европа более или менее похожие рынки как и по жанрам так и по платформам. Японский рынок не похож ни на один другой.    "
   ]
  },
  {
   "cell_type": "markdown",
   "metadata": {},
   "source": [
    "Влияет ли рейтинг ESRB на продажи в отдельном регионе?"
   ]
  },
  {
   "cell_type": "code",
   "execution_count": 85,
   "metadata": {},
   "outputs": [
    {
     "data": {
      "image/png": "[encoded data removed]",
      "text/plain": [
       "<Figure size 576x360 with 1 Axes>"
      ]
     },
     "metadata": {
      "needs_background": "light"
     },
     "output_type": "display_data"
    },
    {
     "data": {
      "text/html": [
       "<div>\n",
       "<style scoped>\n",
       "    .dataframe tbody tr th:only-of-type {\n",
       "        vertical-align: middle;\n",
       "    }\n",
       "\n",
       "    .dataframe tbody tr th {\n",
       "        vertical-align: top;\n",
       "    }\n",
       "\n",
       "    .dataframe thead th {\n",
       "        text-align: right;\n",
       "    }\n",
       "</style>\n",
       "<table border=\"1\" class=\"dataframe\">\n",
       "  <thead>\n",
       "    <tr style=\"text-align: right;\">\n",
       "      <th></th>\n",
       "      <th>Продажи по рейтингу</th>\n",
       "    </tr>\n",
       "    <tr>\n",
       "      <th>rating</th>\n",
       "      <th></th>\n",
       "    </tr>\n",
       "  </thead>\n",
       "  <tbody>\n",
       "    <tr>\n",
       "      <th>M</th>\n",
       "      <td>231.57</td>\n",
       "    </tr>\n",
       "    <tr>\n",
       "      <th>E</th>\n",
       "      <td>114.37</td>\n",
       "    </tr>\n",
       "    <tr>\n",
       "      <th>E10+</th>\n",
       "      <td>75.70</td>\n",
       "    </tr>\n",
       "    <tr>\n",
       "      <th>T</th>\n",
       "      <td>66.02</td>\n",
       "    </tr>\n",
       "  </tbody>\n",
       "</table>\n",
       "</div>"
      ],
      "text/plain": [
       "        Продажи по рейтингу\n",
       "rating                     \n",
       "M                    231.57\n",
       "E                    114.37\n",
       "E10+                  75.70\n",
       "T                     66.02"
      ]
     },
     "execution_count": 85,
     "metadata": {},
     "output_type": "execute_result"
    }
   ],
   "source": [
    "#Америка\n",
    "esrb_top_na = new_data.pivot_table(index = 'rating', values = 'na_sales', aggfunc='sum')\n",
    "esrb_top_na.columns = ['Продажи по рейтингу']\n",
    "esrb_top_na = esrb_top_na.sort_values('Продажи по рейтингу', ascending = False)\n",
    "esrb_top_na.plot(kind='bar', figsize=(8,5))\n",
    "plt.title('Распределение по рейтингу в Америке')\n",
    "plt.show()\n",
    "esrb_top_na"
   ]
  },
  {
   "cell_type": "code",
   "execution_count": 86,
   "metadata": {},
   "outputs": [
    {
     "data": {
      "image/png": "[encoded data removed]",
      "text/plain": [
       "<Figure size 576x360 with 1 Axes>"
      ]
     },
     "metadata": {
      "needs_background": "light"
     },
     "output_type": "display_data"
    },
    {
     "data": {
      "text/html": [
       "<div>\n",
       "<style scoped>\n",
       "    .dataframe tbody tr th:only-of-type {\n",
       "        vertical-align: middle;\n",
       "    }\n",
       "\n",
       "    .dataframe tbody tr th {\n",
       "        vertical-align: top;\n",
       "    }\n",
       "\n",
       "    .dataframe thead th {\n",
       "        text-align: right;\n",
       "    }\n",
       "</style>\n",
       "<table border=\"1\" class=\"dataframe\">\n",
       "  <thead>\n",
       "    <tr style=\"text-align: right;\">\n",
       "      <th></th>\n",
       "      <th>Продажи по рейтингу</th>\n",
       "    </tr>\n",
       "    <tr>\n",
       "      <th>rating</th>\n",
       "      <th></th>\n",
       "    </tr>\n",
       "  </thead>\n",
       "  <tbody>\n",
       "    <tr>\n",
       "      <th>M</th>\n",
       "      <td>193.96</td>\n",
       "    </tr>\n",
       "    <tr>\n",
       "      <th>E</th>\n",
       "      <td>113.03</td>\n",
       "    </tr>\n",
       "    <tr>\n",
       "      <th>E10+</th>\n",
       "      <td>55.37</td>\n",
       "    </tr>\n",
       "    <tr>\n",
       "      <th>T</th>\n",
       "      <td>52.96</td>\n",
       "    </tr>\n",
       "  </tbody>\n",
       "</table>\n",
       "</div>"
      ],
      "text/plain": [
       "        Продажи по рейтингу\n",
       "rating                     \n",
       "M                    193.96\n",
       "E                    113.03\n",
       "E10+                  55.37\n",
       "T                     52.96"
      ]
     },
     "execution_count": 86,
     "metadata": {},
     "output_type": "execute_result"
    }
   ],
   "source": [
    "#Европа\n",
    "esrb_top_eu = new_data.pivot_table(index = 'rating', values = 'eu_sales', aggfunc='sum')\n",
    "esrb_top_eu.columns = ['Продажи по рейтингу']\n",
    "esrb_top_eu = esrb_top_eu.sort_values('Продажи по рейтингу', ascending = False)\n",
    "esrb_top_eu.plot(kind='bar', figsize=(8,5))\n",
    "plt.title('Распределение по рейтингу в Европе')\n",
    "plt.show()\n",
    "esrb_top_eu"
   ]
  },
  {
   "cell_type": "code",
   "execution_count": 87,
   "metadata": {},
   "outputs": [
    {
     "data": {
      "image/png": "[encoded data removed]",
      "text/plain": [
       "<Figure size 576x360 with 1 Axes>"
      ]
     },
     "metadata": {
      "needs_background": "light"
     },
     "output_type": "display_data"
    },
    {
     "data": {
      "text/html": [
       "<div>\n",
       "<style scoped>\n",
       "    .dataframe tbody tr th:only-of-type {\n",
       "        vertical-align: middle;\n",
       "    }\n",
       "\n",
       "    .dataframe tbody tr th {\n",
       "        vertical-align: top;\n",
       "    }\n",
       "\n",
       "    .dataframe thead th {\n",
       "        text-align: right;\n",
       "    }\n",
       "</style>\n",
       "<table border=\"1\" class=\"dataframe\">\n",
       "  <thead>\n",
       "    <tr style=\"text-align: right;\">\n",
       "      <th></th>\n",
       "      <th>Продажи по рейтингу</th>\n",
       "    </tr>\n",
       "    <tr>\n",
       "      <th>rating</th>\n",
       "      <th></th>\n",
       "    </tr>\n",
       "  </thead>\n",
       "  <tbody>\n",
       "    <tr>\n",
       "      <th>E</th>\n",
       "      <td>28.33</td>\n",
       "    </tr>\n",
       "    <tr>\n",
       "      <th>T</th>\n",
       "      <td>26.02</td>\n",
       "    </tr>\n",
       "    <tr>\n",
       "      <th>M</th>\n",
       "      <td>21.20</td>\n",
       "    </tr>\n",
       "    <tr>\n",
       "      <th>E10+</th>\n",
       "      <td>8.19</td>\n",
       "    </tr>\n",
       "  </tbody>\n",
       "</table>\n",
       "</div>"
      ],
      "text/plain": [
       "        Продажи по рейтингу\n",
       "rating                     \n",
       "E                     28.33\n",
       "T                     26.02\n",
       "M                     21.20\n",
       "E10+                   8.19"
      ]
     },
     "execution_count": 87,
     "metadata": {},
     "output_type": "execute_result"
    }
   ],
   "source": [
    "#Япония\n",
    "esrb_top_jp = new_data.pivot_table(index = 'rating', values = 'jp_sales', aggfunc='sum')\n",
    "esrb_top_jp.columns = ['Продажи по рейтингу']\n",
    "esrb_top_jp = esrb_top_jp.sort_values('Продажи по рейтингу', ascending = False)\n",
    "esrb_top_jp.plot(kind='bar', figsize=(8,5))\n",
    "plt.title('Распределение по рейтингу в Японии')\n",
    "plt.show()\n",
    "esrb_top_jp"
   ]
  },
  {
   "cell_type": "markdown",
   "metadata": {},
   "source": [
    "Пользователи Америки и Европы отдают предпочтение одним и тем же играм с одинаковым рейтингом, а Японский рынок снова отличается"
   ]
  },
  {
   "cell_type": "markdown",
   "metadata": {},
   "source": [
    "# Вывод\n",
    "Изучив выше приведенные данные мы приходим к выводу, что рынки Америки и Европы можно сказать одинаковы: предпочитают одни и те же платформы, жанры, и выбирают одинаковые игры по рейтигу. Целесообразно обратить внимание на эти рынки. Япония отличается по всем показателям."
   ]
  },
  {
   "cell_type": "markdown",
   "metadata": {},
   "source": [
    "<div class=\"alert alert-danger\">\n",
    "<b>Комментарий ревьюера: ❌</b>\n",
    "\n",
    "<s>Нам также нужно визуализировать портреты пользователей, ведь на графике гораздо проще воспринимать информацию, чем в таблицах.    \n",
    "</div>"
   ]
  },
  {
   "cell_type": "markdown",
   "metadata": {},
   "source": [
    "<div class=\"alert alert-success\">\n",
    "<b>Комментарий ревьюера: ✅</b>\n",
    "\n",
    "Достаточно детально проанализировали наши данные и изучили портреты пользователей.\n",
    "    \n",
    "\n",
    "    \n",
    "Давай теперь проверим наши гипотезы.\n",
    "    \n",
    "</div>"
   ]
  },
  {
   "cell_type": "markdown",
   "metadata": {},
   "source": [
    "# 5. Проверим гипотезы"
   ]
  },
  {
   "cell_type": "markdown",
   "metadata": {},
   "source": [
    "# Средние пользовательские рейтинги платформ Xbox One и PC одинаковые;\n",
    "\n",
    "Нулевая гипотеза: Средние пользовательские рейтинги платформ Xbox One и PC одинаковые.\n",
    "\n",
    "Альтернативная гипотеза: Средние пользовательские рейтинги платформ Xbox One и PC разные."
   ]
  },
  {
   "cell_type": "markdown",
   "metadata": {},
   "source": [
    "Значение альфа примем равным 5%"
   ]
  },
  {
   "cell_type": "markdown",
   "metadata": {},
   "source": [
    "<div class=\"alert alert-success\">\n",
    "<b>Комментарий ревьюера: ✅</b>\n",
    "\n",
    "Гипотезы сформулированы верно.\n",
    "    \n",
    "    \n",
    "**Best practices:**\n",
    "    \n",
    "\n",
    "    \n",
    "В том числе стоит визуализировать распределение каждой выборки, чтобы определить нормальное ли у них распределение или нет.\n",
    "    \n",
    "Так мы покажем логичность и последовательность наших действий.\n",
    "    \n",
    "</div>"
   ]
  },
  {
   "cell_type": "code",
   "execution_count": 88,
   "metadata": {},
   "outputs": [
    {
     "name": "stdout",
     "output_type": "stream",
     "text": [
      "p-значение: 0.5535080500643661\n",
      "Не получилось отвергнуть нулевую гипотезу\n"
     ]
    }
   ],
   "source": [
    "new_data = new_data.dropna(subset=['user_score']).reset_index(drop=True)\n",
    "\n",
    "results = st.ttest_ind(\n",
    "    new_data.query('platform == \"XOne\"')['user_score'], \n",
    "    new_data.query('platform == \"PC\"')['user_score']  \n",
    ")\n",
    "\n",
    "alpha = 0.05\n",
    "print('p-значение:', results.pvalue)\n",
    "\n",
    "if results.pvalue < alpha:\n",
    "    print(\"Отвергаем нулевую гипотезу\")\n",
    "else:\n",
    "    print(\"Не получилось отвергнуть нулевую гипотезу\")"
   ]
  },
  {
   "cell_type": "markdown",
   "metadata": {},
   "source": [
    "# Вывод\n",
    "Мы видим, что p-значение = 0.5535080500643661. Оно больше значения альфа, значит у нас не получится отвегнуть нулевую гипотизу. Следовательно принимаем предположение, что средние пользовательские рейтинги платформ Xbox One и PC одинаковые.  "
   ]
  },
  {
   "cell_type": "markdown",
   "metadata": {},
   "source": [
    "# Средние пользовательские рейтинги жанров Action (англ. «действие», экшен-игры) и Sports (англ. «спортивные соревнования») разные."
   ]
  },
  {
   "cell_type": "markdown",
   "metadata": {},
   "source": [
    "Нулевая гипотеза: Средние пользовательские рейтинги жанров Action и Sports одинаковые.\n",
    "\n",
    "Альтернативная гипотеза: Средние пользовательские рейтинги жанров Action и Sports разные."
   ]
  },
  {
   "cell_type": "markdown",
   "metadata": {},
   "source": [
    "<div class=\"alert alert-success\">\n",
    "<b>Комментарий ревьюера: ✅</b>\n",
    "\n",
    "Гипотезы сформулированы верно.\n",
    "    \n",
    "    \n",
    "</div>"
   ]
  },
  {
   "cell_type": "code",
   "execution_count": 89,
   "metadata": {},
   "outputs": [
    {
     "name": "stdout",
     "output_type": "stream",
     "text": [
      "p-значение: 3.7163089460934874e-26\n",
      "Отвергаем нулевую гипотезу\n"
     ]
    }
   ],
   "source": [
    "results = st.ttest_ind(\n",
    "    new_data.query('genre == \"Action\"')['user_score'], \n",
    "    new_data.query('genre == \"Sports\"')['user_score']  \n",
    ")\n",
    "\n",
    "alpha = 0.05\n",
    "print('p-значение:', results.pvalue)\n",
    "\n",
    "if results.pvalue < alpha:\n",
    "    print(\"Отвергаем нулевую гипотезу\")\n",
    "else:\n",
    "    print(\"Не получилось отвергнуть нулевую гипотезу\")"
   ]
  },
  {
   "cell_type": "markdown",
   "metadata": {},
   "source": [
    "<div class=\"alert alert-success\">\n",
    "<b>Комментарий ревьюера: ✅</b>\n",
    "\n",
    "Обрати внимание, что наши действия также повторяются с точки зрения расчетов статистических тестов, это говорит о том, что мы можем также создать здесь функцию 😊\n",
    "    \n",
    "</div>"
   ]
  },
  {
   "cell_type": "markdown",
   "metadata": {},
   "source": [
    "# Вывод\n",
    "Видим, что p-значение = 3.7163089460934874e-26, следовательно у нас есть основание отвергать гипотизу, что средние пользовательские рейтинги жанров Action и Sports одинаковые."
   ]
  },
  {
   "cell_type": "markdown",
   "metadata": {},
   "source": [
    "# Итоговый вывод"
   ]
  },
  {
   "cell_type": "markdown",
   "metadata": {},
   "source": [
    "В ходе данного исследования была произведена тщательная обработка данных, приведены названия столбцов к нижнему регистру, поменяли типы данных там, где это необходимо, избавились от пропусков там, где это возможно. Создали новый столбец с суммарными продажами по всем регионам. \n",
    "Актуальным периодом исследования мы решили выбрать последние пять лет. На основе этих данных мы выяснили какие игры будут хорошо продаваться в 2017 году. Составили портреты пользователей из разных регионов.\n",
    "\n",
    "Мы выяснили, что наиболее популярными платформами являются PS4, XBox One, 3DS, WiiU. Самые не популярные - Wii, DS, PSP.\n",
    "Наиболее популярные жанры - шутеры, ролевые, спортивные. Наименее популярные - пазлы, приключенческие, стратегии.\n",
    "\n",
    "Если рассмотривать портреты по регионам, то Америка и Европа - очень схожие рынки, где любят одни и те же платформы, выбирают игры по одинаковому рейтингу и жанрам. Япония сильно отличается по всем показателям, и целесообразнее опираться на рынки Америки и Европы.\n",
    "\n",
    "Были проведены проверки гипотез:\n",
    "1. Средние пользовательские рейтинги платформ Xbox One и PC одинаковые.\n",
    "2. Средние пользовательские рейтинги жанров Action (англ. «действие», экшен-игры) и Sports (англ. «спортивные соревнования») разные.\n"
   ]
  },
  {
   "cell_type": "markdown",
   "metadata": {},
   "source": [
    "<div class=\"alert alert-danger\">\n",
    "<b>Комментарий ревьюера: ❌</b>\n",
    "\n",
    "<s>Нужно убрать пустые значения из выборки.\n",
    "    \n",
    "</div>"
   ]
  },
  {
   "cell_type": "markdown",
   "metadata": {},
   "source": [
    "<div class=\"alert alert-success\">\n",
    "<b>Комментарий ревьюера: ✅</b>\n",
    "\n",
    "Тогда буду ждать до конца завершенный проект 😊\n",
    "    \n",
    "</div>"
   ]
  },
  {
   "cell_type": "markdown",
   "metadata": {},
   "source": [
    "<div class=\"alert alert-success\">\n",
    "<b>Комментарий ревьюера (2): ✅</b>\n",
    "\n",
    "Выводы понятны и логичны, а самое главное подкреплены выявленными фактами.\n",
    "       \n",
    "В целом сам проект выполнен на хорошем уровне! На протяжении всей работы чувствуется глубина проработки задачи и это безусловный плюс для нас. Было использовано большое количество методов, которые будут помогать тебе в дальнейших проектах.\n",
    "    \n",
    "    \n",
    "    \n",
    "**[общий комментарий]** Ячейки **markdown** в том числе мы можем использовать как дополнительный способ стилизации нашего проекта. Оставил ниже ссылку, с примерами стилизации.\n",
    "\n",
    "https://sqlbak.com/blog/jupyter-notebook-markdown-cheatsheet     \n",
    "</div>"
   ]
  },
  {
   "cell_type": "markdown",
   "metadata": {},
   "source": [
    "<div class=\"alert alert-success\">\n",
    "<b>Комментарий ревьюера (2): ✅</b>\n",
    "\n",
    "\n",
    "    \n",
    "Поздравляю с успешным завершением проекта 😊👍\n",
    "    \n",
    "И желаю успехов в новых работах 😊\n",
    "    \n",
    "    \n",
    "</div>"
   ]
  },
  {
   "cell_type": "code",
   "execution_count": null,
   "metadata": {},
   "outputs": [],
   "source": []
  }
 ],
 "metadata": {
  "ExecuteTimeLog": [
   {
    "duration": 636,
    "start_time": "2023-01-18T21:08:19.275Z"
   },
   {
    "duration": 513,
    "start_time": "2023-01-19T09:29:41.733Z"
   },
   {
    "duration": 21,
    "start_time": "2023-01-19T09:30:11.407Z"
   },
   {
    "duration": 23,
    "start_time": "2023-01-19T09:36:52.401Z"
   },
   {
    "duration": 14,
    "start_time": "2023-01-19T09:41:38.127Z"
   },
   {
    "duration": 77,
    "start_time": "2023-01-19T09:53:15.138Z"
   },
   {
    "duration": 88,
    "start_time": "2023-01-19T09:54:11.501Z"
   },
   {
    "duration": 4,
    "start_time": "2023-01-19T09:54:15.637Z"
   },
   {
    "duration": 12,
    "start_time": "2023-01-19T09:54:17.071Z"
   },
   {
    "duration": 12,
    "start_time": "2023-01-19T09:54:18.298Z"
   },
   {
    "duration": 13,
    "start_time": "2023-01-19T09:55:58.819Z"
   },
   {
    "duration": 15,
    "start_time": "2023-01-19T10:04:33.955Z"
   },
   {
    "duration": 72,
    "start_time": "2023-01-19T10:04:57.632Z"
   },
   {
    "duration": 62,
    "start_time": "2023-01-19T10:05:11.723Z"
   },
   {
    "duration": 61,
    "start_time": "2023-01-19T10:05:55.483Z"
   },
   {
    "duration": 1326,
    "start_time": "2023-01-19T10:06:53.378Z"
   },
   {
    "duration": 1203,
    "start_time": "2023-01-19T10:09:45.253Z"
   },
   {
    "duration": 1304,
    "start_time": "2023-01-19T10:09:57.770Z"
   },
   {
    "duration": 1118,
    "start_time": "2023-01-19T10:11:56.802Z"
   },
   {
    "duration": 67,
    "start_time": "2023-01-19T10:12:07.170Z"
   },
   {
    "duration": 3,
    "start_time": "2023-01-19T10:12:11.505Z"
   },
   {
    "duration": 15,
    "start_time": "2023-01-19T10:12:12.384Z"
   },
   {
    "duration": 5,
    "start_time": "2023-01-19T10:12:13.457Z"
   },
   {
    "duration": 5,
    "start_time": "2023-01-19T10:12:37.793Z"
   },
   {
    "duration": 4,
    "start_time": "2023-01-19T10:19:30.217Z"
   },
   {
    "duration": 13,
    "start_time": "2023-01-19T10:20:25.468Z"
   },
   {
    "duration": 7,
    "start_time": "2023-01-19T10:21:07.690Z"
   },
   {
    "duration": 644,
    "start_time": "2023-01-19T11:00:58.400Z"
   },
   {
    "duration": 4,
    "start_time": "2023-01-19T11:01:00.670Z"
   },
   {
    "duration": 14,
    "start_time": "2023-01-19T11:01:04.206Z"
   },
   {
    "duration": 7,
    "start_time": "2023-01-19T11:01:09.184Z"
   },
   {
    "duration": 11,
    "start_time": "2023-01-19T11:02:17.486Z"
   },
   {
    "duration": 11,
    "start_time": "2023-01-19T11:03:19.816Z"
   },
   {
    "duration": 10,
    "start_time": "2023-01-19T11:03:56.481Z"
   },
   {
    "duration": 72,
    "start_time": "2023-01-19T11:09:00.129Z"
   },
   {
    "duration": 18,
    "start_time": "2023-01-19T11:09:35.315Z"
   },
   {
    "duration": 12,
    "start_time": "2023-01-19T11:15:05.359Z"
   },
   {
    "duration": 14,
    "start_time": "2023-01-19T11:15:25.372Z"
   },
   {
    "duration": 13,
    "start_time": "2023-01-19T11:28:44.683Z"
   },
   {
    "duration": 18,
    "start_time": "2023-01-19T11:29:54.045Z"
   },
   {
    "duration": 13,
    "start_time": "2023-01-19T11:42:06.659Z"
   },
   {
    "duration": 11,
    "start_time": "2023-01-19T11:43:01.602Z"
   },
   {
    "duration": 10,
    "start_time": "2023-01-19T11:52:52.188Z"
   },
   {
    "duration": 17,
    "start_time": "2023-01-19T11:57:47.408Z"
   },
   {
    "duration": 23,
    "start_time": "2023-01-19T11:57:59.792Z"
   },
   {
    "duration": 16,
    "start_time": "2023-01-19T12:13:37.664Z"
   },
   {
    "duration": 498,
    "start_time": "2023-01-19T14:11:53.583Z"
   },
   {
    "duration": 3,
    "start_time": "2023-01-19T14:11:54.083Z"
   },
   {
    "duration": 14,
    "start_time": "2023-01-19T14:11:54.285Z"
   },
   {
    "duration": 15,
    "start_time": "2023-01-19T14:11:54.508Z"
   },
   {
    "duration": 17,
    "start_time": "2023-01-19T14:11:54.944Z"
   },
   {
    "duration": 15,
    "start_time": "2023-01-19T14:11:55.604Z"
   },
   {
    "duration": 667,
    "start_time": "2023-01-19T14:13:20.175Z"
   },
   {
    "duration": 56,
    "start_time": "2023-01-19T15:40:35.571Z"
   },
   {
    "duration": 541,
    "start_time": "2023-01-19T15:40:43.884Z"
   },
   {
    "duration": 4,
    "start_time": "2023-01-19T15:40:44.843Z"
   },
   {
    "duration": 18,
    "start_time": "2023-01-19T15:40:45.094Z"
   },
   {
    "duration": 18,
    "start_time": "2023-01-19T15:40:45.402Z"
   },
   {
    "duration": 20,
    "start_time": "2023-01-19T15:40:45.880Z"
   },
   {
    "duration": 25,
    "start_time": "2023-01-19T15:40:46.969Z"
   },
   {
    "duration": 700,
    "start_time": "2023-01-19T15:40:47.696Z"
   },
   {
    "duration": 97,
    "start_time": "2023-01-19T15:40:55.605Z"
   },
   {
    "duration": 344,
    "start_time": "2023-01-19T15:41:17.179Z"
   },
   {
    "duration": 10,
    "start_time": "2023-01-19T16:01:03.665Z"
   },
   {
    "duration": 194,
    "start_time": "2023-01-19T16:02:31.951Z"
   },
   {
    "duration": 511,
    "start_time": "2023-01-19T20:28:40.717Z"
   },
   {
    "duration": 3,
    "start_time": "2023-01-19T20:28:41.916Z"
   },
   {
    "duration": 13,
    "start_time": "2023-01-19T20:28:42.183Z"
   },
   {
    "duration": 15,
    "start_time": "2023-01-19T20:28:42.432Z"
   },
   {
    "duration": 16,
    "start_time": "2023-01-19T20:28:42.880Z"
   },
   {
    "duration": 17,
    "start_time": "2023-01-19T20:28:43.552Z"
   },
   {
    "duration": 578,
    "start_time": "2023-01-19T20:28:45.452Z"
   },
   {
    "duration": 254,
    "start_time": "2023-01-19T20:28:51.937Z"
   },
   {
    "duration": 6,
    "start_time": "2023-01-19T20:28:54.632Z"
   },
   {
    "duration": 158,
    "start_time": "2023-01-19T20:28:55.772Z"
   },
   {
    "duration": 5,
    "start_time": "2023-01-19T20:31:01.952Z"
   },
   {
    "duration": 182,
    "start_time": "2023-01-19T20:31:03.013Z"
   },
   {
    "duration": 65,
    "start_time": "2023-01-19T20:38:54.007Z"
   },
   {
    "duration": 167,
    "start_time": "2023-01-19T20:39:34.637Z"
   },
   {
    "duration": 168,
    "start_time": "2023-01-19T20:41:15.970Z"
   },
   {
    "duration": 159,
    "start_time": "2023-01-19T20:42:04.534Z"
   },
   {
    "duration": 183,
    "start_time": "2023-01-19T20:42:14.350Z"
   },
   {
    "duration": 159,
    "start_time": "2023-01-19T20:43:07.679Z"
   },
   {
    "duration": 568,
    "start_time": "2023-01-19T20:52:45.129Z"
   },
   {
    "duration": 51,
    "start_time": "2023-01-19T21:00:54.101Z"
   },
   {
    "duration": 69,
    "start_time": "2023-01-19T21:01:39.444Z"
   },
   {
    "duration": 3,
    "start_time": "2023-01-19T21:01:40.049Z"
   },
   {
    "duration": 13,
    "start_time": "2023-01-19T21:01:40.289Z"
   },
   {
    "duration": 11,
    "start_time": "2023-01-19T21:01:40.600Z"
   },
   {
    "duration": 15,
    "start_time": "2023-01-19T21:01:41.085Z"
   },
   {
    "duration": 14,
    "start_time": "2023-01-19T21:01:41.845Z"
   },
   {
    "duration": 181,
    "start_time": "2023-01-19T21:01:43.013Z"
   },
   {
    "duration": 240,
    "start_time": "2023-01-19T21:01:44.099Z"
   },
   {
    "duration": 159,
    "start_time": "2023-01-19T21:01:44.810Z"
   },
   {
    "duration": 169,
    "start_time": "2023-01-19T21:01:49.604Z"
   },
   {
    "duration": 158,
    "start_time": "2023-01-19T21:01:50.949Z"
   },
   {
    "duration": 156,
    "start_time": "2023-01-19T21:01:54.051Z"
   },
   {
    "duration": 157,
    "start_time": "2023-01-19T21:02:51.164Z"
   },
   {
    "duration": 1310,
    "start_time": "2023-01-20T08:35:59.081Z"
   },
   {
    "duration": 3,
    "start_time": "2023-01-20T08:36:00.393Z"
   },
   {
    "duration": 12,
    "start_time": "2023-01-20T08:36:00.830Z"
   },
   {
    "duration": 15,
    "start_time": "2023-01-20T08:36:01.360Z"
   },
   {
    "duration": 17,
    "start_time": "2023-01-20T08:36:02.315Z"
   },
   {
    "duration": 18,
    "start_time": "2023-01-20T08:36:03.573Z"
   },
   {
    "duration": 206,
    "start_time": "2023-01-20T08:36:04.937Z"
   },
   {
    "duration": 250,
    "start_time": "2023-01-20T08:36:06.492Z"
   },
   {
    "duration": 171,
    "start_time": "2023-01-20T08:36:07.668Z"
   },
   {
    "duration": 171,
    "start_time": "2023-01-20T08:36:08.400Z"
   },
   {
    "duration": 164,
    "start_time": "2023-01-20T08:36:09.044Z"
   },
   {
    "duration": 155,
    "start_time": "2023-01-20T08:36:10.453Z"
   },
   {
    "duration": 170,
    "start_time": "2023-01-20T08:48:21.652Z"
   },
   {
    "duration": 91,
    "start_time": "2023-01-20T09:09:58.293Z"
   },
   {
    "duration": 57,
    "start_time": "2023-01-20T09:10:19.715Z"
   },
   {
    "duration": 3,
    "start_time": "2023-01-20T09:10:21.659Z"
   },
   {
    "duration": 19,
    "start_time": "2023-01-20T09:10:22.457Z"
   },
   {
    "duration": 19,
    "start_time": "2023-01-20T09:10:23.166Z"
   },
   {
    "duration": 18,
    "start_time": "2023-01-20T09:10:24.370Z"
   },
   {
    "duration": 15,
    "start_time": "2023-01-20T09:10:26.163Z"
   },
   {
    "duration": 194,
    "start_time": "2023-01-20T09:10:28.455Z"
   },
   {
    "duration": 331,
    "start_time": "2023-01-20T09:10:30.179Z"
   },
   {
    "duration": 175,
    "start_time": "2023-01-20T09:10:31.594Z"
   },
   {
    "duration": 226,
    "start_time": "2023-01-20T09:10:32.370Z"
   },
   {
    "duration": 169,
    "start_time": "2023-01-20T09:10:33.231Z"
   },
   {
    "duration": 176,
    "start_time": "2023-01-20T09:10:36.018Z"
   },
   {
    "duration": 5,
    "start_time": "2023-01-20T09:10:38.664Z"
   },
   {
    "duration": 155,
    "start_time": "2023-01-20T09:10:40.394Z"
   },
   {
    "duration": 118,
    "start_time": "2023-01-20T09:10:43.833Z"
   },
   {
    "duration": 130,
    "start_time": "2023-01-20T09:22:23.067Z"
   },
   {
    "duration": 70,
    "start_time": "2023-01-20T09:23:37.599Z"
   },
   {
    "duration": 176,
    "start_time": "2023-01-20T09:25:00.641Z"
   },
   {
    "duration": 60,
    "start_time": "2023-01-20T09:37:22.282Z"
   },
   {
    "duration": 3,
    "start_time": "2023-01-20T09:37:23.670Z"
   },
   {
    "duration": 13,
    "start_time": "2023-01-20T09:37:24.240Z"
   },
   {
    "duration": 12,
    "start_time": "2023-01-20T09:37:24.828Z"
   },
   {
    "duration": 23,
    "start_time": "2023-01-20T09:37:25.844Z"
   },
   {
    "duration": 16,
    "start_time": "2023-01-20T09:37:27.398Z"
   },
   {
    "duration": 181,
    "start_time": "2023-01-20T09:37:29.431Z"
   },
   {
    "duration": 325,
    "start_time": "2023-01-20T09:37:30.968Z"
   },
   {
    "duration": 168,
    "start_time": "2023-01-20T09:37:31.622Z"
   },
   {
    "duration": 166,
    "start_time": "2023-01-20T09:37:32.091Z"
   },
   {
    "duration": 192,
    "start_time": "2023-01-20T09:37:32.491Z"
   },
   {
    "duration": 183,
    "start_time": "2023-01-20T09:37:33.413Z"
   },
   {
    "duration": 5,
    "start_time": "2023-01-20T09:37:34.392Z"
   },
   {
    "duration": 144,
    "start_time": "2023-01-20T09:37:34.814Z"
   },
   {
    "duration": 111,
    "start_time": "2023-01-20T09:37:35.780Z"
   },
   {
    "duration": 118,
    "start_time": "2023-01-20T09:37:36.847Z"
   },
   {
    "duration": 128,
    "start_time": "2023-01-20T09:37:37.932Z"
   },
   {
    "duration": 6,
    "start_time": "2023-01-20T10:13:07.008Z"
   },
   {
    "duration": 186,
    "start_time": "2023-01-20T10:18:20.416Z"
   },
   {
    "duration": 256,
    "start_time": "2023-01-20T10:19:34.146Z"
   },
   {
    "duration": 61,
    "start_time": "2023-01-20T11:32:37.823Z"
   },
   {
    "duration": 4,
    "start_time": "2023-01-20T11:32:43.386Z"
   },
   {
    "duration": 13,
    "start_time": "2023-01-20T11:32:44.054Z"
   },
   {
    "duration": 13,
    "start_time": "2023-01-20T11:32:44.571Z"
   },
   {
    "duration": 14,
    "start_time": "2023-01-20T11:32:45.103Z"
   },
   {
    "duration": 16,
    "start_time": "2023-01-20T11:32:46.097Z"
   },
   {
    "duration": 192,
    "start_time": "2023-01-20T11:32:47.061Z"
   },
   {
    "duration": 238,
    "start_time": "2023-01-20T11:32:47.706Z"
   },
   {
    "duration": 159,
    "start_time": "2023-01-20T11:32:48.136Z"
   },
   {
    "duration": 157,
    "start_time": "2023-01-20T11:32:48.343Z"
   },
   {
    "duration": 175,
    "start_time": "2023-01-20T11:32:48.547Z"
   },
   {
    "duration": 174,
    "start_time": "2023-01-20T11:32:49.053Z"
   },
   {
    "duration": 6,
    "start_time": "2023-01-20T11:32:49.418Z"
   },
   {
    "duration": 149,
    "start_time": "2023-01-20T11:32:49.705Z"
   },
   {
    "duration": 113,
    "start_time": "2023-01-20T11:32:50.260Z"
   },
   {
    "duration": 113,
    "start_time": "2023-01-20T11:32:50.800Z"
   },
   {
    "duration": 210,
    "start_time": "2023-01-20T11:32:51.690Z"
   },
   {
    "duration": 8,
    "start_time": "2023-01-20T11:32:55.981Z"
   },
   {
    "duration": 162,
    "start_time": "2023-01-20T11:32:56.337Z"
   },
   {
    "duration": 252,
    "start_time": "2023-01-20T11:32:59.718Z"
   },
   {
    "duration": 261,
    "start_time": "2023-01-20T11:34:51.321Z"
   },
   {
    "duration": 259,
    "start_time": "2023-01-20T11:36:20.864Z"
   },
   {
    "duration": 250,
    "start_time": "2023-01-20T11:38:39.869Z"
   },
   {
    "duration": 275,
    "start_time": "2023-01-20T11:48:05.480Z"
   },
   {
    "duration": 78,
    "start_time": "2023-01-20T11:49:46.647Z"
   },
   {
    "duration": 78,
    "start_time": "2023-01-20T11:50:07.294Z"
   },
   {
    "duration": 109,
    "start_time": "2023-01-20T11:51:12.756Z"
   },
   {
    "duration": 76,
    "start_time": "2023-01-20T11:55:50.027Z"
   },
   {
    "duration": 69,
    "start_time": "2023-01-20T11:56:04.849Z"
   },
   {
    "duration": 258,
    "start_time": "2023-01-20T11:56:28.316Z"
   },
   {
    "duration": 248,
    "start_time": "2023-01-20T12:30:07.481Z"
   },
   {
    "duration": 296,
    "start_time": "2023-01-20T12:32:06.177Z"
   },
   {
    "duration": 261,
    "start_time": "2023-01-20T12:32:45.286Z"
   },
   {
    "duration": 340,
    "start_time": "2023-01-20T12:32:59.604Z"
   },
   {
    "duration": 272,
    "start_time": "2023-01-20T12:34:00.052Z"
   },
   {
    "duration": 6,
    "start_time": "2023-01-20T12:52:02.386Z"
   },
   {
    "duration": 7,
    "start_time": "2023-01-20T12:52:33.059Z"
   },
   {
    "duration": 7,
    "start_time": "2023-01-20T12:54:21.306Z"
   },
   {
    "duration": 8,
    "start_time": "2023-01-20T12:54:45.425Z"
   },
   {
    "duration": 16,
    "start_time": "2023-01-20T13:11:43.741Z"
   },
   {
    "duration": 165,
    "start_time": "2023-01-20T13:12:01.121Z"
   },
   {
    "duration": 1665,
    "start_time": "2023-01-20T17:14:33.433Z"
   },
   {
    "duration": 3,
    "start_time": "2023-01-20T17:14:35.383Z"
   },
   {
    "duration": 16,
    "start_time": "2023-01-20T17:14:36.189Z"
   },
   {
    "duration": 15,
    "start_time": "2023-01-20T17:14:36.731Z"
   },
   {
    "duration": 16,
    "start_time": "2023-01-20T17:14:37.704Z"
   },
   {
    "duration": 16,
    "start_time": "2023-01-20T17:14:39.008Z"
   },
   {
    "duration": 247,
    "start_time": "2023-01-20T17:14:40.102Z"
   },
   {
    "duration": 254,
    "start_time": "2023-01-20T17:14:40.926Z"
   },
   {
    "duration": 199,
    "start_time": "2023-01-20T17:14:41.534Z"
   },
   {
    "duration": 173,
    "start_time": "2023-01-20T17:14:41.814Z"
   },
   {
    "duration": 175,
    "start_time": "2023-01-20T17:14:42.069Z"
   },
   {
    "duration": 208,
    "start_time": "2023-01-20T17:14:42.568Z"
   },
   {
    "duration": 6,
    "start_time": "2023-01-20T17:14:43.182Z"
   },
   {
    "duration": 165,
    "start_time": "2023-01-20T17:14:43.473Z"
   },
   {
    "duration": 179,
    "start_time": "2023-01-20T17:14:44.076Z"
   },
   {
    "duration": 120,
    "start_time": "2023-01-20T17:14:44.614Z"
   },
   {
    "duration": 125,
    "start_time": "2023-01-20T17:14:45.229Z"
   },
   {
    "duration": 7,
    "start_time": "2023-01-20T17:14:46.972Z"
   },
   {
    "duration": 173,
    "start_time": "2023-01-20T17:14:48.110Z"
   },
   {
    "duration": 295,
    "start_time": "2023-01-20T17:14:50.109Z"
   },
   {
    "duration": 8,
    "start_time": "2023-01-20T17:14:55.081Z"
   },
   {
    "duration": 9,
    "start_time": "2023-01-20T17:14:55.777Z"
   },
   {
    "duration": 182,
    "start_time": "2023-01-20T17:15:00.501Z"
   },
   {
    "duration": 76,
    "start_time": "2023-01-20T18:56:55.638Z"
   },
   {
    "duration": 4,
    "start_time": "2023-01-20T18:56:56.489Z"
   },
   {
    "duration": 20,
    "start_time": "2023-01-20T18:56:56.747Z"
   },
   {
    "duration": 12,
    "start_time": "2023-01-20T18:56:56.981Z"
   },
   {
    "duration": 17,
    "start_time": "2023-01-20T18:56:57.410Z"
   },
   {
    "duration": 18,
    "start_time": "2023-01-20T18:56:58.058Z"
   },
   {
    "duration": 204,
    "start_time": "2023-01-20T18:56:58.923Z"
   },
   {
    "duration": 269,
    "start_time": "2023-01-20T18:56:59.557Z"
   },
   {
    "duration": 190,
    "start_time": "2023-01-20T18:56:59.964Z"
   },
   {
    "duration": 230,
    "start_time": "2023-01-20T18:57:00.180Z"
   },
   {
    "duration": 290,
    "start_time": "2023-01-20T18:57:00.412Z"
   },
   {
    "duration": 205,
    "start_time": "2023-01-20T18:57:00.790Z"
   },
   {
    "duration": 9,
    "start_time": "2023-01-20T18:57:01.220Z"
   },
   {
    "duration": 255,
    "start_time": "2023-01-20T18:57:01.429Z"
   },
   {
    "duration": 126,
    "start_time": "2023-01-20T18:57:01.912Z"
   },
   {
    "duration": 142,
    "start_time": "2023-01-20T18:57:02.570Z"
   },
   {
    "duration": 134,
    "start_time": "2023-01-20T18:57:03.093Z"
   },
   {
    "duration": 8,
    "start_time": "2023-01-20T18:57:03.826Z"
   },
   {
    "duration": 173,
    "start_time": "2023-01-20T18:57:04.066Z"
   },
   {
    "duration": 295,
    "start_time": "2023-01-20T18:57:04.917Z"
   },
   {
    "duration": 8,
    "start_time": "2023-01-20T18:57:05.475Z"
   },
   {
    "duration": 10,
    "start_time": "2023-01-20T18:57:05.834Z"
   },
   {
    "duration": 189,
    "start_time": "2023-01-20T18:57:06.867Z"
   },
   {
    "duration": 110,
    "start_time": "2023-01-20T19:01:48.903Z"
   },
   {
    "duration": 20,
    "start_time": "2023-01-20T19:03:08.787Z"
   },
   {
    "duration": 18,
    "start_time": "2023-01-20T19:07:06.400Z"
   },
   {
    "duration": 14,
    "start_time": "2023-01-20T19:52:22.416Z"
   },
   {
    "duration": 15,
    "start_time": "2023-01-20T19:53:45.324Z"
   },
   {
    "duration": 13,
    "start_time": "2023-01-20T20:11:41.265Z"
   },
   {
    "duration": 14,
    "start_time": "2023-01-20T20:12:44.620Z"
   },
   {
    "duration": 15,
    "start_time": "2023-01-20T20:14:13.226Z"
   },
   {
    "duration": 13,
    "start_time": "2023-01-20T20:59:30.788Z"
   },
   {
    "duration": 15,
    "start_time": "2023-01-20T21:00:49.910Z"
   },
   {
    "duration": 15,
    "start_time": "2023-01-20T21:02:05.269Z"
   },
   {
    "duration": 1355,
    "start_time": "2023-01-21T07:37:50.651Z"
   },
   {
    "duration": 3,
    "start_time": "2023-01-21T07:37:52.008Z"
   },
   {
    "duration": 13,
    "start_time": "2023-01-21T07:37:52.205Z"
   },
   {
    "duration": 15,
    "start_time": "2023-01-21T07:37:52.608Z"
   },
   {
    "duration": 16,
    "start_time": "2023-01-21T07:37:53.326Z"
   },
   {
    "duration": 23,
    "start_time": "2023-01-21T07:37:54.436Z"
   },
   {
    "duration": 224,
    "start_time": "2023-01-21T07:37:55.921Z"
   },
   {
    "duration": 241,
    "start_time": "2023-01-21T07:37:57.008Z"
   },
   {
    "duration": 172,
    "start_time": "2023-01-21T07:37:57.817Z"
   },
   {
    "duration": 202,
    "start_time": "2023-01-21T07:37:58.179Z"
   },
   {
    "duration": 156,
    "start_time": "2023-01-21T07:37:58.555Z"
   },
   {
    "duration": 172,
    "start_time": "2023-01-21T07:37:59.251Z"
   },
   {
    "duration": 6,
    "start_time": "2023-01-21T07:38:00.060Z"
   },
   {
    "duration": 146,
    "start_time": "2023-01-21T07:38:00.453Z"
   },
   {
    "duration": 162,
    "start_time": "2023-01-21T07:38:01.212Z"
   },
   {
    "duration": 106,
    "start_time": "2023-01-21T07:38:01.923Z"
   },
   {
    "duration": 110,
    "start_time": "2023-01-21T07:38:02.670Z"
   },
   {
    "duration": 6,
    "start_time": "2023-01-21T07:38:03.793Z"
   },
   {
    "duration": 150,
    "start_time": "2023-01-21T07:38:04.187Z"
   },
   {
    "duration": 257,
    "start_time": "2023-01-21T07:38:05.416Z"
   },
   {
    "duration": 7,
    "start_time": "2023-01-21T07:38:06.205Z"
   },
   {
    "duration": 9,
    "start_time": "2023-01-21T07:38:06.628Z"
   },
   {
    "duration": 162,
    "start_time": "2023-01-21T07:38:08.025Z"
   },
   {
    "duration": 15,
    "start_time": "2023-01-21T07:38:10.150Z"
   },
   {
    "duration": 14,
    "start_time": "2023-01-21T07:38:10.659Z"
   },
   {
    "duration": 12,
    "start_time": "2023-01-21T07:38:11.123Z"
   },
   {
    "duration": 15,
    "start_time": "2023-01-21T07:38:12.475Z"
   },
   {
    "duration": 13,
    "start_time": "2023-01-21T07:38:12.883Z"
   },
   {
    "duration": 13,
    "start_time": "2023-01-21T07:38:13.331Z"
   },
   {
    "duration": 15,
    "start_time": "2023-01-21T07:38:14.619Z"
   },
   {
    "duration": 14,
    "start_time": "2023-01-21T07:38:15.051Z"
   },
   {
    "duration": 14,
    "start_time": "2023-01-21T07:38:15.426Z"
   },
   {
    "duration": 9,
    "start_time": "2023-01-21T08:19:28.298Z"
   },
   {
    "duration": 65,
    "start_time": "2023-01-21T08:24:19.745Z"
   },
   {
    "duration": 3,
    "start_time": "2023-01-21T08:24:20.141Z"
   },
   {
    "duration": 14,
    "start_time": "2023-01-21T08:24:20.325Z"
   },
   {
    "duration": 14,
    "start_time": "2023-01-21T08:24:20.528Z"
   },
   {
    "duration": 16,
    "start_time": "2023-01-21T08:24:20.855Z"
   },
   {
    "duration": 16,
    "start_time": "2023-01-21T08:24:21.640Z"
   },
   {
    "duration": 199,
    "start_time": "2023-01-21T08:24:22.373Z"
   },
   {
    "duration": 249,
    "start_time": "2023-01-21T08:24:22.933Z"
   },
   {
    "duration": 163,
    "start_time": "2023-01-21T08:24:23.308Z"
   },
   {
    "duration": 172,
    "start_time": "2023-01-21T08:24:23.509Z"
   },
   {
    "duration": 231,
    "start_time": "2023-01-21T08:24:23.700Z"
   },
   {
    "duration": 176,
    "start_time": "2023-01-21T08:24:24.095Z"
   },
   {
    "duration": 6,
    "start_time": "2023-01-21T08:24:24.501Z"
   },
   {
    "duration": 159,
    "start_time": "2023-01-21T08:24:24.703Z"
   },
   {
    "duration": 106,
    "start_time": "2023-01-21T08:24:25.108Z"
   },
   {
    "duration": 121,
    "start_time": "2023-01-21T08:24:25.573Z"
   },
   {
    "duration": 118,
    "start_time": "2023-01-21T08:24:26.093Z"
   },
   {
    "duration": 10,
    "start_time": "2023-01-21T08:24:26.861Z"
   },
   {
    "duration": 165,
    "start_time": "2023-01-21T08:24:27.213Z"
   },
   {
    "duration": 275,
    "start_time": "2023-01-21T08:24:28.332Z"
   },
   {
    "duration": 8,
    "start_time": "2023-01-21T08:24:29.280Z"
   },
   {
    "duration": 8,
    "start_time": "2023-01-21T08:24:29.840Z"
   },
   {
    "duration": 161,
    "start_time": "2023-01-21T08:24:31.373Z"
   },
   {
    "duration": 14,
    "start_time": "2023-01-21T08:24:33.789Z"
   },
   {
    "duration": 13,
    "start_time": "2023-01-21T08:24:34.261Z"
   },
   {
    "duration": 13,
    "start_time": "2023-01-21T08:24:34.958Z"
   },
   {
    "duration": 14,
    "start_time": "2023-01-21T08:24:36.694Z"
   },
   {
    "duration": 14,
    "start_time": "2023-01-21T08:24:37.454Z"
   },
   {
    "duration": 15,
    "start_time": "2023-01-21T08:24:38.030Z"
   },
   {
    "duration": 14,
    "start_time": "2023-01-21T08:24:39.046Z"
   },
   {
    "duration": 12,
    "start_time": "2023-01-21T08:24:39.294Z"
   },
   {
    "duration": 15,
    "start_time": "2023-01-21T08:24:39.590Z"
   },
   {
    "duration": 9,
    "start_time": "2023-01-21T08:24:43.287Z"
   },
   {
    "duration": 8,
    "start_time": "2023-01-21T08:27:20.849Z"
   },
   {
    "duration": 9,
    "start_time": "2023-01-21T08:34:21.365Z"
   },
   {
    "duration": 1172,
    "start_time": "2023-01-21T11:37:52.114Z"
   },
   {
    "duration": 3,
    "start_time": "2023-01-21T11:37:53.288Z"
   },
   {
    "duration": 18,
    "start_time": "2023-01-21T11:37:53.292Z"
   },
   {
    "duration": 19,
    "start_time": "2023-01-21T11:37:53.311Z"
   },
   {
    "duration": 40,
    "start_time": "2023-01-21T11:37:53.333Z"
   },
   {
    "duration": 17,
    "start_time": "2023-01-21T11:37:53.374Z"
   },
   {
    "duration": 237,
    "start_time": "2023-01-21T11:37:53.393Z"
   },
   {
    "duration": 267,
    "start_time": "2023-01-21T11:37:53.632Z"
   },
   {
    "duration": 187,
    "start_time": "2023-01-21T11:37:53.901Z"
   },
   {
    "duration": 168,
    "start_time": "2023-01-21T11:37:54.090Z"
   },
   {
    "duration": 166,
    "start_time": "2023-01-21T11:37:54.260Z"
   },
   {
    "duration": 197,
    "start_time": "2023-01-21T11:37:54.428Z"
   },
   {
    "duration": 6,
    "start_time": "2023-01-21T11:37:54.627Z"
   },
   {
    "duration": 164,
    "start_time": "2023-01-21T11:37:54.636Z"
   },
   {
    "duration": 151,
    "start_time": "2023-01-21T11:37:54.802Z"
   },
   {
    "duration": 213,
    "start_time": "2023-01-21T11:37:54.955Z"
   },
   {
    "duration": 121,
    "start_time": "2023-01-21T11:37:55.170Z"
   },
   {
    "duration": 7,
    "start_time": "2023-01-21T11:37:55.293Z"
   },
   {
    "duration": 168,
    "start_time": "2023-01-21T11:37:55.301Z"
   },
   {
    "duration": 259,
    "start_time": "2023-01-21T11:37:55.471Z"
   },
   {
    "duration": 7,
    "start_time": "2023-01-21T11:37:55.731Z"
   },
   {
    "duration": 9,
    "start_time": "2023-01-21T11:37:55.739Z"
   },
   {
    "duration": 184,
    "start_time": "2023-01-21T11:37:55.749Z"
   },
   {
    "duration": 19,
    "start_time": "2023-01-21T11:37:55.935Z"
   },
   {
    "duration": 20,
    "start_time": "2023-01-21T11:37:55.969Z"
   },
   {
    "duration": 19,
    "start_time": "2023-01-21T11:37:55.991Z"
   },
   {
    "duration": 16,
    "start_time": "2023-01-21T11:37:56.013Z"
   },
   {
    "duration": 37,
    "start_time": "2023-01-21T11:37:56.030Z"
   },
   {
    "duration": 15,
    "start_time": "2023-01-21T11:37:56.069Z"
   },
   {
    "duration": 13,
    "start_time": "2023-01-21T11:37:56.086Z"
   },
   {
    "duration": 13,
    "start_time": "2023-01-21T11:37:56.101Z"
   },
   {
    "duration": 16,
    "start_time": "2023-01-21T11:37:56.116Z"
   },
   {
    "duration": 36,
    "start_time": "2023-01-21T11:37:56.134Z"
   },
   {
    "duration": 8,
    "start_time": "2023-01-21T11:38:11.612Z"
   },
   {
    "duration": 7,
    "start_time": "2023-01-21T11:38:18.789Z"
   },
   {
    "duration": 9,
    "start_time": "2023-01-21T11:38:57.578Z"
   },
   {
    "duration": 7,
    "start_time": "2023-01-21T11:39:01.843Z"
   },
   {
    "duration": 107,
    "start_time": "2023-01-21T11:39:16.109Z"
   },
   {
    "duration": 24,
    "start_time": "2023-01-21T11:40:01.753Z"
   },
   {
    "duration": 8,
    "start_time": "2023-01-21T11:40:08.255Z"
   },
   {
    "duration": 9,
    "start_time": "2023-01-21T11:40:24.225Z"
   },
   {
    "duration": 120,
    "start_time": "2023-01-21T11:40:50.520Z"
   },
   {
    "duration": 8,
    "start_time": "2023-01-21T11:40:56.228Z"
   },
   {
    "duration": 1250,
    "start_time": "2023-01-21T12:52:39.020Z"
   },
   {
    "duration": 4,
    "start_time": "2023-01-21T12:52:40.563Z"
   },
   {
    "duration": 13,
    "start_time": "2023-01-21T12:52:42.145Z"
   },
   {
    "duration": 15,
    "start_time": "2023-01-21T12:52:42.911Z"
   },
   {
    "duration": 19,
    "start_time": "2023-01-21T12:52:44.931Z"
   },
   {
    "duration": 25,
    "start_time": "2023-01-21T12:52:47.325Z"
   },
   {
    "duration": 197,
    "start_time": "2023-01-21T12:52:54.522Z"
   },
   {
    "duration": 197,
    "start_time": "2023-01-21T13:01:08.752Z"
   },
   {
    "duration": 303,
    "start_time": "2023-01-21T13:05:11.268Z"
   },
   {
    "duration": 187,
    "start_time": "2023-01-21T13:08:23.508Z"
   },
   {
    "duration": 199,
    "start_time": "2023-01-21T13:08:54.796Z"
   },
   {
    "duration": 196,
    "start_time": "2023-01-21T13:10:14.980Z"
   },
   {
    "duration": 6,
    "start_time": "2023-01-21T13:11:00.322Z"
   },
   {
    "duration": 169,
    "start_time": "2023-01-21T13:11:23.288Z"
   },
   {
    "duration": 132,
    "start_time": "2023-01-21T13:11:51.420Z"
   },
   {
    "duration": 6,
    "start_time": "2023-01-21T13:12:28.210Z"
   },
   {
    "duration": 215,
    "start_time": "2023-01-21T13:12:31.389Z"
   },
   {
    "duration": 124,
    "start_time": "2023-01-21T13:14:49.667Z"
   },
   {
    "duration": 134,
    "start_time": "2023-01-21T13:15:38.291Z"
   },
   {
    "duration": 135,
    "start_time": "2023-01-21T13:16:36.994Z"
   },
   {
    "duration": 135,
    "start_time": "2023-01-21T13:20:19.723Z"
   },
   {
    "duration": 128,
    "start_time": "2023-01-21T13:20:58.762Z"
   },
   {
    "duration": 128,
    "start_time": "2023-01-21T13:22:15.356Z"
   },
   {
    "duration": 7,
    "start_time": "2023-01-21T13:23:42.525Z"
   },
   {
    "duration": 173,
    "start_time": "2023-01-21T13:23:46.804Z"
   },
   {
    "duration": 255,
    "start_time": "2023-01-21T13:23:57.998Z"
   },
   {
    "duration": 191,
    "start_time": "2023-01-21T13:25:53.095Z"
   },
   {
    "duration": 177,
    "start_time": "2023-01-21T13:27:04.360Z"
   },
   {
    "duration": 264,
    "start_time": "2023-01-21T13:27:55.975Z"
   },
   {
    "duration": 204,
    "start_time": "2023-01-21T13:28:13.398Z"
   },
   {
    "duration": 167,
    "start_time": "2023-01-21T13:28:35.853Z"
   },
   {
    "duration": 185,
    "start_time": "2023-01-21T13:28:55.382Z"
   },
   {
    "duration": 166,
    "start_time": "2023-01-21T13:29:18.371Z"
   },
   {
    "duration": 191,
    "start_time": "2023-01-21T13:29:35.416Z"
   },
   {
    "duration": 144,
    "start_time": "2023-01-21T13:30:30.975Z"
   },
   {
    "duration": 179,
    "start_time": "2023-01-21T13:30:53.894Z"
   },
   {
    "duration": 159,
    "start_time": "2023-01-21T13:33:41.044Z"
   },
   {
    "duration": 145,
    "start_time": "2023-01-21T13:35:03.700Z"
   },
   {
    "duration": 149,
    "start_time": "2023-01-21T13:35:40.957Z"
   },
   {
    "duration": 231,
    "start_time": "2023-01-21T13:36:31.951Z"
   },
   {
    "duration": 273,
    "start_time": "2023-01-21T13:40:04.310Z"
   },
   {
    "duration": 310,
    "start_time": "2023-01-21T13:41:00.848Z"
   },
   {
    "duration": 189,
    "start_time": "2023-01-21T13:43:32.278Z"
   },
   {
    "duration": 13,
    "start_time": "2023-01-21T13:48:38.315Z"
   },
   {
    "duration": 14,
    "start_time": "2023-01-21T13:51:41.436Z"
   },
   {
    "duration": 192,
    "start_time": "2023-01-21T13:52:59.740Z"
   },
   {
    "duration": 155,
    "start_time": "2023-01-21T14:05:44.372Z"
   },
   {
    "duration": 93,
    "start_time": "2023-01-21T14:06:33.138Z"
   },
   {
    "duration": 139,
    "start_time": "2023-01-21T14:07:10.438Z"
   },
   {
    "duration": 101,
    "start_time": "2023-01-21T14:59:47.703Z"
   },
   {
    "duration": 3,
    "start_time": "2023-01-21T14:59:48.740Z"
   },
   {
    "duration": 12,
    "start_time": "2023-01-21T14:59:49.494Z"
   },
   {
    "duration": 16,
    "start_time": "2023-01-21T14:59:49.856Z"
   },
   {
    "duration": 17,
    "start_time": "2023-01-21T14:59:50.912Z"
   },
   {
    "duration": 17,
    "start_time": "2023-01-21T14:59:52.046Z"
   },
   {
    "duration": 202,
    "start_time": "2023-01-21T14:59:54.382Z"
   },
   {
    "duration": 256,
    "start_time": "2023-01-21T15:00:03.559Z"
   },
   {
    "duration": 166,
    "start_time": "2023-01-21T15:00:04.838Z"
   },
   {
    "duration": 254,
    "start_time": "2023-01-21T15:00:05.686Z"
   },
   {
    "duration": 182,
    "start_time": "2023-01-21T15:00:08.245Z"
   },
   {
    "duration": 171,
    "start_time": "2023-01-21T15:00:09.848Z"
   },
   {
    "duration": 6,
    "start_time": "2023-01-21T15:00:10.612Z"
   },
   {
    "duration": 181,
    "start_time": "2023-01-21T15:00:11.383Z"
   },
   {
    "duration": 142,
    "start_time": "2023-01-21T15:00:12.214Z"
   },
   {
    "duration": 152,
    "start_time": "2023-01-21T15:00:13.070Z"
   },
   {
    "duration": 152,
    "start_time": "2023-01-21T15:00:14.357Z"
   },
   {
    "duration": 162,
    "start_time": "2023-01-21T15:00:15.213Z"
   },
   {
    "duration": 131,
    "start_time": "2023-01-21T15:00:16.645Z"
   },
   {
    "duration": 7,
    "start_time": "2023-01-21T15:00:21.195Z"
   },
   {
    "duration": 152,
    "start_time": "2023-01-21T15:00:22.173Z"
   },
   {
    "duration": 294,
    "start_time": "2023-01-21T15:00:29.759Z"
   },
   {
    "duration": 8,
    "start_time": "2023-01-21T15:00:35.519Z"
   },
   {
    "duration": 7,
    "start_time": "2023-01-21T15:00:38.192Z"
   },
   {
    "duration": 310,
    "start_time": "2023-01-21T15:00:44.161Z"
   },
   {
    "duration": 172,
    "start_time": "2023-01-21T15:00:49.607Z"
   },
   {
    "duration": 144,
    "start_time": "2023-01-21T15:00:59.382Z"
   },
   {
    "duration": 160,
    "start_time": "2023-01-21T15:05:38.495Z"
   },
   {
    "duration": 145,
    "start_time": "2023-01-21T15:07:16.086Z"
   },
   {
    "duration": 132,
    "start_time": "2023-01-21T15:08:56.160Z"
   },
   {
    "duration": 128,
    "start_time": "2023-01-21T15:12:25.339Z"
   },
   {
    "duration": 146,
    "start_time": "2023-01-21T16:14:59.731Z"
   },
   {
    "duration": 148,
    "start_time": "2023-01-21T16:16:33.343Z"
   },
   {
    "duration": 163,
    "start_time": "2023-01-21T16:18:22.962Z"
   },
   {
    "duration": 134,
    "start_time": "2023-01-21T16:38:55.011Z"
   },
   {
    "duration": 218,
    "start_time": "2023-01-21T16:39:36.773Z"
   },
   {
    "duration": 158,
    "start_time": "2023-01-21T16:44:10.573Z"
   },
   {
    "duration": 154,
    "start_time": "2023-01-21T16:45:07.490Z"
   },
   {
    "duration": 12,
    "start_time": "2023-01-21T16:51:50.700Z"
   },
   {
    "duration": 10,
    "start_time": "2023-01-21T17:02:50.726Z"
   }
  ],
  "kernelspec": {
   "display_name": "Python 3 (ipykernel)",
   "language": "python",
   "name": "python3"
  },
  "language_info": {
   "codemirror_mode": {
    "name": "ipython",
    "version": 3
   },
   "file_extension": ".py",
   "mimetype": "text/x-python",
   "name": "python",
   "nbconvert_exporter": "python",
   "pygments_lexer": "ipython3",
   "version": "3.9.5"
  },
  "toc": {
   "base_numbering": 1,
   "nav_menu": {},
   "number_sections": true,
   "sideBar": true,
   "skip_h1_title": true,
   "title_cell": "Table of Contents",
   "title_sidebar": "Contents",
   "toc_cell": false,
   "toc_position": {},
   "toc_section_display": true,
   "toc_window_display": false
  }
 },
 "nbformat": 4,
 "nbformat_minor": 2
}
