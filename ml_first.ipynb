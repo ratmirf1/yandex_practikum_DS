{
 "cells": [
  {
   "cell_type": "markdown",
   "metadata": {},
   "source": [
    "\n",
    "Привет, меня зовут Люман Аблаев. Сегодня я проверю твой проект.\n",
    "<br> Дальнейшее общение будет происходить на \"ты\" если это не вызывает никаких проблем.\n",
    "<br> Желательно реагировать на каждый мой комментарий ('исправил', 'не понятно как исправить ошибку', ...)\n",
    "<br> Пожалуйста, не удаляй комментарии ревьюера, так как они повышают качество повторного ревью.\n",
    "\n",
    "Комментарии будут в <font color='green'>зеленой</font>, <font color='blue'>синей</font> или <font color='red'>красной</font> рамках:\n",
    "\n",
    "<div class=\"alert alert-block alert-success\">\n",
    "<b>Успех:</b> Если все сделано отлично\n",
    "</div>\n",
    "\n",
    "<div class=\"alert alert-block alert-info\">\n",
    "<b>Совет: </b> Если можно немного улучшить\n",
    "</div>\n",
    "\n",
    "<div class=\"alert alert-block alert-danger\">\n",
    "<b>Ошибка:</b> Если требуются исправления. Работа не может быть принята с красными комментариями.\n",
    "</div>\n",
    "\n",
    "-------------------\n",
    "\n",
    "Будет очень хорошо, если ты будешь помечать свои действия следующим образом:\n",
    "<div class=\"alert alert-block alert-warning\">\n",
    "<b>Комментарий студента:</b> ...\n",
    "</div>\n",
    "\n",
    "<div class=\"alert alert-block alert-warning\">\n",
    "<b>Изменения:</b> Были внесены следующие изменения ...\n",
    "</div>\n",
    "\n",
    "<font color='orange' style='font-size:24px; font-weight:bold'>Общее впечатление</font>\n",
    "* Спасибо за такую хорошую работу, мне она очень понравилась \n",
    "- Я оставил некоторые советы, надеюсь они будут полезными или интересными.\n",
    "- Есть небольшие недочеты, но думаю у тебя не составить труда их исправить\n",
    "- Жду обновленную работу!\n",
    "\n"
   ]
  },
  {
   "cell_type": "markdown",
   "metadata": {},
   "source": [
    "<font color='orange' style='font-size:24px; font-weight:bold'>Общее впечатление[3]</font>\n",
    "* Спасибо за оперативность\n",
    "- Приятно видеть фидбек на комментарии.\n",
    "- Недочеты исправлены - работа полностью корректна\n",
    "- Рад был быть полезен. Удачи в дальнейшем обучении!\n"
   ]
  },
  {
   "cell_type": "markdown",
   "metadata": {},
   "source": [
    "# Рекомендация тарифов"
   ]
  },
  {
   "cell_type": "markdown",
   "metadata": {},
   "source": [
    "В вашем распоряжении данные о поведении клиентов, которые уже перешли на эти тарифы (из проекта курса «Статистический анализ данных»). Нужно построить модель для задачи классификации, которая выберет подходящий тариф. Предобработка данных не понадобится — вы её уже сделали.\n",
    "\n",
    "Постройте модель с максимально большим значением *accuracy*. Чтобы сдать проект успешно, нужно довести долю правильных ответов по крайней мере до 0.75. Проверьте *accuracy* на тестовой выборке самостоятельно."
   ]
  },
  {
   "cell_type": "markdown",
   "metadata": {},
   "source": [
    "# Инструкция по выполнению проекта"
   ]
  },
  {
   "cell_type": "markdown",
   "metadata": {},
   "source": [
    "1 Откройте файл с данными и изучите его. \n",
    "Путь к файлу: /datasets/users_behavior.csv.\n",
    "\n",
    "2 Разделите исходные данные на обучающую, валидационную и тестовую выборки.\n",
    "\n",
    "3 Исследуйте качество разных моделей, меняя гиперпараметры. Кратко напишите выводы исследования.\n",
    "\n",
    "4 Проверьте качество модели на тестовой выборке.\n",
    "\n",
    "5 Дополнительное задание: проверьте модели на вменяемость. Ничего страшного, если не получится: эти данные сложнее тех, с которыми вы работали раньше. В следующем курсе подробнее об этом расскажем."
   ]
  },
  {
   "cell_type": "markdown",
   "metadata": {},
   "source": [
    "# Описание данных"
   ]
  },
  {
   "cell_type": "markdown",
   "metadata": {},
   "source": [
    "Каждый объект в наборе данных — это информация о поведении одного пользователя за месяц. Известно:\n",
    "\n",
    "сalls — количество звонков,\n",
    "\n",
    "minutes — суммарная длительность звонков в минутах,\n",
    "\n",
    "messages — количество sms-сообщений,\n",
    "\n",
    "mb_used — израсходованный интернет-трафик в Мб,\n",
    "\n",
    "is_ultra — каким тарифом пользовался в течение месяца («Ультра» — 1, «Смарт» — 0)."
   ]
  },
  {
   "cell_type": "markdown",
   "metadata": {},
   "source": [
    "## Откройте и изучите файл"
   ]
  },
  {
   "cell_type": "markdown",
   "metadata": {},
   "source": [
    "<div class=\"alert alert-block alert-info\">\n",
    "<b>Совет:</b> Советую собирать все импорты в верхней части ноутбука! \n",
    "Если у того, кто будет запускать твой ноутбук будут отсутствовать некоторые библиотеки, то он это увидит сразу, а не в процессе!\n",
    "</div>\n"
   ]
  },
  {
   "cell_type": "code",
   "execution_count": 1,
   "metadata": {},
   "outputs": [
    {
     "data": {
      "text/html": [
       "<div>\n",
       "<style scoped>\n",
       "    .dataframe tbody tr th:only-of-type {\n",
       "        vertical-align: middle;\n",
       "    }\n",
       "\n",
       "    .dataframe tbody tr th {\n",
       "        vertical-align: top;\n",
       "    }\n",
       "\n",
       "    .dataframe thead th {\n",
       "        text-align: right;\n",
       "    }\n",
       "</style>\n",
       "<table border=\"1\" class=\"dataframe\">\n",
       "  <thead>\n",
       "    <tr style=\"text-align: right;\">\n",
       "      <th></th>\n",
       "      <th>calls</th>\n",
       "      <th>minutes</th>\n",
       "      <th>messages</th>\n",
       "      <th>mb_used</th>\n",
       "      <th>is_ultra</th>\n",
       "    </tr>\n",
       "  </thead>\n",
       "  <tbody>\n",
       "    <tr>\n",
       "      <th>0</th>\n",
       "      <td>40.0</td>\n",
       "      <td>311.90</td>\n",
       "      <td>83.0</td>\n",
       "      <td>19915.42</td>\n",
       "      <td>0</td>\n",
       "    </tr>\n",
       "    <tr>\n",
       "      <th>1</th>\n",
       "      <td>85.0</td>\n",
       "      <td>516.75</td>\n",
       "      <td>56.0</td>\n",
       "      <td>22696.96</td>\n",
       "      <td>0</td>\n",
       "    </tr>\n",
       "    <tr>\n",
       "      <th>2</th>\n",
       "      <td>77.0</td>\n",
       "      <td>467.66</td>\n",
       "      <td>86.0</td>\n",
       "      <td>21060.45</td>\n",
       "      <td>0</td>\n",
       "    </tr>\n",
       "    <tr>\n",
       "      <th>3</th>\n",
       "      <td>106.0</td>\n",
       "      <td>745.53</td>\n",
       "      <td>81.0</td>\n",
       "      <td>8437.39</td>\n",
       "      <td>1</td>\n",
       "    </tr>\n",
       "    <tr>\n",
       "      <th>4</th>\n",
       "      <td>66.0</td>\n",
       "      <td>418.74</td>\n",
       "      <td>1.0</td>\n",
       "      <td>14502.75</td>\n",
       "      <td>0</td>\n",
       "    </tr>\n",
       "  </tbody>\n",
       "</table>\n",
       "</div>"
      ],
      "text/plain": [
       "   calls  minutes  messages   mb_used  is_ultra\n",
       "0   40.0   311.90      83.0  19915.42         0\n",
       "1   85.0   516.75      56.0  22696.96         0\n",
       "2   77.0   467.66      86.0  21060.45         0\n",
       "3  106.0   745.53      81.0   8437.39         1\n",
       "4   66.0   418.74       1.0  14502.75         0"
      ]
     },
     "execution_count": 1,
     "metadata": {},
     "output_type": "execute_result"
    }
   ],
   "source": [
    "import pandas as pd\n",
    "from sklearn.model_selection import train_test_split\n",
    "from sklearn.tree import DecisionTreeClassifier\n",
    "from sklearn.metrics import accuracy_score\n",
    "from sklearn.linear_model import LogisticRegression\n",
    "from sklearn.ensemble import RandomForestClassifier\n",
    "\n",
    "df = pd.read_csv('/datasets/users_behavior.csv')\n",
    "df.head()"
   ]
  },
  {
   "cell_type": "markdown",
   "metadata": {},
   "source": [
    "<div class=\"alert alert-block alert-info\">\n",
    "<b>Совет:</b> У нас тут не задача регресии - модели которые ты в первой ячейки импортируешь не нужны в этой работе.\n",
    "</div>\n"
   ]
  },
  {
   "cell_type": "code",
   "execution_count": 2,
   "metadata": {},
   "outputs": [
    {
     "name": "stdout",
     "output_type": "stream",
     "text": [
      "<class 'pandas.core.frame.DataFrame'>\n",
      "RangeIndex: 3214 entries, 0 to 3213\n",
      "Data columns (total 5 columns):\n",
      " #   Column    Non-Null Count  Dtype  \n",
      "---  ------    --------------  -----  \n",
      " 0   calls     3214 non-null   float64\n",
      " 1   minutes   3214 non-null   float64\n",
      " 2   messages  3214 non-null   float64\n",
      " 3   mb_used   3214 non-null   float64\n",
      " 4   is_ultra  3214 non-null   int64  \n",
      "dtypes: float64(4), int64(1)\n",
      "memory usage: 125.7 KB\n"
     ]
    }
   ],
   "source": [
    "df.info()"
   ]
  },
  {
   "cell_type": "code",
   "execution_count": 3,
   "metadata": {},
   "outputs": [
    {
     "data": {
      "text/html": [
       "<div>\n",
       "<style scoped>\n",
       "    .dataframe tbody tr th:only-of-type {\n",
       "        vertical-align: middle;\n",
       "    }\n",
       "\n",
       "    .dataframe tbody tr th {\n",
       "        vertical-align: top;\n",
       "    }\n",
       "\n",
       "    .dataframe thead th {\n",
       "        text-align: right;\n",
       "    }\n",
       "</style>\n",
       "<table border=\"1\" class=\"dataframe\">\n",
       "  <thead>\n",
       "    <tr style=\"text-align: right;\">\n",
       "      <th></th>\n",
       "      <th>calls</th>\n",
       "      <th>minutes</th>\n",
       "      <th>messages</th>\n",
       "      <th>mb_used</th>\n",
       "      <th>is_ultra</th>\n",
       "    </tr>\n",
       "  </thead>\n",
       "  <tbody>\n",
       "    <tr>\n",
       "      <th>count</th>\n",
       "      <td>3214.000000</td>\n",
       "      <td>3214.000000</td>\n",
       "      <td>3214.000000</td>\n",
       "      <td>3214.000000</td>\n",
       "      <td>3214.000000</td>\n",
       "    </tr>\n",
       "    <tr>\n",
       "      <th>mean</th>\n",
       "      <td>63.038892</td>\n",
       "      <td>438.208787</td>\n",
       "      <td>38.281269</td>\n",
       "      <td>17207.673836</td>\n",
       "      <td>0.306472</td>\n",
       "    </tr>\n",
       "    <tr>\n",
       "      <th>std</th>\n",
       "      <td>33.236368</td>\n",
       "      <td>234.569872</td>\n",
       "      <td>36.148326</td>\n",
       "      <td>7570.968246</td>\n",
       "      <td>0.461100</td>\n",
       "    </tr>\n",
       "    <tr>\n",
       "      <th>min</th>\n",
       "      <td>0.000000</td>\n",
       "      <td>0.000000</td>\n",
       "      <td>0.000000</td>\n",
       "      <td>0.000000</td>\n",
       "      <td>0.000000</td>\n",
       "    </tr>\n",
       "    <tr>\n",
       "      <th>25%</th>\n",
       "      <td>40.000000</td>\n",
       "      <td>274.575000</td>\n",
       "      <td>9.000000</td>\n",
       "      <td>12491.902500</td>\n",
       "      <td>0.000000</td>\n",
       "    </tr>\n",
       "    <tr>\n",
       "      <th>50%</th>\n",
       "      <td>62.000000</td>\n",
       "      <td>430.600000</td>\n",
       "      <td>30.000000</td>\n",
       "      <td>16943.235000</td>\n",
       "      <td>0.000000</td>\n",
       "    </tr>\n",
       "    <tr>\n",
       "      <th>75%</th>\n",
       "      <td>82.000000</td>\n",
       "      <td>571.927500</td>\n",
       "      <td>57.000000</td>\n",
       "      <td>21424.700000</td>\n",
       "      <td>1.000000</td>\n",
       "    </tr>\n",
       "    <tr>\n",
       "      <th>max</th>\n",
       "      <td>244.000000</td>\n",
       "      <td>1632.060000</td>\n",
       "      <td>224.000000</td>\n",
       "      <td>49745.730000</td>\n",
       "      <td>1.000000</td>\n",
       "    </tr>\n",
       "  </tbody>\n",
       "</table>\n",
       "</div>"
      ],
      "text/plain": [
       "             calls      minutes     messages       mb_used     is_ultra\n",
       "count  3214.000000  3214.000000  3214.000000   3214.000000  3214.000000\n",
       "mean     63.038892   438.208787    38.281269  17207.673836     0.306472\n",
       "std      33.236368   234.569872    36.148326   7570.968246     0.461100\n",
       "min       0.000000     0.000000     0.000000      0.000000     0.000000\n",
       "25%      40.000000   274.575000     9.000000  12491.902500     0.000000\n",
       "50%      62.000000   430.600000    30.000000  16943.235000     0.000000\n",
       "75%      82.000000   571.927500    57.000000  21424.700000     1.000000\n",
       "max     244.000000  1632.060000   224.000000  49745.730000     1.000000"
      ]
     },
     "execution_count": 3,
     "metadata": {},
     "output_type": "execute_result"
    }
   ],
   "source": [
    "df.describe()"
   ]
  },
  {
   "cell_type": "markdown",
   "metadata": {},
   "source": [
    "Как и говорилось в описании проекта, перед нами полностью гоовые данные"
   ]
  },
  {
   "cell_type": "markdown",
   "metadata": {},
   "source": [
    " \n",
    "<div class=\"alert alert-info\">\n",
    "<b>Совет:</b>\n",
    "Также важно изучить корреляции в данных. Так мы можем оценить взаимосвязи в данных и влияние параметров на целевой признак. Рекомендую посмотреть метод `sns.pairplot` с параметром hue, в который мы передаем целевой признак. Будет здорово, если ты сможешь это реализовать в текущем или последующих проектах.\n",
    "</div>\n"
   ]
  },
  {
   "cell_type": "markdown",
   "metadata": {},
   "source": [
    "## Разбейте данные на выборки"
   ]
  },
  {
   "cell_type": "code",
   "execution_count": 4,
   "metadata": {},
   "outputs": [],
   "source": [
    "#признаки\n",
    "features = df.drop(['is_ultra'], axis=1)\n",
    "#целевой признак\n",
    "target = df['is_ultra']\n",
    "\n",
    "#разделим данные на обучающую, валидационную и тестовую выборки, соотношение 3:1:1\n",
    "features_train, features_part, target_train, target_part = train_test_split(features, target, test_size=0.25, random_state=12345)\n",
    "features_valid, features_test, target_valid, target_test = train_test_split(features_part, target_part, test_size=0.5, random_state=12345)"
   ]
  },
  {
   "cell_type": "code",
   "execution_count": 5,
   "metadata": {},
   "outputs": [
    {
     "name": "stdout",
     "output_type": "stream",
     "text": [
      "(2410, 4) (402, 4) (402, 4) (2410,) (402,) (402,)\n"
     ]
    }
   ],
   "source": [
    "#размеры новых выборок\n",
    "print(features_train.shape, features_valid.shape, features_test.shape, target_train.shape,  target_valid.shape, target_test.shape)"
   ]
  },
  {
   "cell_type": "markdown",
   "metadata": {},
   "source": [
    "<div class=\"alert alert-block alert-success\">  \n",
    "<b>Успех:</b> С разбиением все в порядке, молодец, что не забываешь проверять полученные выборки ,  это иной раз может предостеречь тебя от глупых ошибок.\n",
    "</div>  "
   ]
  },
  {
   "cell_type": "markdown",
   "metadata": {},
   "source": [
    "## Исследуйте модели"
   ]
  },
  {
   "cell_type": "markdown",
   "metadata": {},
   "source": [
    "### Дерево принятия решения"
   ]
  },
  {
   "cell_type": "code",
   "execution_count": 6,
   "metadata": {},
   "outputs": [
    {
     "name": "stdout",
     "output_type": "stream",
     "text": [
      "Accuracy лучшей модели: 0.7985074626865671\n"
     ]
    }
   ],
   "source": [
    "best_model = 0\n",
    "best_result = 0\n",
    "for depth in range(1, 25):\n",
    "    model = DecisionTreeClassifier(random_state=12345, max_depth = depth) # обучаем модель с заданной глубиной дерева\n",
    "    model.fit(features_train, target_train) # обучаем модель\n",
    "    predictions_valid = model.predict(features_valid) # получаем предсказания модели\n",
    "    result = accuracy_score(target_valid, predictions_valid)\n",
    "    if result > best_result:\n",
    "        best_model = model\n",
    "        best_result = result\n",
    "        \n",
    "print('Accuracy лучшей модели:', best_result)"
   ]
  },
  {
   "cell_type": "markdown",
   "metadata": {},
   "source": [
    "### Случайный лес"
   ]
  },
  {
   "cell_type": "code",
   "execution_count": 7,
   "metadata": {},
   "outputs": [
    {
     "name": "stdout",
     "output_type": "stream",
     "text": [
      "Количество деревьев 7 Глубина: 10 Accuracy лучшей модели: 0.818407960199005\n"
     ]
    }
   ],
   "source": [
    "best_est = 0\n",
    "best_result = 0\n",
    "best_depth = 0\n",
    "\n",
    "for estim in range(1,25):\n",
    "    for depth in range(1, 25):\n",
    "        model = RandomForestClassifier(random_state=12345, n_estimators=estim, criterion='entropy', max_depth = depth)\n",
    "        model.fit(features_train, target_train)\n",
    "        predictions_valid = model.predict(features_valid)\n",
    "        accuracy = accuracy_score(target_valid, predictions_valid)\n",
    "        if accuracy > best_result:\n",
    "            best_est = estim\n",
    "            best_result = accuracy\n",
    "            best_depth = depth\n",
    "\n",
    "print('Количество деревьев', best_est, 'Глубина:', best_depth, 'Accuracy лучшей модели:', best_result)         "
   ]
  },
  {
   "cell_type": "markdown",
   "metadata": {},
   "source": [
    "При использовании дополнительных гиперпараметров показатель показатель accuracy улучшился почти на 2%. Считаю, что добились хорошего результата, проверим на тестовой выборке."
   ]
  },
  {
   "cell_type": "markdown",
   "metadata": {},
   "source": [
    "\n",
    "<div class=\"alert alert-block alert-danger\">\n",
    "<b>Ошибка:</b> \n",
    "    \n",
    "1) В чем смысл добавлять глубину, и нигде не сохранять/отслеживать/выводить лучшее значение глубины.\n",
    "    \n",
    "2) Я так понял, ты здесь пыталась подобрать параметр глубина, но тогда здесь не нужно делать внешний цикл  `for estim in range(1,25):` - потому что это бессмысленно.\n",
    "    \n",
    "3) Не нужно каждый гиперпараметр подбирать в 1 ячейке, все нужно делать в одной используя вложенные циклы\n",
    "</div>"
   ]
  },
  {
   "cell_type": "markdown",
   "metadata": {},
   "source": [
    "<div class=\"alert alert-block alert-warning\">\n",
    "<b>Комментарий студента:</b> Вроде исправил ошибки насколько я понял. В решении этого проекта я опирался на теоритические задания из курса. Открывая и повторяя пройденные задачи.\n",
    "</div>"
   ]
  },
  {
   "cell_type": "markdown",
   "metadata": {},
   "source": [
    "\n",
    "<div class=\"alert alert-block alert-danger\">\n",
    "<b>Ошибка[2]:</b> \n",
    "    \n",
    "1) Вместо трех ячеек с RandomForestClassifier сделай одну (две убери).\n",
    "    \n",
    "2) Сделай вложенный цикл: внешним циклом пусть у тебя остается `for estim in range(1,25)`, а внутренним циклом добавь подбор depth. Не забывай значие подставлять в классификатор, по аналоги с `estim`\n",
    "</div>"
   ]
  },
  {
   "cell_type": "markdown",
   "metadata": {},
   "source": [
    "\n",
    "<div class=\"alert alert-block alert-success\">\n",
    "<b>Успех[3]:</b> Умница!\n",
    "</div>\n"
   ]
  },
  {
   "cell_type": "markdown",
   "metadata": {},
   "source": [
    "### Логистическая регрессия"
   ]
  },
  {
   "cell_type": "code",
   "execution_count": 8,
   "metadata": {},
   "outputs": [
    {
     "name": "stdout",
     "output_type": "stream",
     "text": [
      "Accuracy: 0.7039800995024875\n"
     ]
    }
   ],
   "source": [
    "model =  LogisticRegression()\n",
    "model.fit(features_train, target_train)\n",
    "predictions = model.predict(features_valid)\n",
    "accuracy = accuracy_score(target_valid, predictions)\n",
    "print('Accuracy:', accuracy)"
   ]
  },
  {
   "cell_type": "markdown",
   "metadata": {},
   "source": [
    "# Вывод"
   ]
  },
  {
   "cell_type": "markdown",
   "metadata": {},
   "source": [
    "По результатам расчетов мы видим, что лучше всего себя показала модель Случайного леса с результатом Accuracy 0.818407960199005(почти 82% точности). Проверим эту модель на тестовой выборке. Хуже всего показала себя модель логистической регресии  "
   ]
  },
  {
   "cell_type": "markdown",
   "metadata": {},
   "source": [
    "\n",
    "<div class=\"alert alert-block alert-success\">\n",
    "<b>Успех[3]:</b> Шаг проделан корректно, валидационная выборка корректно использована\n",
    "</div>\n"
   ]
  },
  {
   "cell_type": "markdown",
   "metadata": {},
   "source": [
    "## Проверьте модель на тестовой выборке"
   ]
  },
  {
   "cell_type": "code",
   "execution_count": 9,
   "metadata": {},
   "outputs": [
    {
     "name": "stdout",
     "output_type": "stream",
     "text": [
      "Accuracy: 0.7985074626865671\n"
     ]
    }
   ],
   "source": [
    "#проверяем модель случайного леса на тестовой выборке\n",
    "model = RandomForestClassifier(random_state=12345, n_estimators=7, criterion='entropy', max_depth = 10)\n",
    "model.fit(features_train, target_train)\n",
    "predictions = model.predict(features_test)\n",
    "accuracy = accuracy_score(target_test, predictions)\n",
    "print('Accuracy:', accuracy)"
   ]
  },
  {
   "cell_type": "markdown",
   "metadata": {},
   "source": [
    "\n",
    "<div class=\"alert alert-block alert-danger\">\n",
    "<b>Ошибка:</b> \n",
    "    \n",
    "После исправления ошибок на предыдущем шаге. Выбери лучшие гиперпараметры полученные на предыдущем шаге.\n",
    "</div>"
   ]
  },
  {
   "cell_type": "markdown",
   "metadata": {},
   "source": [
    "\n",
    "<div class=\"alert alert-block alert-success\">\n",
    "<b>Успех[3]:</b> С тестированием все в порядке\n",
    "</div>\n"
   ]
  },
  {
   "cell_type": "markdown",
   "metadata": {},
   "source": [
    "# Вывод\n",
    "В ходе исследования мы провели ряд действий: открыли и изучили данные перед началом исследования, разбив данные на признаки и целевой признак разделили их на обучающую, валидационную и тестовую выборки, опробовали разные модели и выбрали лучшую, затем проверили модель на тестовой выборке.\n",
    "Проверив модель случайного леса на тестовой выборке мы получили результат accuracy 0.7985074626865671, то есть почти 80% точности, что при маленьком размере выборки является хорошим результатом. "
   ]
  },
  {
   "cell_type": "markdown",
   "metadata": {},
   "source": [
    "## (бонус) Проверьте модели на адекватность"
   ]
  },
  {
   "cell_type": "markdown",
   "metadata": {},
   "source": [
    "<div class=\"alert alert-block alert-info\">\n",
    "<b>Совет:</b> Здесь подразумевалось сравнить наши модели с фиктивной/случайной, может нам стоит всегда предсказывать наибольший класс и результат будет не хуже. Для данной задачи удобен инструмент DummyClassifier</div>\n",
    "</div>"
   ]
  },
  {
   "cell_type": "markdown",
   "metadata": {},
   "source": [
    "<div class=\"alert alert-block alert-warning\">\n",
    "<b>Комментарий студента[2]:</b> Подойдет ли модель DummyClassifier для проверки на адекватность?\n",
    "</div>"
   ]
  },
  {
   "cell_type": "markdown",
   "metadata": {},
   "source": [
    "<div class=\"alert alert-block alert-success\">\n",
    "    \n",
    "<b>Ревьювер[2]:</b> Можешь посмотреть здесь `https://github.com/Dyakonov/IML/tree/master/2021`. Исправь крассные комментарии - там не сложно\n",
    "</div>\n"
   ]
  },
  {
   "cell_type": "markdown",
   "metadata": {},
   "source": [
    "<div class=\"alert alert-block alert-warning\">\n",
    "<b>Комментарий студента:</b> Спасибо за помощь, обязательно всё прочитаю\n",
    "</div>"
   ]
  },
  {
   "cell_type": "markdown",
   "metadata": {},
   "source": [
    "## Чек-лист готовности проекта"
   ]
  },
  {
   "cell_type": "markdown",
   "metadata": {},
   "source": [
    "Поставьте 'x' в выполненных пунктах. Далее нажмите Shift+Enter."
   ]
  },
  {
   "cell_type": "markdown",
   "metadata": {},
   "source": [
    "- [x] Jupyter Notebook открыт\n",
    "- [x] Весь код исполняется без ошибок\n",
    "- [x] Ячейки с кодом расположены в порядке исполнения\n",
    "- [x] Выполнено задание 1: данные загружены и изучены\n",
    "- [x] Выполнено задание 2: данные разбиты на три выборки\n",
    "- [x] Выполнено задание 3: проведено исследование моделей\n",
    "    - [x] Рассмотрено больше одной модели\n",
    "    - [x] Рассмотрено хотя бы 3 значения гипепараметров для какой-нибудь модели\n",
    "    - [x] Написаны выводы по результатам исследования\n",
    "- [x] Выполнено задание 3: Проведено тестирование\n",
    "- [x] Удалось достичь accuracy не меньше 0.75\n"
   ]
  }
 ],
 "metadata": {
  "ExecuteTimeLog": [
   {
    "duration": 1194,
    "start_time": "2023-02-04T14:30:49.071Z"
   },
   {
    "duration": 30,
    "start_time": "2023-02-04T14:43:00.386Z"
   },
   {
    "duration": 10,
    "start_time": "2023-02-04T14:43:16.361Z"
   },
   {
    "duration": 21,
    "start_time": "2023-02-04T14:43:45.159Z"
   },
   {
    "duration": 3,
    "start_time": "2023-02-04T14:45:03.256Z"
   },
   {
    "duration": 8,
    "start_time": "2023-02-04T15:05:46.929Z"
   },
   {
    "duration": 12,
    "start_time": "2023-02-04T15:37:23.958Z"
   },
   {
    "duration": 4,
    "start_time": "2023-02-04T15:38:03.356Z"
   },
   {
    "duration": 7,
    "start_time": "2023-02-04T15:42:20.636Z"
   },
   {
    "duration": 4,
    "start_time": "2023-02-04T15:42:21.532Z"
   },
   {
    "duration": 1184,
    "start_time": "2023-02-05T07:30:15.842Z"
   },
   {
    "duration": 11,
    "start_time": "2023-02-05T07:30:17.027Z"
   },
   {
    "duration": 27,
    "start_time": "2023-02-05T07:30:17.039Z"
   },
   {
    "duration": 7,
    "start_time": "2023-02-05T07:30:21.556Z"
   },
   {
    "duration": 4,
    "start_time": "2023-02-05T07:30:22.224Z"
   },
   {
    "duration": 13,
    "start_time": "2023-02-05T07:45:04.342Z"
   },
   {
    "duration": 110,
    "start_time": "2023-02-05T08:07:23.219Z"
   },
   {
    "duration": 21,
    "start_time": "2023-02-05T08:08:00.289Z"
   },
   {
    "duration": 19,
    "start_time": "2023-02-05T08:08:32.298Z"
   },
   {
    "duration": 256,
    "start_time": "2023-02-05T08:13:57.462Z"
   },
   {
    "duration": 243,
    "start_time": "2023-02-05T09:00:15.881Z"
   },
   {
    "duration": 220,
    "start_time": "2023-02-05T09:22:04.621Z"
   },
   {
    "duration": 219,
    "start_time": "2023-02-05T09:23:29.029Z"
   },
   {
    "duration": 9,
    "start_time": "2023-02-05T09:24:18.155Z"
   },
   {
    "duration": 10,
    "start_time": "2023-02-05T09:24:48.035Z"
   },
   {
    "duration": 1367,
    "start_time": "2023-02-05T09:25:16.843Z"
   },
   {
    "duration": 1382,
    "start_time": "2023-02-05T09:25:37.163Z"
   },
   {
    "duration": 1363,
    "start_time": "2023-02-05T09:25:52.387Z"
   },
   {
    "duration": 1542,
    "start_time": "2023-02-05T09:26:51.540Z"
   },
   {
    "duration": 104,
    "start_time": "2023-02-05T10:08:38.038Z"
   },
   {
    "duration": 216,
    "start_time": "2023-02-05T10:11:23.221Z"
   },
   {
    "duration": 1414,
    "start_time": "2023-02-05T10:11:27.656Z"
   },
   {
    "duration": 104,
    "start_time": "2023-02-05T10:11:39.940Z"
   },
   {
    "duration": 26,
    "start_time": "2023-02-05T10:33:49.421Z"
   },
   {
    "duration": 1068,
    "start_time": "2023-02-05T11:49:55.911Z"
   },
   {
    "duration": 1351,
    "start_time": "2023-02-05T11:54:17.448Z"
   },
   {
    "duration": 11078,
    "start_time": "2023-02-05T11:54:25.965Z"
   },
   {
    "duration": 8469,
    "start_time": "2023-02-05T11:54:45.101Z"
   },
   {
    "duration": 1933,
    "start_time": "2023-02-05T11:56:41.548Z"
   },
   {
    "duration": 3575,
    "start_time": "2023-02-05T11:57:21.016Z"
   },
   {
    "duration": 686,
    "start_time": "2023-02-05T11:57:36.403Z"
   },
   {
    "duration": 3,
    "start_time": "2023-02-05T12:03:44.147Z"
   },
   {
    "duration": 1033,
    "start_time": "2023-02-05T12:56:47.736Z"
   },
   {
    "duration": 13,
    "start_time": "2023-02-05T12:56:48.771Z"
   },
   {
    "duration": 29,
    "start_time": "2023-02-05T12:56:48.786Z"
   },
   {
    "duration": 9,
    "start_time": "2023-02-05T12:56:48.818Z"
   },
   {
    "duration": 3,
    "start_time": "2023-02-05T12:56:48.830Z"
   },
   {
    "duration": 286,
    "start_time": "2023-02-05T12:56:48.835Z"
   },
   {
    "duration": 1595,
    "start_time": "2023-02-05T12:56:49.123Z"
   },
   {
    "duration": 3755,
    "start_time": "2023-02-05T12:56:50.721Z"
   },
   {
    "duration": 766,
    "start_time": "2023-02-05T12:56:54.479Z"
   },
   {
    "duration": 361,
    "start_time": "2023-02-05T12:56:55.247Z"
   },
   {
    "duration": 113,
    "start_time": "2023-02-05T12:56:55.613Z"
   },
   {
    "duration": 3,
    "start_time": "2023-02-05T12:56:55.728Z"
   },
   {
    "duration": 1594,
    "start_time": "2023-02-05T12:57:24.353Z"
   },
   {
    "duration": 5,
    "start_time": "2023-02-05T12:57:33.327Z"
   },
   {
    "duration": 1029,
    "start_time": "2023-02-05T13:23:35.955Z"
   },
   {
    "duration": 257,
    "start_time": "2023-02-05T13:23:52.745Z"
   },
   {
    "duration": 12,
    "start_time": "2023-02-05T13:23:54.753Z"
   },
   {
    "duration": 22,
    "start_time": "2023-02-05T13:23:55.232Z"
   },
   {
    "duration": 7,
    "start_time": "2023-02-05T13:23:57.569Z"
   },
   {
    "duration": 5,
    "start_time": "2023-02-05T13:23:58.164Z"
   },
   {
    "duration": 267,
    "start_time": "2023-02-05T13:24:00.708Z"
   },
   {
    "duration": 1206,
    "start_time": "2023-02-05T16:49:24.722Z"
   },
   {
    "duration": 161,
    "start_time": "2023-02-05T16:49:42.762Z"
   },
   {
    "duration": 14,
    "start_time": "2023-02-05T16:49:58.809Z"
   },
   {
    "duration": 23,
    "start_time": "2023-02-05T16:50:02.404Z"
   },
   {
    "duration": 8,
    "start_time": "2023-02-05T16:50:27.705Z"
   },
   {
    "duration": 4,
    "start_time": "2023-02-05T16:50:28.905Z"
   },
   {
    "duration": 251,
    "start_time": "2023-02-05T16:50:38.077Z"
   },
   {
    "duration": 1500,
    "start_time": "2023-02-05T16:50:46.379Z"
   },
   {
    "duration": 3613,
    "start_time": "2023-02-05T16:50:57.550Z"
   },
   {
    "duration": 12,
    "start_time": "2023-02-05T17:15:44.870Z"
   },
   {
    "duration": 11,
    "start_time": "2023-02-05T17:20:13.991Z"
   },
   {
    "duration": 24,
    "start_time": "2023-02-05T17:20:28.105Z"
   },
   {
    "duration": 32,
    "start_time": "2023-02-05T17:21:10.602Z"
   },
   {
    "duration": 31,
    "start_time": "2023-02-05T17:22:15.832Z"
   },
   {
    "duration": 31,
    "start_time": "2023-02-05T17:37:15.724Z"
   },
   {
    "duration": 34,
    "start_time": "2023-02-05T17:37:18.807Z"
   },
   {
    "duration": 46,
    "start_time": "2023-02-05T17:43:53.042Z"
   },
   {
    "duration": 1240,
    "start_time": "2023-02-06T06:41:23.398Z"
   },
   {
    "duration": 11,
    "start_time": "2023-02-06T06:41:25.661Z"
   },
   {
    "duration": 22,
    "start_time": "2023-02-06T06:41:26.470Z"
   },
   {
    "duration": 7,
    "start_time": "2023-02-06T06:41:31.419Z"
   },
   {
    "duration": 3,
    "start_time": "2023-02-06T06:41:32.099Z"
   },
   {
    "duration": 230,
    "start_time": "2023-02-06T06:41:39.686Z"
   },
   {
    "duration": 31523,
    "start_time": "2023-02-06T06:41:52.292Z"
   },
   {
    "duration": 70,
    "start_time": "2023-02-06T06:54:20.342Z"
   },
   {
    "duration": 46,
    "start_time": "2023-02-06T06:56:53.174Z"
   }
  ],
  "kernelspec": {
   "display_name": "Python 3 (ipykernel)",
   "language": "python",
   "name": "python3"
  },
  "language_info": {
   "codemirror_mode": {
    "name": "ipython",
    "version": 3
   },
   "file_extension": ".py",
   "mimetype": "text/x-python",
   "name": "python",
   "nbconvert_exporter": "python",
   "pygments_lexer": "ipython3",
   "version": "3.9.5"
  },
  "toc": {
   "base_numbering": 1,
   "nav_menu": {},
   "number_sections": true,
   "sideBar": true,
   "skip_h1_title": true,
   "title_cell": "Table of Contents",
   "title_sidebar": "Contents",
   "toc_cell": false,
   "toc_position": {},
   "toc_section_display": true,
   "toc_window_display": false
  }
 },
 "nbformat": 4,
 "nbformat_minor": 2
}
