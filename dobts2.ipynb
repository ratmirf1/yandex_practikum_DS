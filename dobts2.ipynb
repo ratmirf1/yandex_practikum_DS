{
 "cells": [
  {
   "cell_type": "markdown",
   "id": "01db7ba1",
   "metadata": {},
   "source": [
    "<div class=\"alert alert-success\">\n",
    "<b> Комментарий от ревьюера 2 ✔️</b>\n",
    "\n",
    "Привет еще раз. Оформление комментариев по работе сохраняется. Только обозначим, что это вторая итерация. \n",
    "\n",
    "</div>\n"
   ]
  },
  {
   "cell_type": "markdown",
   "id": "878c64e6",
   "metadata": {},
   "source": [
    "<b>Комментарий от ревьюера</b>\n",
    "\n",
    "Привет! Меня зовут Ярослав, я буду делать ревью твоего проекта. Давай будем общаться на «ты».\n",
    "\n",
    "Мои комментарии будут в ячейках \"Комментарий от ревьюера\".\n",
    "\n",
    "<div class=\"alert alert-danger\"> \n",
    "\n",
    "<b> Комментарий от ревьюера ❗</b>\n",
    "\n",
    "Красным цветом обозначены комментарии, на которые тебе нужно обратить внимание в первую очередь, чтобы я принял проект. \n",
    "</div>\n",
    "<div class=\"alert alert-warning\">\n",
    "\n",
    "<b> Комментарий от ревьюера ⚠️</b>\n",
    "\n",
    "Желтым цветом отмечено то, что ты можешь сделать немного по-другому. Ты можешь учесть эти комментарии при выполнении следующих проектов.\n",
    "</div>\n",
    "<div class=\"alert alert-success\">\n",
    "\n",
    "<b> Комментарий от ревьюера ✔️</b>\n",
    "\n",
    "Зелёным цветом обозначены твои удачные решения, которые ты без сомнения можешь применять в будущих проектах.  \n",
    "</div>\n",
    "\n",
    "Если ты вносишь изменения в проект по моим рекомендациям, указывай, пожалуйста, это в своих комментариях. Будет удобно, если обозначишь свои комментарии заметным цветом или поместишь \n",
    "\n",
    "<div class=\"alert alert-info\">\n",
    "    \n",
    "в такую ячейку\n",
    "</div>\n",
    "\n",
    "Давай при работе с проектом мы будем общаться с тобой в диалоге, поэтому не удаляй и не перемещай мои комментарии, это поможет мне сделать повторную  проверку проекта быстрее.\n",
    "___\n"
   ]
  },
  {
   "cell_type": "markdown",
   "id": "c47d1a19",
   "metadata": {
    "deletable": false,
    "editable": false,
    "id": "c81daeeb"
   },
   "source": [
    "# Исследование надежности заемщиков\n"
   ]
  },
  {
   "cell_type": "markdown",
   "id": "a022e706",
   "metadata": {
    "deletable": false,
    "editable": false,
    "id": "827c20bf"
   },
   "source": [
    "Во второй части проекта вы выполните шаги 3 и 4. Их вручную проверит ревьюер.\n",
    "Чтобы вам не пришлось писать код заново для шагов 1 и 2, мы добавили авторские решения в ячейки с кодом. \n",
    "\n"
   ]
  },
  {
   "cell_type": "markdown",
   "id": "56bbd01d",
   "metadata": {
    "deletable": false,
    "editable": false,
    "id": "744d7639"
   },
   "source": [
    "## Откройте таблицу и изучите общую информацию о данных"
   ]
  },
  {
   "cell_type": "markdown",
   "id": "f28346a4",
   "metadata": {
    "deletable": false,
    "editable": false,
    "id": "e7a14c31"
   },
   "source": [
    "**Задание 1. Импортируйте библиотеку pandas. Считайте данные из csv-файла в датафрейм и сохраните в переменную `data`. Путь к файлу:**\n",
    "\n",
    "`/datasets/data.csv`"
   ]
  },
  {
   "cell_type": "code",
   "execution_count": 1,
   "id": "3665e154",
   "metadata": {
    "deletable": false,
    "id": "7bcf75c9"
   },
   "outputs": [],
   "source": [
    "import pandas as pd\n",
    "\n",
    "try:\n",
    "    data = pd.read_csv('/datasets/data.csv')\n",
    "except:\n",
    "    data = pd.read_csv('https://code.s3.yandex.net/datasets/data.csv')"
   ]
  },
  {
   "cell_type": "markdown",
   "id": "a145f1c3",
   "metadata": {
    "deletable": false,
    "editable": false,
    "id": "b8038fe3"
   },
   "source": [
    "**Задание 2. Выведите первые 20 строчек датафрейма `data` на экран.**"
   ]
  },
  {
   "cell_type": "code",
   "execution_count": 2,
   "id": "7406eefd",
   "metadata": {
    "deletable": false,
    "id": "2a7cab99",
    "outputId": "1a8f3ef2-d323-4ec2-ddf7-89670b5944c4"
   },
   "outputs": [
    {
     "data": {
      "text/html": [
       "<div>\n",
       "<style scoped>\n",
       "    .dataframe tbody tr th:only-of-type {\n",
       "        vertical-align: middle;\n",
       "    }\n",
       "\n",
       "    .dataframe tbody tr th {\n",
       "        vertical-align: top;\n",
       "    }\n",
       "\n",
       "    .dataframe thead th {\n",
       "        text-align: right;\n",
       "    }\n",
       "</style>\n",
       "<table border=\"1\" class=\"dataframe\">\n",
       "  <thead>\n",
       "    <tr style=\"text-align: right;\">\n",
       "      <th></th>\n",
       "      <th>children</th>\n",
       "      <th>days_employed</th>\n",
       "      <th>dob_years</th>\n",
       "      <th>education</th>\n",
       "      <th>education_id</th>\n",
       "      <th>family_status</th>\n",
       "      <th>family_status_id</th>\n",
       "      <th>gender</th>\n",
       "      <th>income_type</th>\n",
       "      <th>debt</th>\n",
       "      <th>total_income</th>\n",
       "      <th>purpose</th>\n",
       "    </tr>\n",
       "  </thead>\n",
       "  <tbody>\n",
       "    <tr>\n",
       "      <th>0</th>\n",
       "      <td>1</td>\n",
       "      <td>-8437.673028</td>\n",
       "      <td>42</td>\n",
       "      <td>высшее</td>\n",
       "      <td>0</td>\n",
       "      <td>женат / замужем</td>\n",
       "      <td>0</td>\n",
       "      <td>F</td>\n",
       "      <td>сотрудник</td>\n",
       "      <td>0</td>\n",
       "      <td>253875.639453</td>\n",
       "      <td>покупка жилья</td>\n",
       "    </tr>\n",
       "    <tr>\n",
       "      <th>1</th>\n",
       "      <td>1</td>\n",
       "      <td>-4024.803754</td>\n",
       "      <td>36</td>\n",
       "      <td>среднее</td>\n",
       "      <td>1</td>\n",
       "      <td>женат / замужем</td>\n",
       "      <td>0</td>\n",
       "      <td>F</td>\n",
       "      <td>сотрудник</td>\n",
       "      <td>0</td>\n",
       "      <td>112080.014102</td>\n",
       "      <td>приобретение автомобиля</td>\n",
       "    </tr>\n",
       "    <tr>\n",
       "      <th>2</th>\n",
       "      <td>0</td>\n",
       "      <td>-5623.422610</td>\n",
       "      <td>33</td>\n",
       "      <td>Среднее</td>\n",
       "      <td>1</td>\n",
       "      <td>женат / замужем</td>\n",
       "      <td>0</td>\n",
       "      <td>M</td>\n",
       "      <td>сотрудник</td>\n",
       "      <td>0</td>\n",
       "      <td>145885.952297</td>\n",
       "      <td>покупка жилья</td>\n",
       "    </tr>\n",
       "    <tr>\n",
       "      <th>3</th>\n",
       "      <td>3</td>\n",
       "      <td>-4124.747207</td>\n",
       "      <td>32</td>\n",
       "      <td>среднее</td>\n",
       "      <td>1</td>\n",
       "      <td>женат / замужем</td>\n",
       "      <td>0</td>\n",
       "      <td>M</td>\n",
       "      <td>сотрудник</td>\n",
       "      <td>0</td>\n",
       "      <td>267628.550329</td>\n",
       "      <td>дополнительное образование</td>\n",
       "    </tr>\n",
       "    <tr>\n",
       "      <th>4</th>\n",
       "      <td>0</td>\n",
       "      <td>340266.072047</td>\n",
       "      <td>53</td>\n",
       "      <td>среднее</td>\n",
       "      <td>1</td>\n",
       "      <td>гражданский брак</td>\n",
       "      <td>1</td>\n",
       "      <td>F</td>\n",
       "      <td>пенсионер</td>\n",
       "      <td>0</td>\n",
       "      <td>158616.077870</td>\n",
       "      <td>сыграть свадьбу</td>\n",
       "    </tr>\n",
       "    <tr>\n",
       "      <th>5</th>\n",
       "      <td>0</td>\n",
       "      <td>-926.185831</td>\n",
       "      <td>27</td>\n",
       "      <td>высшее</td>\n",
       "      <td>0</td>\n",
       "      <td>гражданский брак</td>\n",
       "      <td>1</td>\n",
       "      <td>M</td>\n",
       "      <td>компаньон</td>\n",
       "      <td>0</td>\n",
       "      <td>255763.565419</td>\n",
       "      <td>покупка жилья</td>\n",
       "    </tr>\n",
       "    <tr>\n",
       "      <th>6</th>\n",
       "      <td>0</td>\n",
       "      <td>-2879.202052</td>\n",
       "      <td>43</td>\n",
       "      <td>высшее</td>\n",
       "      <td>0</td>\n",
       "      <td>женат / замужем</td>\n",
       "      <td>0</td>\n",
       "      <td>F</td>\n",
       "      <td>компаньон</td>\n",
       "      <td>0</td>\n",
       "      <td>240525.971920</td>\n",
       "      <td>операции с жильем</td>\n",
       "    </tr>\n",
       "    <tr>\n",
       "      <th>7</th>\n",
       "      <td>0</td>\n",
       "      <td>-152.779569</td>\n",
       "      <td>50</td>\n",
       "      <td>СРЕДНЕЕ</td>\n",
       "      <td>1</td>\n",
       "      <td>женат / замужем</td>\n",
       "      <td>0</td>\n",
       "      <td>M</td>\n",
       "      <td>сотрудник</td>\n",
       "      <td>0</td>\n",
       "      <td>135823.934197</td>\n",
       "      <td>образование</td>\n",
       "    </tr>\n",
       "    <tr>\n",
       "      <th>8</th>\n",
       "      <td>2</td>\n",
       "      <td>-6929.865299</td>\n",
       "      <td>35</td>\n",
       "      <td>ВЫСШЕЕ</td>\n",
       "      <td>0</td>\n",
       "      <td>гражданский брак</td>\n",
       "      <td>1</td>\n",
       "      <td>F</td>\n",
       "      <td>сотрудник</td>\n",
       "      <td>0</td>\n",
       "      <td>95856.832424</td>\n",
       "      <td>на проведение свадьбы</td>\n",
       "    </tr>\n",
       "    <tr>\n",
       "      <th>9</th>\n",
       "      <td>0</td>\n",
       "      <td>-2188.756445</td>\n",
       "      <td>41</td>\n",
       "      <td>среднее</td>\n",
       "      <td>1</td>\n",
       "      <td>женат / замужем</td>\n",
       "      <td>0</td>\n",
       "      <td>M</td>\n",
       "      <td>сотрудник</td>\n",
       "      <td>0</td>\n",
       "      <td>144425.938277</td>\n",
       "      <td>покупка жилья для семьи</td>\n",
       "    </tr>\n",
       "    <tr>\n",
       "      <th>10</th>\n",
       "      <td>2</td>\n",
       "      <td>-4171.483647</td>\n",
       "      <td>36</td>\n",
       "      <td>высшее</td>\n",
       "      <td>0</td>\n",
       "      <td>женат / замужем</td>\n",
       "      <td>0</td>\n",
       "      <td>M</td>\n",
       "      <td>компаньон</td>\n",
       "      <td>0</td>\n",
       "      <td>113943.491460</td>\n",
       "      <td>покупка недвижимости</td>\n",
       "    </tr>\n",
       "    <tr>\n",
       "      <th>11</th>\n",
       "      <td>0</td>\n",
       "      <td>-792.701887</td>\n",
       "      <td>40</td>\n",
       "      <td>среднее</td>\n",
       "      <td>1</td>\n",
       "      <td>женат / замужем</td>\n",
       "      <td>0</td>\n",
       "      <td>F</td>\n",
       "      <td>сотрудник</td>\n",
       "      <td>0</td>\n",
       "      <td>77069.234271</td>\n",
       "      <td>покупка коммерческой недвижимости</td>\n",
       "    </tr>\n",
       "    <tr>\n",
       "      <th>12</th>\n",
       "      <td>0</td>\n",
       "      <td>NaN</td>\n",
       "      <td>65</td>\n",
       "      <td>среднее</td>\n",
       "      <td>1</td>\n",
       "      <td>гражданский брак</td>\n",
       "      <td>1</td>\n",
       "      <td>M</td>\n",
       "      <td>пенсионер</td>\n",
       "      <td>0</td>\n",
       "      <td>NaN</td>\n",
       "      <td>сыграть свадьбу</td>\n",
       "    </tr>\n",
       "    <tr>\n",
       "      <th>13</th>\n",
       "      <td>0</td>\n",
       "      <td>-1846.641941</td>\n",
       "      <td>54</td>\n",
       "      <td>неоконченное высшее</td>\n",
       "      <td>2</td>\n",
       "      <td>женат / замужем</td>\n",
       "      <td>0</td>\n",
       "      <td>F</td>\n",
       "      <td>сотрудник</td>\n",
       "      <td>0</td>\n",
       "      <td>130458.228857</td>\n",
       "      <td>приобретение автомобиля</td>\n",
       "    </tr>\n",
       "    <tr>\n",
       "      <th>14</th>\n",
       "      <td>0</td>\n",
       "      <td>-1844.956182</td>\n",
       "      <td>56</td>\n",
       "      <td>высшее</td>\n",
       "      <td>0</td>\n",
       "      <td>гражданский брак</td>\n",
       "      <td>1</td>\n",
       "      <td>F</td>\n",
       "      <td>компаньон</td>\n",
       "      <td>1</td>\n",
       "      <td>165127.911772</td>\n",
       "      <td>покупка жилой недвижимости</td>\n",
       "    </tr>\n",
       "    <tr>\n",
       "      <th>15</th>\n",
       "      <td>1</td>\n",
       "      <td>-972.364419</td>\n",
       "      <td>26</td>\n",
       "      <td>среднее</td>\n",
       "      <td>1</td>\n",
       "      <td>женат / замужем</td>\n",
       "      <td>0</td>\n",
       "      <td>F</td>\n",
       "      <td>сотрудник</td>\n",
       "      <td>0</td>\n",
       "      <td>116820.904450</td>\n",
       "      <td>строительство собственной недвижимости</td>\n",
       "    </tr>\n",
       "    <tr>\n",
       "      <th>16</th>\n",
       "      <td>0</td>\n",
       "      <td>-1719.934226</td>\n",
       "      <td>35</td>\n",
       "      <td>среднее</td>\n",
       "      <td>1</td>\n",
       "      <td>женат / замужем</td>\n",
       "      <td>0</td>\n",
       "      <td>F</td>\n",
       "      <td>сотрудник</td>\n",
       "      <td>0</td>\n",
       "      <td>289202.704229</td>\n",
       "      <td>недвижимость</td>\n",
       "    </tr>\n",
       "    <tr>\n",
       "      <th>17</th>\n",
       "      <td>0</td>\n",
       "      <td>-2369.999720</td>\n",
       "      <td>33</td>\n",
       "      <td>высшее</td>\n",
       "      <td>0</td>\n",
       "      <td>гражданский брак</td>\n",
       "      <td>1</td>\n",
       "      <td>M</td>\n",
       "      <td>сотрудник</td>\n",
       "      <td>0</td>\n",
       "      <td>90410.586745</td>\n",
       "      <td>строительство недвижимости</td>\n",
       "    </tr>\n",
       "    <tr>\n",
       "      <th>18</th>\n",
       "      <td>0</td>\n",
       "      <td>400281.136913</td>\n",
       "      <td>53</td>\n",
       "      <td>среднее</td>\n",
       "      <td>1</td>\n",
       "      <td>вдовец / вдова</td>\n",
       "      <td>2</td>\n",
       "      <td>F</td>\n",
       "      <td>пенсионер</td>\n",
       "      <td>0</td>\n",
       "      <td>56823.777243</td>\n",
       "      <td>на покупку подержанного автомобиля</td>\n",
       "    </tr>\n",
       "    <tr>\n",
       "      <th>19</th>\n",
       "      <td>0</td>\n",
       "      <td>-10038.818549</td>\n",
       "      <td>48</td>\n",
       "      <td>СРЕДНЕЕ</td>\n",
       "      <td>1</td>\n",
       "      <td>в разводе</td>\n",
       "      <td>3</td>\n",
       "      <td>F</td>\n",
       "      <td>сотрудник</td>\n",
       "      <td>0</td>\n",
       "      <td>242831.107982</td>\n",
       "      <td>на покупку своего автомобиля</td>\n",
       "    </tr>\n",
       "  </tbody>\n",
       "</table>\n",
       "</div>"
      ],
      "text/plain": [
       "    children  days_employed  dob_years            education  education_id  \\\n",
       "0          1   -8437.673028         42               высшее             0   \n",
       "1          1   -4024.803754         36              среднее             1   \n",
       "2          0   -5623.422610         33              Среднее             1   \n",
       "3          3   -4124.747207         32              среднее             1   \n",
       "4          0  340266.072047         53              среднее             1   \n",
       "5          0    -926.185831         27               высшее             0   \n",
       "6          0   -2879.202052         43               высшее             0   \n",
       "7          0    -152.779569         50              СРЕДНЕЕ             1   \n",
       "8          2   -6929.865299         35               ВЫСШЕЕ             0   \n",
       "9          0   -2188.756445         41              среднее             1   \n",
       "10         2   -4171.483647         36               высшее             0   \n",
       "11         0    -792.701887         40              среднее             1   \n",
       "12         0            NaN         65              среднее             1   \n",
       "13         0   -1846.641941         54  неоконченное высшее             2   \n",
       "14         0   -1844.956182         56               высшее             0   \n",
       "15         1    -972.364419         26              среднее             1   \n",
       "16         0   -1719.934226         35              среднее             1   \n",
       "17         0   -2369.999720         33               высшее             0   \n",
       "18         0  400281.136913         53              среднее             1   \n",
       "19         0  -10038.818549         48              СРЕДНЕЕ             1   \n",
       "\n",
       "       family_status  family_status_id gender income_type  debt  \\\n",
       "0    женат / замужем                 0      F   сотрудник     0   \n",
       "1    женат / замужем                 0      F   сотрудник     0   \n",
       "2    женат / замужем                 0      M   сотрудник     0   \n",
       "3    женат / замужем                 0      M   сотрудник     0   \n",
       "4   гражданский брак                 1      F   пенсионер     0   \n",
       "5   гражданский брак                 1      M   компаньон     0   \n",
       "6    женат / замужем                 0      F   компаньон     0   \n",
       "7    женат / замужем                 0      M   сотрудник     0   \n",
       "8   гражданский брак                 1      F   сотрудник     0   \n",
       "9    женат / замужем                 0      M   сотрудник     0   \n",
       "10   женат / замужем                 0      M   компаньон     0   \n",
       "11   женат / замужем                 0      F   сотрудник     0   \n",
       "12  гражданский брак                 1      M   пенсионер     0   \n",
       "13   женат / замужем                 0      F   сотрудник     0   \n",
       "14  гражданский брак                 1      F   компаньон     1   \n",
       "15   женат / замужем                 0      F   сотрудник     0   \n",
       "16   женат / замужем                 0      F   сотрудник     0   \n",
       "17  гражданский брак                 1      M   сотрудник     0   \n",
       "18    вдовец / вдова                 2      F   пенсионер     0   \n",
       "19         в разводе                 3      F   сотрудник     0   \n",
       "\n",
       "     total_income                                 purpose  \n",
       "0   253875.639453                           покупка жилья  \n",
       "1   112080.014102                 приобретение автомобиля  \n",
       "2   145885.952297                           покупка жилья  \n",
       "3   267628.550329              дополнительное образование  \n",
       "4   158616.077870                         сыграть свадьбу  \n",
       "5   255763.565419                           покупка жилья  \n",
       "6   240525.971920                       операции с жильем  \n",
       "7   135823.934197                             образование  \n",
       "8    95856.832424                   на проведение свадьбы  \n",
       "9   144425.938277                 покупка жилья для семьи  \n",
       "10  113943.491460                    покупка недвижимости  \n",
       "11   77069.234271       покупка коммерческой недвижимости  \n",
       "12            NaN                         сыграть свадьбу  \n",
       "13  130458.228857                 приобретение автомобиля  \n",
       "14  165127.911772              покупка жилой недвижимости  \n",
       "15  116820.904450  строительство собственной недвижимости  \n",
       "16  289202.704229                            недвижимость  \n",
       "17   90410.586745              строительство недвижимости  \n",
       "18   56823.777243      на покупку подержанного автомобиля  \n",
       "19  242831.107982            на покупку своего автомобиля  "
      ]
     },
     "execution_count": 2,
     "metadata": {},
     "output_type": "execute_result"
    }
   ],
   "source": [
    "data.head(20)"
   ]
  },
  {
   "cell_type": "markdown",
   "id": "f53ff940",
   "metadata": {
    "deletable": false,
    "editable": false,
    "id": "1c12e233"
   },
   "source": [
    "**Задание 3. Выведите основную информацию о датафрейме с помощью метода `info()`.**"
   ]
  },
  {
   "cell_type": "code",
   "execution_count": 3,
   "id": "1acc8110",
   "metadata": {
    "deletable": false,
    "id": "2b757bca",
    "outputId": "15376089-8dad-46c9-b520-c05248d43158"
   },
   "outputs": [
    {
     "name": "stdout",
     "output_type": "stream",
     "text": [
      "<class 'pandas.core.frame.DataFrame'>\n",
      "RangeIndex: 21525 entries, 0 to 21524\n",
      "Data columns (total 12 columns):\n",
      " #   Column            Non-Null Count  Dtype  \n",
      "---  ------            --------------  -----  \n",
      " 0   children          21525 non-null  int64  \n",
      " 1   days_employed     19351 non-null  float64\n",
      " 2   dob_years         21525 non-null  int64  \n",
      " 3   education         21525 non-null  object \n",
      " 4   education_id      21525 non-null  int64  \n",
      " 5   family_status     21525 non-null  object \n",
      " 6   family_status_id  21525 non-null  int64  \n",
      " 7   gender            21525 non-null  object \n",
      " 8   income_type       21525 non-null  object \n",
      " 9   debt              21525 non-null  int64  \n",
      " 10  total_income      19351 non-null  float64\n",
      " 11  purpose           21525 non-null  object \n",
      "dtypes: float64(2), int64(5), object(5)\n",
      "memory usage: 2.0+ MB\n"
     ]
    }
   ],
   "source": [
    "data.info()"
   ]
  },
  {
   "cell_type": "markdown",
   "id": "83cd76d0",
   "metadata": {
    "deletable": false,
    "editable": false,
    "id": "333ec665"
   },
   "source": [
    "## Предобработка данных"
   ]
  },
  {
   "cell_type": "markdown",
   "id": "dbccb808",
   "metadata": {
    "deletable": false,
    "editable": false,
    "id": "02d92d53"
   },
   "source": [
    "### Удаление пропусков"
   ]
  },
  {
   "cell_type": "markdown",
   "id": "267c6783",
   "metadata": {
    "deletable": false,
    "editable": false,
    "id": "cd84967c"
   },
   "source": [
    "**Задание 4. Выведите количество пропущенных значений для каждого столбца. Используйте комбинацию двух методов.**"
   ]
  },
  {
   "cell_type": "code",
   "execution_count": 4,
   "id": "dfbaea94",
   "metadata": {
    "deletable": false,
    "id": "7f9b2309",
    "outputId": "81f4d817-781c-465c-ed15-91ce4446810d"
   },
   "outputs": [
    {
     "data": {
      "text/plain": [
       "children               0\n",
       "days_employed       2174\n",
       "dob_years              0\n",
       "education              0\n",
       "education_id           0\n",
       "family_status          0\n",
       "family_status_id       0\n",
       "gender                 0\n",
       "income_type            0\n",
       "debt                   0\n",
       "total_income        2174\n",
       "purpose                0\n",
       "dtype: int64"
      ]
     },
     "execution_count": 4,
     "metadata": {},
     "output_type": "execute_result"
    }
   ],
   "source": [
    "data.isna().sum()"
   ]
  },
  {
   "cell_type": "markdown",
   "id": "360cc4dd",
   "metadata": {
    "deletable": false,
    "editable": false,
    "id": "db86e27b"
   },
   "source": [
    "**Задание 5. В двух столбцах есть пропущенные значения. Один из них — `days_employed`. Пропуски в этом столбце вы обработаете на следующем этапе. Другой столбец с пропущенными значениями — `total_income` — хранит данные о доходах. На сумму дохода сильнее всего влияет тип занятости, поэтому заполнить пропуски в этом столбце нужно медианным значением по каждому типу из столбца `income_type`. Например, у человека с типом занятости `сотрудник` пропуск в столбце `total_income` должен быть заполнен медианным доходом среди всех записей с тем же типом.**"
   ]
  },
  {
   "cell_type": "code",
   "execution_count": 5,
   "id": "2ee4ec01",
   "metadata": {
    "deletable": false,
    "id": "42006a93"
   },
   "outputs": [],
   "source": [
    "for t in data['income_type'].unique():\n",
    "    data.loc[(data['income_type'] == t) & (data['total_income'].isna()), 'total_income'] = \\\n",
    "    data.loc[(data['income_type'] == t), 'total_income'].median()"
   ]
  },
  {
   "cell_type": "markdown",
   "id": "7ce18a5b",
   "metadata": {
    "deletable": false,
    "editable": false,
    "id": "89da5ece"
   },
   "source": [
    "### Обработка аномальных значений"
   ]
  },
  {
   "cell_type": "markdown",
   "id": "445340e9",
   "metadata": {
    "deletable": false,
    "editable": false,
    "id": "57964554"
   },
   "source": [
    "**Задание 6. В данных могут встречаться артефакты (аномалии) — значения, которые не отражают действительность и появились по какой-то ошибке. таким артефактом будет отрицательное количество дней трудового стажа в столбце `days_employed`. Для реальных данных это нормально. Обработайте значения в этом столбце: замените все отрицательные значения положительными с помощью метода `abs()`.**"
   ]
  },
  {
   "cell_type": "code",
   "execution_count": 6,
   "id": "cece9806",
   "metadata": {
    "deletable": false,
    "id": "f6f055bf"
   },
   "outputs": [],
   "source": [
    "data['days_employed'] = data['days_employed'].abs()"
   ]
  },
  {
   "cell_type": "markdown",
   "id": "eb8224e1",
   "metadata": {
    "deletable": false,
    "editable": false,
    "id": "6107dd2f"
   },
   "source": [
    "**Задание 7. Для каждого типа занятости выведите медианное значение трудового стажа `days_employed` в днях.**"
   ]
  },
  {
   "cell_type": "code",
   "execution_count": 7,
   "id": "42919c0f",
   "metadata": {
    "deletable": false,
    "id": "85a5faf6",
    "outputId": "801ef80e-522b-4668-f34e-565af7432bcf"
   },
   "outputs": [
    {
     "data": {
      "text/plain": [
       "income_type\n",
       "безработный        366413.652744\n",
       "в декрете            3296.759962\n",
       "госслужащий          2689.368353\n",
       "компаньон            1547.382223\n",
       "пенсионер          365213.306266\n",
       "предприниматель       520.848083\n",
       "сотрудник            1574.202821\n",
       "студент               578.751554\n",
       "Name: days_employed, dtype: float64"
      ]
     },
     "execution_count": 7,
     "metadata": {},
     "output_type": "execute_result"
    }
   ],
   "source": [
    "data.groupby('income_type')['days_employed'].agg('median')"
   ]
  },
  {
   "cell_type": "markdown",
   "id": "529e30c5",
   "metadata": {
    "deletable": false,
    "editable": false,
    "id": "38d1a030"
   },
   "source": [
    "У двух типов (безработные и пенсионеры) получатся аномально большие значения. Исправить такие значения сложно, поэтому оставьте их как есть. Тем более этот столбец не понадобится вам для исследования."
   ]
  },
  {
   "cell_type": "markdown",
   "id": "52edebda",
   "metadata": {
    "deletable": false,
    "editable": false,
    "id": "d8a9f147"
   },
   "source": [
    "**Задание 8. Выведите перечень уникальных значений столбца `children`.**"
   ]
  },
  {
   "cell_type": "code",
   "execution_count": 8,
   "id": "02d09850",
   "metadata": {
    "deletable": false,
    "id": "ef5056eb",
    "outputId": "6975b15c-7f95-4697-d16d-a0c79b657b03"
   },
   "outputs": [
    {
     "data": {
      "text/plain": [
       "array([ 1,  0,  3,  2, -1,  4, 20,  5])"
      ]
     },
     "execution_count": 8,
     "metadata": {},
     "output_type": "execute_result"
    }
   ],
   "source": [
    "data['children'].unique()"
   ]
  },
  {
   "cell_type": "markdown",
   "id": "1c014e72",
   "metadata": {
    "deletable": false,
    "editable": false,
    "id": "40b9ebf2"
   },
   "source": [
    "**Задание 9. В столбце `children` есть два аномальных значения. Удалите строки, в которых встречаются такие аномальные значения из датафрейма `data`.**"
   ]
  },
  {
   "cell_type": "code",
   "execution_count": 9,
   "id": "8ba240ce",
   "metadata": {
    "deletable": false,
    "id": "3ff9801d"
   },
   "outputs": [],
   "source": [
    "data = data[(data['children'] != -1) & (data['children'] != 20)]"
   ]
  },
  {
   "cell_type": "markdown",
   "id": "1251f4b4",
   "metadata": {
    "deletable": false,
    "editable": false,
    "id": "bbc4d0ce"
   },
   "source": [
    "**Задание 10. Ещё раз выведите перечень уникальных значений столбца `children`, чтобы убедиться, что артефакты удалены.**"
   ]
  },
  {
   "cell_type": "code",
   "execution_count": 10,
   "id": "30b29ba5",
   "metadata": {
    "deletable": false,
    "id": "ad4fa8b7",
    "outputId": "b2097101-d49d-44d9-901b-32a65c9463d1"
   },
   "outputs": [
    {
     "data": {
      "text/plain": [
       "array([1, 0, 3, 2, 4, 5])"
      ]
     },
     "execution_count": 10,
     "metadata": {},
     "output_type": "execute_result"
    }
   ],
   "source": [
    "data['children'].unique()"
   ]
  },
  {
   "cell_type": "markdown",
   "id": "8e609ad4",
   "metadata": {
    "deletable": false,
    "editable": false,
    "id": "75440b63"
   },
   "source": [
    "### Удаление пропусков (продолжение)"
   ]
  },
  {
   "cell_type": "markdown",
   "id": "0e42911d",
   "metadata": {
    "deletable": false,
    "editable": false,
    "id": "f4ea573f"
   },
   "source": [
    "**Задание 11. Заполните пропуски в столбце `days_employed` медианными значениями по каждого типа занятости `income_type`.**"
   ]
  },
  {
   "cell_type": "code",
   "execution_count": 11,
   "id": "53f12328",
   "metadata": {
    "deletable": false,
    "id": "af6b1a7e"
   },
   "outputs": [],
   "source": [
    "for t in data['income_type'].unique():\n",
    "    data.loc[(data['income_type'] == t) & (data['days_employed'].isna()), 'days_employed'] = \\\n",
    "    data.loc[(data['income_type'] == t), 'days_employed'].median()"
   ]
  },
  {
   "cell_type": "markdown",
   "id": "5663f749",
   "metadata": {
    "deletable": false,
    "editable": false,
    "id": "2753f40d"
   },
   "source": [
    "**Задание 12. Убедитесь, что все пропуски заполнены. Проверьте себя и ещё раз выведите количество пропущенных значений для каждого столбца с помощью двух методов.**"
   ]
  },
  {
   "cell_type": "code",
   "execution_count": 12,
   "id": "b76d4dc1",
   "metadata": {
    "deletable": false,
    "id": "55f78bc2",
    "outputId": "8da1e4e1-358e-4e87-98c9-f261bce0a7b2"
   },
   "outputs": [
    {
     "data": {
      "text/plain": [
       "children            0\n",
       "days_employed       0\n",
       "dob_years           0\n",
       "education           0\n",
       "education_id        0\n",
       "family_status       0\n",
       "family_status_id    0\n",
       "gender              0\n",
       "income_type         0\n",
       "debt                0\n",
       "total_income        0\n",
       "purpose             0\n",
       "dtype: int64"
      ]
     },
     "execution_count": 12,
     "metadata": {},
     "output_type": "execute_result"
    }
   ],
   "source": [
    "data.isna().sum()"
   ]
  },
  {
   "cell_type": "markdown",
   "id": "2aed7be9",
   "metadata": {
    "deletable": false,
    "editable": false,
    "id": "ddc81e43"
   },
   "source": [
    "### Изменение типов данных"
   ]
  },
  {
   "cell_type": "markdown",
   "id": "ade1cf8e",
   "metadata": {
    "deletable": false,
    "editable": false,
    "id": "42d19d24"
   },
   "source": [
    "**Задание 13. Замените вещественный тип данных в столбце `total_income` на целочисленный с помощью метода `astype()`.**"
   ]
  },
  {
   "cell_type": "code",
   "execution_count": 13,
   "id": "cf99a6b7",
   "metadata": {
    "deletable": false,
    "id": "920b65ad"
   },
   "outputs": [],
   "source": [
    "data['total_income'] = data['total_income'].astype(int)"
   ]
  },
  {
   "cell_type": "markdown",
   "id": "08ec2be3",
   "metadata": {
    "deletable": false,
    "editable": false,
    "id": "80c420ba"
   },
   "source": [
    "### Обработка дубликатов"
   ]
  },
  {
   "cell_type": "markdown",
   "id": "f9107504",
   "metadata": {
    "deletable": false,
    "editable": false
   },
   "source": [
    "**Задание 14. Обработайте неявные дубликаты в столбце `education`. В этом столбце есть одни и те же значения, но записанные по-разному: с использованием заглавных и строчных букв. Приведите их к нижнему регистру. Проверьте остальные столбцы.**"
   ]
  },
  {
   "cell_type": "code",
   "execution_count": 14,
   "id": "3cc57cce",
   "metadata": {
    "deletable": false
   },
   "outputs": [],
   "source": [
    "data['education'] = data['education'].str.lower()"
   ]
  },
  {
   "cell_type": "markdown",
   "id": "7ed18913",
   "metadata": {
    "deletable": false,
    "editable": false,
    "id": "dc587695"
   },
   "source": [
    "**Задание 15. Выведите на экран количество строк-дубликатов в данных. Если такие строки присутствуют, удалите их.**"
   ]
  },
  {
   "cell_type": "code",
   "execution_count": 15,
   "id": "bb0594d6",
   "metadata": {
    "deletable": false,
    "id": "3ee445e4",
    "outputId": "9684deba-1934-42d1-99e1-cda61740f822"
   },
   "outputs": [
    {
     "data": {
      "text/plain": [
       "71"
      ]
     },
     "execution_count": 15,
     "metadata": {},
     "output_type": "execute_result"
    }
   ],
   "source": [
    "data.duplicated().sum()"
   ]
  },
  {
   "cell_type": "code",
   "execution_count": 16,
   "id": "05630254",
   "metadata": {
    "deletable": false,
    "id": "8575fe05"
   },
   "outputs": [],
   "source": [
    "data = data.drop_duplicates()"
   ]
  },
  {
   "cell_type": "markdown",
   "id": "42fd9f36",
   "metadata": {
    "deletable": false,
    "editable": false,
    "id": "9904cf55"
   },
   "source": [
    "### Категоризация данных"
   ]
  },
  {
   "cell_type": "markdown",
   "id": "1f23dc99",
   "metadata": {
    "deletable": false,
    "editable": false,
    "id": "72fcc8a2"
   },
   "source": [
    "**Задание 16. На основании диапазонов, указанных ниже, создайте в датафрейме `data` столбец `total_income_category` с категориями:**\n",
    "\n",
    "- 0–30000 — `'E'`;\n",
    "- 30001–50000 — `'D'`;\n",
    "- 50001–200000 — `'C'`;\n",
    "- 200001–1000000 — `'B'`;\n",
    "- 1000001 и выше — `'A'`.\n",
    "\n",
    "\n",
    "**Например, кредитополучателю с доходом 25000 нужно назначить категорию `'E'`, а клиенту, получающему 235000, — `'B'`. Используйте собственную функцию с именем `categorize_income()` и метод `apply()`.**"
   ]
  },
  {
   "cell_type": "code",
   "execution_count": 17,
   "id": "10db7505",
   "metadata": {
    "deletable": false,
    "id": "e1771346"
   },
   "outputs": [],
   "source": [
    "def categorize_income(income):\n",
    "    try:\n",
    "        if 0 <= income <= 30000:\n",
    "            return 'E'\n",
    "        elif 30001 <= income <= 50000:\n",
    "            return 'D'\n",
    "        elif 50001 <= income <= 200000:\n",
    "            return 'C'\n",
    "        elif 200001 <= income <= 1000000:\n",
    "            return 'B'\n",
    "        elif income >= 1000001:\n",
    "            return 'A'\n",
    "    except:\n",
    "        pass"
   ]
  },
  {
   "cell_type": "code",
   "execution_count": 18,
   "id": "f992b544",
   "metadata": {
    "deletable": false,
    "id": "d5f3586d"
   },
   "outputs": [],
   "source": [
    "data['total_income_category'] = data['total_income'].apply(categorize_income)"
   ]
  },
  {
   "cell_type": "markdown",
   "id": "1d846754",
   "metadata": {
    "deletable": false,
    "editable": false,
    "id": "dde49b5c"
   },
   "source": [
    "**Задание 17. Выведите на экран перечень уникальных целей взятия кредита из столбца `purpose`.**"
   ]
  },
  {
   "cell_type": "code",
   "execution_count": 19,
   "id": "3eed9464",
   "metadata": {
    "deletable": false,
    "id": "f67ce9b3",
    "outputId": "673c12d9-7d7e-4ae0-9812-c622c89dd244"
   },
   "outputs": [
    {
     "data": {
      "text/plain": [
       "array(['покупка жилья', 'приобретение автомобиля',\n",
       "       'дополнительное образование', 'сыграть свадьбу',\n",
       "       'операции с жильем', 'образование', 'на проведение свадьбы',\n",
       "       'покупка жилья для семьи', 'покупка недвижимости',\n",
       "       'покупка коммерческой недвижимости', 'покупка жилой недвижимости',\n",
       "       'строительство собственной недвижимости', 'недвижимость',\n",
       "       'строительство недвижимости', 'на покупку подержанного автомобиля',\n",
       "       'на покупку своего автомобиля',\n",
       "       'операции с коммерческой недвижимостью',\n",
       "       'строительство жилой недвижимости', 'жилье',\n",
       "       'операции со своей недвижимостью', 'автомобили',\n",
       "       'заняться образованием', 'сделка с подержанным автомобилем',\n",
       "       'получение образования', 'автомобиль', 'свадьба',\n",
       "       'получение дополнительного образования', 'покупка своего жилья',\n",
       "       'операции с недвижимостью', 'получение высшего образования',\n",
       "       'свой автомобиль', 'сделка с автомобилем',\n",
       "       'профильное образование', 'высшее образование',\n",
       "       'покупка жилья для сдачи', 'на покупку автомобиля', 'ремонт жилью',\n",
       "       'заняться высшим образованием'], dtype=object)"
      ]
     },
     "execution_count": 19,
     "metadata": {},
     "output_type": "execute_result"
    }
   ],
   "source": [
    "data['purpose'].unique()"
   ]
  },
  {
   "cell_type": "markdown",
   "id": "618043ff",
   "metadata": {
    "deletable": false,
    "editable": false,
    "id": "85d0aef0"
   },
   "source": [
    "**Задание 18. Создайте функцию, которая на основании данных из столбца `purpose` сформирует новый столбец `purpose_category`, в который войдут следующие категории:**\n",
    "\n",
    "- `'операции с автомобилем'`,\n",
    "- `'операции с недвижимостью'`,\n",
    "- `'проведение свадьбы'`,\n",
    "- `'получение образования'`.\n",
    "\n",
    "**Например, если в столбце `purpose` находится подстрока `'на покупку автомобиля'`, то в столбце `purpose_category` должна появиться строка `'операции с автомобилем'`.**\n",
    "\n",
    "**Используйте собственную функцию с именем `categorize_purpose()` и метод `apply()`. Изучите данные в столбце `purpose` и определите, какие подстроки помогут вам правильно определить категорию.**"
   ]
  },
  {
   "cell_type": "code",
   "execution_count": 20,
   "id": "d4c2ec15",
   "metadata": {
    "deletable": false,
    "id": "e149fab4"
   },
   "outputs": [],
   "source": [
    "def categorize_purpose(row):\n",
    "    try:\n",
    "        if 'автом' in row:\n",
    "            return 'операции с автомобилем'\n",
    "        elif 'жил' in row or 'недвиж' in row:\n",
    "            return 'операции с недвижимостью'\n",
    "        elif 'свад' in row:\n",
    "            return 'проведение свадьбы'\n",
    "        elif 'образов' in row:\n",
    "            return 'получение образования'\n",
    "    except:\n",
    "        return 'нет категории'"
   ]
  },
  {
   "cell_type": "code",
   "execution_count": 21,
   "id": "f63a20f2",
   "metadata": {
    "deletable": false,
    "id": "bf36e69b"
   },
   "outputs": [],
   "source": [
    "data['purpose_category'] = data['purpose'].apply(categorize_purpose)"
   ]
  },
  {
   "cell_type": "markdown",
   "id": "d8ccf277",
   "metadata": {
    "deletable": false,
    "editable": false,
    "id": "09b242bf"
   },
   "source": [
    "### Шаг 3. Исследуйте данные и ответьте на вопросы"
   ]
  },
  {
   "cell_type": "markdown",
   "id": "00afa436",
   "metadata": {
    "deletable": false,
    "editable": false,
    "id": "c5d66278"
   },
   "source": [
    "#### 3.1 Есть ли зависимость между количеством детей и возвратом кредита в срок?"
   ]
  },
  {
   "cell_type": "code",
   "execution_count": 22,
   "id": "a933ec99",
   "metadata": {
    "deletable": false,
    "id": "2cacfc4a"
   },
   "outputs": [
    {
     "data": {
      "text/html": [
       "<div>\n",
       "<style scoped>\n",
       "    .dataframe tbody tr th:only-of-type {\n",
       "        vertical-align: middle;\n",
       "    }\n",
       "\n",
       "    .dataframe tbody tr th {\n",
       "        vertical-align: top;\n",
       "    }\n",
       "\n",
       "    .dataframe thead tr th {\n",
       "        text-align: left;\n",
       "    }\n",
       "\n",
       "    .dataframe thead tr:last-of-type th {\n",
       "        text-align: right;\n",
       "    }\n",
       "</style>\n",
       "<table border=\"1\" class=\"dataframe\">\n",
       "  <thead>\n",
       "    <tr>\n",
       "      <th></th>\n",
       "      <th colspan=\"3\" halign=\"left\">debt</th>\n",
       "    </tr>\n",
       "    <tr>\n",
       "      <th></th>\n",
       "      <th>count</th>\n",
       "      <th>sum</th>\n",
       "      <th>mean</th>\n",
       "    </tr>\n",
       "    <tr>\n",
       "      <th>children</th>\n",
       "      <th></th>\n",
       "      <th></th>\n",
       "      <th></th>\n",
       "    </tr>\n",
       "  </thead>\n",
       "  <tbody>\n",
       "    <tr>\n",
       "      <th>0</th>\n",
       "      <td>14091</td>\n",
       "      <td>1063</td>\n",
       "      <td>0.075438</td>\n",
       "    </tr>\n",
       "    <tr>\n",
       "      <th>1</th>\n",
       "      <td>4808</td>\n",
       "      <td>444</td>\n",
       "      <td>0.092346</td>\n",
       "    </tr>\n",
       "    <tr>\n",
       "      <th>2</th>\n",
       "      <td>2052</td>\n",
       "      <td>194</td>\n",
       "      <td>0.094542</td>\n",
       "    </tr>\n",
       "    <tr>\n",
       "      <th>3</th>\n",
       "      <td>330</td>\n",
       "      <td>27</td>\n",
       "      <td>0.081818</td>\n",
       "    </tr>\n",
       "    <tr>\n",
       "      <th>4</th>\n",
       "      <td>41</td>\n",
       "      <td>4</td>\n",
       "      <td>0.097561</td>\n",
       "    </tr>\n",
       "    <tr>\n",
       "      <th>5</th>\n",
       "      <td>9</td>\n",
       "      <td>0</td>\n",
       "      <td>0.000000</td>\n",
       "    </tr>\n",
       "  </tbody>\n",
       "</table>\n",
       "</div>"
      ],
      "text/plain": [
       "           debt                \n",
       "          count   sum      mean\n",
       "children                       \n",
       "0         14091  1063  0.075438\n",
       "1          4808   444  0.092346\n",
       "2          2052   194  0.094542\n",
       "3           330    27  0.081818\n",
       "4            41     4  0.097561\n",
       "5             9     0  0.000000"
      ]
     },
     "execution_count": 22,
     "metadata": {},
     "output_type": "execute_result"
    }
   ],
   "source": [
    "data_grouped = data.groupby(['children']).agg({'debt':['count', 'sum', 'mean']})\n",
    "data_grouped"
   ]
  },
  {
   "cell_type": "markdown",
   "id": "2c17e039",
   "metadata": {
    "deletable": false,
    "id": "3a6b99ec"
   },
   "source": [
    "**Вывод:** Вероятность того, что возникнет задолжность, меньше всего, когда детей нет. А самая большая вероятность - когда детей 4. Что интересно, с тремя детьми вероятность почти такая же, как когда детей нет."
   ]
  },
  {
   "cell_type": "markdown",
   "id": "2ff82eb7",
   "metadata": {},
   "source": [
    "<div class=\"alert alert-success\">\n",
    "    \n",
    "<b> Комментарий от ревьюера ✔️</b>\n",
    "    \n",
    "Ты хорошо подошел к ответу на вопрос! Здорово, что рассмотрел не только вероятность задолженности внутри групп, но и их размеры. \n",
    "</div>\n"
   ]
  },
  {
   "cell_type": "markdown",
   "id": "104f3aad",
   "metadata": {
    "deletable": false,
    "editable": false,
    "id": "97be82ca"
   },
   "source": [
    "#### 3.2 Есть ли зависимость между семейным положением и возвратом кредита в срок?"
   ]
  },
  {
   "cell_type": "code",
   "execution_count": 23,
   "id": "3b6b5383",
   "metadata": {
    "deletable": false,
    "id": "dc3f7ee8"
   },
   "outputs": [
    {
     "data": {
      "text/html": [
       "<div>\n",
       "<style scoped>\n",
       "    .dataframe tbody tr th:only-of-type {\n",
       "        vertical-align: middle;\n",
       "    }\n",
       "\n",
       "    .dataframe tbody tr th {\n",
       "        vertical-align: top;\n",
       "    }\n",
       "\n",
       "    .dataframe thead tr th {\n",
       "        text-align: left;\n",
       "    }\n",
       "\n",
       "    .dataframe thead tr:last-of-type th {\n",
       "        text-align: right;\n",
       "    }\n",
       "</style>\n",
       "<table border=\"1\" class=\"dataframe\">\n",
       "  <thead>\n",
       "    <tr>\n",
       "      <th></th>\n",
       "      <th colspan=\"3\" halign=\"left\">debt</th>\n",
       "    </tr>\n",
       "    <tr>\n",
       "      <th></th>\n",
       "      <th>count</th>\n",
       "      <th>sum</th>\n",
       "      <th>mean</th>\n",
       "    </tr>\n",
       "    <tr>\n",
       "      <th>family_status</th>\n",
       "      <th></th>\n",
       "      <th></th>\n",
       "      <th></th>\n",
       "    </tr>\n",
       "  </thead>\n",
       "  <tbody>\n",
       "    <tr>\n",
       "      <th>в разводе</th>\n",
       "      <td>1189</td>\n",
       "      <td>84</td>\n",
       "      <td>0.070648</td>\n",
       "    </tr>\n",
       "    <tr>\n",
       "      <th>вдовец / вдова</th>\n",
       "      <td>951</td>\n",
       "      <td>63</td>\n",
       "      <td>0.066246</td>\n",
       "    </tr>\n",
       "    <tr>\n",
       "      <th>гражданский брак</th>\n",
       "      <td>4134</td>\n",
       "      <td>385</td>\n",
       "      <td>0.093130</td>\n",
       "    </tr>\n",
       "    <tr>\n",
       "      <th>женат / замужем</th>\n",
       "      <td>12261</td>\n",
       "      <td>927</td>\n",
       "      <td>0.075606</td>\n",
       "    </tr>\n",
       "    <tr>\n",
       "      <th>не женат / не замужем</th>\n",
       "      <td>2796</td>\n",
       "      <td>273</td>\n",
       "      <td>0.097639</td>\n",
       "    </tr>\n",
       "  </tbody>\n",
       "</table>\n",
       "</div>"
      ],
      "text/plain": [
       "                        debt               \n",
       "                       count  sum      mean\n",
       "family_status                              \n",
       "в разводе               1189   84  0.070648\n",
       "вдовец / вдова           951   63  0.066246\n",
       "гражданский брак        4134  385  0.093130\n",
       "женат / замужем        12261  927  0.075606\n",
       "не женат / не замужем   2796  273  0.097639"
      ]
     },
     "execution_count": 23,
     "metadata": {},
     "output_type": "execute_result"
    }
   ],
   "source": [
    "data['family_status'] = data['family_status'].str.lower()\n",
    "data_group_st = data.groupby('family_status').agg({'debt':['count', 'sum', 'mean']})\n",
    "data_group_st"
   ]
  },
  {
   "cell_type": "markdown",
   "id": "6dab9f06",
   "metadata": {
    "deletable": false,
    "id": "1cef7837"
   },
   "source": [
    "**Вывод:** Вероятность возврата кредита в срок выше у клиентов - вдовцов / вдов и тех, кто в разводе. А вероятность возникновения задолжности выше у не женатых/не замужних клиентов. "
   ]
  },
  {
   "cell_type": "markdown",
   "id": "cbf8ade5",
   "metadata": {},
   "source": [
    "<div class=\"alert alert-success\">\n",
    "    \n",
    "<b> Комментарий от ревьюера ✔️</b>\n",
    "    \n",
    "Все верно \n",
    "</div>"
   ]
  },
  {
   "cell_type": "markdown",
   "id": "a76e8faa",
   "metadata": {
    "deletable": false,
    "editable": false,
    "id": "1e8b2fca"
   },
   "source": [
    "#### 3.3 Есть ли зависимость между уровнем дохода и возвратом кредита в срок?"
   ]
  },
  {
   "cell_type": "code",
   "execution_count": 24,
   "id": "0ed890a2",
   "metadata": {
    "deletable": false,
    "id": "cd7e3720"
   },
   "outputs": [
    {
     "data": {
      "text/html": [
       "<div>\n",
       "<style scoped>\n",
       "    .dataframe tbody tr th:only-of-type {\n",
       "        vertical-align: middle;\n",
       "    }\n",
       "\n",
       "    .dataframe tbody tr th {\n",
       "        vertical-align: top;\n",
       "    }\n",
       "\n",
       "    .dataframe thead tr th {\n",
       "        text-align: left;\n",
       "    }\n",
       "\n",
       "    .dataframe thead tr:last-of-type th {\n",
       "        text-align: right;\n",
       "    }\n",
       "</style>\n",
       "<table border=\"1\" class=\"dataframe\">\n",
       "  <thead>\n",
       "    <tr>\n",
       "      <th></th>\n",
       "      <th colspan=\"3\" halign=\"left\">debt</th>\n",
       "    </tr>\n",
       "    <tr>\n",
       "      <th></th>\n",
       "      <th>count</th>\n",
       "      <th>sum</th>\n",
       "      <th>mean</th>\n",
       "    </tr>\n",
       "    <tr>\n",
       "      <th>total_income_category</th>\n",
       "      <th></th>\n",
       "      <th></th>\n",
       "      <th></th>\n",
       "    </tr>\n",
       "  </thead>\n",
       "  <tbody>\n",
       "    <tr>\n",
       "      <th>A</th>\n",
       "      <td>25</td>\n",
       "      <td>2</td>\n",
       "      <td>0.080000</td>\n",
       "    </tr>\n",
       "    <tr>\n",
       "      <th>B</th>\n",
       "      <td>5014</td>\n",
       "      <td>354</td>\n",
       "      <td>0.070602</td>\n",
       "    </tr>\n",
       "    <tr>\n",
       "      <th>C</th>\n",
       "      <td>15921</td>\n",
       "      <td>1353</td>\n",
       "      <td>0.084982</td>\n",
       "    </tr>\n",
       "    <tr>\n",
       "      <th>D</th>\n",
       "      <td>349</td>\n",
       "      <td>21</td>\n",
       "      <td>0.060172</td>\n",
       "    </tr>\n",
       "    <tr>\n",
       "      <th>E</th>\n",
       "      <td>22</td>\n",
       "      <td>2</td>\n",
       "      <td>0.090909</td>\n",
       "    </tr>\n",
       "  </tbody>\n",
       "</table>\n",
       "</div>"
      ],
      "text/plain": [
       "                        debt                \n",
       "                       count   sum      mean\n",
       "total_income_category                       \n",
       "A                         25     2  0.080000\n",
       "B                       5014   354  0.070602\n",
       "C                      15921  1353  0.084982\n",
       "D                        349    21  0.060172\n",
       "E                         22     2  0.090909"
      ]
     },
     "execution_count": 24,
     "metadata": {},
     "output_type": "execute_result"
    }
   ],
   "source": [
    "data_group_income = data.groupby('total_income_category').agg({'debt':['count', 'sum', 'mean']})\n",
    "data_group_income"
   ]
  },
  {
   "cell_type": "markdown",
   "id": "a00c61ca",
   "metadata": {
    "deletable": false,
    "id": "e8593def"
   },
   "source": [
    "**Вывод:** Клиенты из категории D наибольшая вероятность возврата кредита в срок, в отличии от категории С и E. "
   ]
  },
  {
   "cell_type": "markdown",
   "id": "80009efe",
   "metadata": {},
   "source": [
    "<div class=\"alert alert-warning\">\n",
    "    \n",
    "<b> Комментарий от ревьюера ⚠️</b>\n",
    "    \n",
    "Было бы здорово добавить описание групп в таблицу. Буквенные обозначения удобно использовать при работе с данными, но они не очень информативны. И думаю, не стоит учитывать результаты для групп A, D, E из-за маленького количества клиентов.\n",
    "</div>"
   ]
  },
  {
   "cell_type": "markdown",
   "id": "cc01e84e",
   "metadata": {
    "deletable": false,
    "editable": false,
    "id": "99ecbd1f"
   },
   "source": [
    "#### 3.4 Как разные цели кредита влияют на его возврат в срок?"
   ]
  },
  {
   "cell_type": "code",
   "execution_count": 25,
   "id": "6c8fdaf3",
   "metadata": {
    "deletable": false,
    "id": "2b687290"
   },
   "outputs": [
    {
     "data": {
      "text/html": [
       "<div>\n",
       "<style scoped>\n",
       "    .dataframe tbody tr th:only-of-type {\n",
       "        vertical-align: middle;\n",
       "    }\n",
       "\n",
       "    .dataframe tbody tr th {\n",
       "        vertical-align: top;\n",
       "    }\n",
       "\n",
       "    .dataframe thead tr th {\n",
       "        text-align: left;\n",
       "    }\n",
       "\n",
       "    .dataframe thead tr:last-of-type th {\n",
       "        text-align: right;\n",
       "    }\n",
       "</style>\n",
       "<table border=\"1\" class=\"dataframe\">\n",
       "  <thead>\n",
       "    <tr>\n",
       "      <th></th>\n",
       "      <th colspan=\"3\" halign=\"left\">debt</th>\n",
       "    </tr>\n",
       "    <tr>\n",
       "      <th></th>\n",
       "      <th>count</th>\n",
       "      <th>sum</th>\n",
       "      <th>mean</th>\n",
       "    </tr>\n",
       "    <tr>\n",
       "      <th>purpose_category</th>\n",
       "      <th></th>\n",
       "      <th></th>\n",
       "      <th></th>\n",
       "    </tr>\n",
       "  </thead>\n",
       "  <tbody>\n",
       "    <tr>\n",
       "      <th>операции с автомобилем</th>\n",
       "      <td>4279</td>\n",
       "      <td>400</td>\n",
       "      <td>0.093480</td>\n",
       "    </tr>\n",
       "    <tr>\n",
       "      <th>операции с недвижимостью</th>\n",
       "      <td>10751</td>\n",
       "      <td>780</td>\n",
       "      <td>0.072551</td>\n",
       "    </tr>\n",
       "    <tr>\n",
       "      <th>получение образования</th>\n",
       "      <td>3988</td>\n",
       "      <td>369</td>\n",
       "      <td>0.092528</td>\n",
       "    </tr>\n",
       "    <tr>\n",
       "      <th>проведение свадьбы</th>\n",
       "      <td>2313</td>\n",
       "      <td>183</td>\n",
       "      <td>0.079118</td>\n",
       "    </tr>\n",
       "  </tbody>\n",
       "</table>\n",
       "</div>"
      ],
      "text/plain": [
       "                           debt               \n",
       "                          count  sum      mean\n",
       "purpose_category                              \n",
       "операции с автомобилем     4279  400  0.093480\n",
       "операции с недвижимостью  10751  780  0.072551\n",
       "получение образования      3988  369  0.092528\n",
       "проведение свадьбы         2313  183  0.079118"
      ]
     },
     "execution_count": 25,
     "metadata": {},
     "output_type": "execute_result"
    }
   ],
   "source": [
    "data_group_point = data.groupby('purpose_category').agg({'debt':['count', 'sum', 'mean']})\n",
    "data_group_point"
   ]
  },
  {
   "cell_type": "markdown",
   "id": "3b7af098",
   "metadata": {
    "deletable": false,
    "id": "b4bb2ce6"
   },
   "source": [
    "**Вывод:** Клиенты, у которых цель кредита \"операции с недвижимостью\" и \"проведение свадьбы\" самая низкая вероятность возникновения задолжности, а у которых цель кредита \"операции с автомобилем\" и \"получение образования\" - высокая."
   ]
  },
  {
   "cell_type": "markdown",
   "id": "0d75fcff",
   "metadata": {},
   "source": [
    "<div class=\"alert alert-success\">\n",
    "    \n",
    "<b> Комментарий от ревьюера ✔️</b>\n",
    "    \n",
    "Ты хорошо справился с анализом данных\n",
    "</div>"
   ]
  },
  {
   "cell_type": "markdown",
   "id": "4ef46918",
   "metadata": {
    "deletable": false,
    "editable": false,
    "id": "09c3ac4c"
   },
   "source": [
    "#### 3.5 Приведите возможные причины появления пропусков в исходных данных."
   ]
  },
  {
   "cell_type": "markdown",
   "id": "d2fea30d",
   "metadata": {
    "deletable": false,
    "id": "9da2ceda"
   },
   "source": [
    "*Ответ:* Возможные причины - это невнимательность того, кто заполнял данные, не полная информация от клиентов, ошибки в программе"
   ]
  },
  {
   "cell_type": "markdown",
   "id": "9722b4e5",
   "metadata": {},
   "source": [
    "\n",
    "<div class=\"alert alert-success\">\n",
    "    \n",
    "<b> Комментарий от ревьюера ✔️</b>\n",
    "    \n",
    "Ты прав, все это может привести к появлению пропусков\n",
    "</div>\n"
   ]
  },
  {
   "cell_type": "markdown",
   "id": "f1653569",
   "metadata": {
    "deletable": false,
    "editable": false,
    "id": "7b0487d6"
   },
   "source": [
    "#### 3.6 Объясните, почему заполнить пропуски медианным значением — лучшее решение для количественных переменных."
   ]
  },
  {
   "cell_type": "markdown",
   "id": "d71daf20",
   "metadata": {
    "deletable": false,
    "id": "7ecf2b8e"
   },
   "source": [
    "*Ответ:* Среднее значение не всегда отображает реальную картину количественных данных. Если вместо пропусков подставить среднее значение, будет искажение данных. С медианными значениями данные уже ближе к истине. Например, если посмотреть на данные, приведенные ниже, слишком большая разница между максимальным и минимальным значениями стольбца \"общий трудовой стаж в днях\", следовательно огромная разница между средним и медианным значениями. Если пропуски заменить медианным значением, исследование не пострадает, будет более правильным."
   ]
  },
  {
   "cell_type": "code",
   "execution_count": 26,
   "id": "512ca167",
   "metadata": {},
   "outputs": [
    {
     "data": {
      "text/plain": [
       "min           24.141633\n",
       "max       401755.400475\n",
       "mean       67148.972133\n",
       "median      1996.732855\n",
       "Name: days_employed, dtype: float64"
      ]
     },
     "execution_count": 26,
     "metadata": {},
     "output_type": "execute_result"
    }
   ],
   "source": [
    "data_df = data['days_employed'].agg(['min', 'max', 'mean', 'median'])\n",
    "data_df"
   ]
  },
  {
   "cell_type": "markdown",
   "id": "933c69e8",
   "metadata": {},
   "source": [
    "<div class=\"alert alert-danger\">\n",
    "    \n",
    "<b> Комментарий от ревьюера ❗</b>\n",
    "    \n",
    "> Среднее значение не всегда отображает реальную картину количественных данных. ... С медианными значениями данные уже ближе к истине.\n",
    "    \n",
    "Так почему медиана в данном случае лучше среднего?\n",
    "</div>\n"
   ]
  },
  {
   "cell_type": "markdown",
   "id": "97a06719",
   "metadata": {},
   "source": [
    "<div class=\"alert alert-success\">\n",
    "    \n",
    "<b> Комментарий от ревьюера 2 ✔️</b>\n",
    "    \n",
    "Действительно, медиана не зависит от выбросов.\n",
    "    \n",
    "Только выделяй, пожалуйста, изменения в проекте цветом, иначе ревьюер может их пропустить.\n",
    "</div>"
   ]
  },
  {
   "cell_type": "markdown",
   "id": "93e0f351",
   "metadata": {
    "deletable": false,
    "editable": false,
    "id": "6db5255a"
   },
   "source": [
    "### Шаг 4: общий вывод."
   ]
  },
  {
   "cell_type": "markdown",
   "id": "77df2ed9",
   "metadata": {
    "deletable": false,
    "id": "bad65432"
   },
   "source": [
    "Самые лучшие клиенты для банка - это бездетные, в официальном браке или которые были в браке, имеющий средний доход или выше, берущие деньги на недвижимость. А самые нежелательные клиенты - у которых 4 детей, не состоявших в официальном браке, имеющим низкий доход, и берущие деньги на покупку автомобиля."
   ]
  },
  {
   "cell_type": "markdown",
   "id": "3d62878f",
   "metadata": {},
   "source": [
    "<div class=\"alert alert-success\">\n",
    "    \n",
    "<b> Комментарий от ревьюера ✔️</b>\n",
    "    \n",
    "Здорово, что составил портрет хорошего и плохого клиента!\n",
    "    \n",
    "Еще в общий вывод можно добавить краткое описание работы, отметить интересные особенности и ответить на основной вопрос исследования.\n",
    "</div>"
   ]
  },
  {
   "cell_type": "markdown",
   "id": "d7134c73",
   "metadata": {},
   "source": [
    "<div class=\"alert alert-success\">\n",
    "    \n",
    "<b> Комментарий от ревьюера ✔️</b>\n",
    "    \n",
    "Спасибо за твою работу! Ты хорошо справился с анализом данных.\n",
    "\n",
    "Осталось немного доработать проект:\n",
    "\n",
    "- прокомментировать обработку пропусков\n",
    " \n",
    "Задавай вопросы к моим комментариям, если есть. Жду твои исправления:)\n",
    "\n",
    "</div>"
   ]
  },
  {
   "cell_type": "markdown",
   "id": "831f08be",
   "metadata": {},
   "source": [
    "<div class=\"alert alert-success\">\n",
    "<b> Комментарий от ревьюера 2 ✔️</b>\n",
    "\n",
    "Спасибо, что учел мои комментарии. Надеюсь, эта работа была полезна для тебя. Я принимаю проект и желаю удачи в прохождении курса!\n",
    "\n",
    "</div>"
   ]
  }
 ],
 "metadata": {
  "ExecuteTimeLog": [
   {
    "duration": 43,
    "start_time": "2022-11-26T06:52:47.694Z"
   },
   {
    "duration": 547,
    "start_time": "2022-11-26T06:53:04.357Z"
   },
   {
    "duration": 22,
    "start_time": "2022-11-26T06:53:05.273Z"
   },
   {
    "duration": 15,
    "start_time": "2022-11-26T06:53:05.818Z"
   },
   {
    "duration": 11,
    "start_time": "2022-11-26T06:53:06.889Z"
   },
   {
    "duration": 38,
    "start_time": "2022-11-26T06:53:07.385Z"
   },
   {
    "duration": 4,
    "start_time": "2022-11-26T06:53:08.051Z"
   },
   {
    "duration": 8,
    "start_time": "2022-11-26T06:53:08.497Z"
   },
   {
    "duration": 4,
    "start_time": "2022-11-26T06:53:09.210Z"
   },
   {
    "duration": 8,
    "start_time": "2022-11-26T06:53:09.644Z"
   },
   {
    "duration": 4,
    "start_time": "2022-11-26T06:53:10.336Z"
   },
   {
    "duration": 29,
    "start_time": "2022-11-26T06:53:11.039Z"
   },
   {
    "duration": 10,
    "start_time": "2022-11-26T06:53:12.616Z"
   },
   {
    "duration": 4,
    "start_time": "2022-11-26T06:53:13.823Z"
   },
   {
    "duration": 10,
    "start_time": "2022-11-26T06:53:14.978Z"
   },
   {
    "duration": 19,
    "start_time": "2022-11-26T06:53:15.784Z"
   },
   {
    "duration": 18,
    "start_time": "2022-11-26T06:53:16.386Z"
   },
   {
    "duration": 3,
    "start_time": "2022-11-26T06:53:18.032Z"
   },
   {
    "duration": 10,
    "start_time": "2022-11-26T06:53:18.534Z"
   },
   {
    "duration": 5,
    "start_time": "2022-11-26T06:53:19.465Z"
   },
   {
    "duration": 3,
    "start_time": "2022-11-26T06:53:20.582Z"
   },
   {
    "duration": 8,
    "start_time": "2022-11-26T06:53:21.254Z"
   },
   {
    "duration": 18,
    "start_time": "2022-11-26T06:53:22.647Z"
   },
   {
    "duration": 739,
    "start_time": "2022-11-26T09:07:52.971Z"
   },
   {
    "duration": 24,
    "start_time": "2022-11-26T09:07:55.578Z"
   },
   {
    "duration": 16,
    "start_time": "2022-11-26T09:07:56.003Z"
   },
   {
    "duration": 14,
    "start_time": "2022-11-26T09:07:56.718Z"
   },
   {
    "duration": 35,
    "start_time": "2022-11-26T09:07:57.089Z"
   },
   {
    "duration": 4,
    "start_time": "2022-11-26T09:07:57.652Z"
   },
   {
    "duration": 8,
    "start_time": "2022-11-26T09:07:58.078Z"
   },
   {
    "duration": 4,
    "start_time": "2022-11-26T09:07:58.690Z"
   },
   {
    "duration": 8,
    "start_time": "2022-11-26T09:07:59.084Z"
   },
   {
    "duration": 5,
    "start_time": "2022-11-26T09:07:59.492Z"
   },
   {
    "duration": 37,
    "start_time": "2022-11-26T09:08:00.071Z"
   },
   {
    "duration": 10,
    "start_time": "2022-11-26T09:08:00.511Z"
   },
   {
    "duration": 4,
    "start_time": "2022-11-26T09:08:01.157Z"
   },
   {
    "duration": 12,
    "start_time": "2022-11-26T09:08:01.762Z"
   },
   {
    "duration": 21,
    "start_time": "2022-11-26T09:08:02.211Z"
   },
   {
    "duration": 19,
    "start_time": "2022-11-26T09:08:02.436Z"
   },
   {
    "duration": 4,
    "start_time": "2022-11-26T09:08:03.217Z"
   },
   {
    "duration": 16,
    "start_time": "2022-11-26T09:08:03.475Z"
   },
   {
    "duration": 6,
    "start_time": "2022-11-26T09:08:03.965Z"
   },
   {
    "duration": 4,
    "start_time": "2022-11-26T09:08:04.737Z"
   },
   {
    "duration": 9,
    "start_time": "2022-11-26T09:08:05.299Z"
   },
   {
    "duration": 29,
    "start_time": "2022-11-26T09:08:06.626Z"
   },
   {
    "duration": 76,
    "start_time": "2022-11-26T09:36:18.214Z"
   },
   {
    "duration": 16,
    "start_time": "2022-11-26T09:36:18.743Z"
   },
   {
    "duration": 21,
    "start_time": "2022-11-26T09:36:19.113Z"
   },
   {
    "duration": 11,
    "start_time": "2022-11-26T09:36:19.855Z"
   },
   {
    "duration": 34,
    "start_time": "2022-11-26T09:36:20.231Z"
   },
   {
    "duration": 3,
    "start_time": "2022-11-26T09:36:20.827Z"
   },
   {
    "duration": 8,
    "start_time": "2022-11-26T09:36:21.263Z"
   },
   {
    "duration": 4,
    "start_time": "2022-11-26T09:36:21.943Z"
   },
   {
    "duration": 6,
    "start_time": "2022-11-26T09:36:22.409Z"
   },
   {
    "duration": 6,
    "start_time": "2022-11-26T09:36:22.851Z"
   },
   {
    "duration": 36,
    "start_time": "2022-11-26T09:36:23.503Z"
   },
   {
    "duration": 11,
    "start_time": "2022-11-26T09:36:24.217Z"
   },
   {
    "duration": 4,
    "start_time": "2022-11-26T09:36:25.152Z"
   },
   {
    "duration": 11,
    "start_time": "2022-11-26T09:36:26.187Z"
   },
   {
    "duration": 20,
    "start_time": "2022-11-26T09:36:27.216Z"
   },
   {
    "duration": 18,
    "start_time": "2022-11-26T09:36:27.628Z"
   },
   {
    "duration": 3,
    "start_time": "2022-11-26T09:36:29.035Z"
   },
   {
    "duration": 10,
    "start_time": "2022-11-26T09:36:29.283Z"
   },
   {
    "duration": 5,
    "start_time": "2022-11-26T09:36:30.000Z"
   },
   {
    "duration": 3,
    "start_time": "2022-11-26T09:36:30.600Z"
   },
   {
    "duration": 11,
    "start_time": "2022-11-26T09:36:31.309Z"
   },
   {
    "duration": 6,
    "start_time": "2022-11-26T09:36:34.404Z"
   },
   {
    "duration": 593,
    "start_time": "2022-11-28T07:30:08.838Z"
   },
   {
    "duration": 27,
    "start_time": "2022-11-28T07:30:09.433Z"
   },
   {
    "duration": 16,
    "start_time": "2022-11-28T07:30:10.034Z"
   },
   {
    "duration": 10,
    "start_time": "2022-11-28T07:30:11.254Z"
   },
   {
    "duration": 33,
    "start_time": "2022-11-28T07:30:11.857Z"
   },
   {
    "duration": 3,
    "start_time": "2022-11-28T07:30:12.660Z"
   },
   {
    "duration": 8,
    "start_time": "2022-11-28T07:30:13.221Z"
   },
   {
    "duration": 4,
    "start_time": "2022-11-28T07:30:13.925Z"
   },
   {
    "duration": 7,
    "start_time": "2022-11-28T07:30:14.463Z"
   },
   {
    "duration": 5,
    "start_time": "2022-11-28T07:30:15.048Z"
   },
   {
    "duration": 41,
    "start_time": "2022-11-28T07:30:16.535Z"
   },
   {
    "duration": 10,
    "start_time": "2022-11-28T07:30:17.421Z"
   },
   {
    "duration": 5,
    "start_time": "2022-11-28T07:30:18.985Z"
   },
   {
    "duration": 12,
    "start_time": "2022-11-28T07:30:32.443Z"
   },
   {
    "duration": 19,
    "start_time": "2022-11-28T07:30:34.052Z"
   },
   {
    "duration": 17,
    "start_time": "2022-11-28T07:30:35.280Z"
   },
   {
    "duration": 3,
    "start_time": "2022-11-28T07:30:39.744Z"
   },
   {
    "duration": 11,
    "start_time": "2022-11-28T07:30:40.441Z"
   },
   {
    "duration": 6,
    "start_time": "2022-11-28T07:30:41.757Z"
   },
   {
    "duration": 3,
    "start_time": "2022-11-28T07:30:43.255Z"
   },
   {
    "duration": 11,
    "start_time": "2022-11-28T07:30:43.833Z"
   },
   {
    "duration": 503,
    "start_time": "2022-11-30T12:31:19.850Z"
   },
   {
    "duration": 21,
    "start_time": "2022-11-30T12:31:20.354Z"
   },
   {
    "duration": 14,
    "start_time": "2022-11-30T12:31:20.741Z"
   },
   {
    "duration": 8,
    "start_time": "2022-11-30T12:31:21.616Z"
   },
   {
    "duration": 33,
    "start_time": "2022-11-30T12:31:22.128Z"
   },
   {
    "duration": 4,
    "start_time": "2022-11-30T12:31:22.840Z"
   },
   {
    "duration": 7,
    "start_time": "2022-11-30T12:31:23.315Z"
   },
   {
    "duration": 4,
    "start_time": "2022-11-30T12:31:23.989Z"
   },
   {
    "duration": 6,
    "start_time": "2022-11-30T12:31:24.462Z"
   },
   {
    "duration": 5,
    "start_time": "2022-11-30T12:31:24.926Z"
   },
   {
    "duration": 31,
    "start_time": "2022-11-30T12:31:25.648Z"
   },
   {
    "duration": 10,
    "start_time": "2022-11-30T12:31:26.138Z"
   },
   {
    "duration": 4,
    "start_time": "2022-11-30T12:31:26.871Z"
   },
   {
    "duration": 11,
    "start_time": "2022-11-30T12:31:27.914Z"
   },
   {
    "duration": 20,
    "start_time": "2022-11-30T12:31:28.555Z"
   },
   {
    "duration": 17,
    "start_time": "2022-11-30T12:31:28.839Z"
   },
   {
    "duration": 3,
    "start_time": "2022-11-30T12:31:29.987Z"
   },
   {
    "duration": 9,
    "start_time": "2022-11-30T12:31:30.320Z"
   },
   {
    "duration": 5,
    "start_time": "2022-11-30T12:31:30.997Z"
   },
   {
    "duration": 4,
    "start_time": "2022-11-30T12:31:31.892Z"
   },
   {
    "duration": 11,
    "start_time": "2022-11-30T12:31:32.481Z"
   },
   {
    "duration": 3,
    "start_time": "2022-11-30T12:31:34.001Z"
   },
   {
    "duration": 2,
    "start_time": "2022-11-30T12:31:35.771Z"
   },
   {
    "duration": 2,
    "start_time": "2022-11-30T12:32:51.678Z"
   },
   {
    "duration": 5,
    "start_time": "2022-11-30T12:33:20.330Z"
   },
   {
    "duration": 6,
    "start_time": "2022-11-30T12:33:31.040Z"
   },
   {
    "duration": 696,
    "start_time": "2022-12-02T09:15:53.809Z"
   },
   {
    "duration": 25,
    "start_time": "2022-12-02T09:15:54.507Z"
   },
   {
    "duration": 25,
    "start_time": "2022-12-02T09:15:54.583Z"
   },
   {
    "duration": 11,
    "start_time": "2022-12-02T09:15:55.334Z"
   },
   {
    "duration": 52,
    "start_time": "2022-12-02T09:15:55.766Z"
   },
   {
    "duration": 6,
    "start_time": "2022-12-02T09:15:56.675Z"
   },
   {
    "duration": 13,
    "start_time": "2022-12-02T09:15:57.104Z"
   },
   {
    "duration": 10,
    "start_time": "2022-12-02T09:15:57.780Z"
   },
   {
    "duration": 17,
    "start_time": "2022-12-02T09:15:58.204Z"
   },
   {
    "duration": 5,
    "start_time": "2022-12-02T09:15:58.609Z"
   },
   {
    "duration": 63,
    "start_time": "2022-12-02T09:16:01.740Z"
   },
   {
    "duration": 19,
    "start_time": "2022-12-02T09:16:02.545Z"
   },
   {
    "duration": 6,
    "start_time": "2022-12-02T09:16:04.171Z"
   },
   {
    "duration": 19,
    "start_time": "2022-12-02T09:16:05.196Z"
   },
   {
    "duration": 26,
    "start_time": "2022-12-02T09:16:05.733Z"
   },
   {
    "duration": 25,
    "start_time": "2022-12-02T09:16:06.282Z"
   },
   {
    "duration": 7,
    "start_time": "2022-12-02T09:16:08.082Z"
   },
   {
    "duration": 12,
    "start_time": "2022-12-02T09:16:08.893Z"
   },
   {
    "duration": 8,
    "start_time": "2022-12-02T09:16:10.297Z"
   },
   {
    "duration": 4,
    "start_time": "2022-12-02T09:16:11.102Z"
   },
   {
    "duration": 20,
    "start_time": "2022-12-02T09:16:11.344Z"
   },
   {
    "duration": 178,
    "start_time": "2022-12-02T10:23:57.524Z"
   },
   {
    "duration": 39,
    "start_time": "2022-12-02T10:23:57.943Z"
   },
   {
    "duration": 28,
    "start_time": "2022-12-02T10:23:58.340Z"
   },
   {
    "duration": 18,
    "start_time": "2022-12-02T10:23:59.173Z"
   },
   {
    "duration": 75,
    "start_time": "2022-12-02T10:23:59.597Z"
   },
   {
    "duration": 7,
    "start_time": "2022-12-02T10:24:00.208Z"
   },
   {
    "duration": 18,
    "start_time": "2022-12-02T10:24:00.606Z"
   },
   {
    "duration": 16,
    "start_time": "2022-12-02T10:24:01.199Z"
   },
   {
    "duration": 7,
    "start_time": "2022-12-02T10:24:01.582Z"
   },
   {
    "duration": 8,
    "start_time": "2022-12-02T10:24:01.985Z"
   },
   {
    "duration": 60,
    "start_time": "2022-12-02T10:24:02.596Z"
   },
   {
    "duration": 22,
    "start_time": "2022-12-02T10:24:03.006Z"
   },
   {
    "duration": 4,
    "start_time": "2022-12-02T10:24:03.689Z"
   },
   {
    "duration": 19,
    "start_time": "2022-12-02T10:24:04.331Z"
   },
   {
    "duration": 39,
    "start_time": "2022-12-02T10:24:04.744Z"
   },
   {
    "duration": 30,
    "start_time": "2022-12-02T10:24:04.933Z"
   },
   {
    "duration": 4,
    "start_time": "2022-12-02T10:24:05.634Z"
   },
   {
    "duration": 18,
    "start_time": "2022-12-02T10:24:05.829Z"
   },
   {
    "duration": 11,
    "start_time": "2022-12-02T10:24:06.284Z"
   },
   {
    "duration": 4,
    "start_time": "2022-12-02T10:24:06.740Z"
   },
   {
    "duration": 20,
    "start_time": "2022-12-02T10:24:06.985Z"
   },
   {
    "duration": 9,
    "start_time": "2022-12-02T10:25:59.949Z"
   },
   {
    "duration": 20,
    "start_time": "2022-12-02T11:25:42.179Z"
   },
   {
    "duration": 35,
    "start_time": "2022-12-02T11:26:39.674Z"
   },
   {
    "duration": 22,
    "start_time": "2022-12-02T11:32:09.621Z"
   },
   {
    "duration": 2494,
    "start_time": "2022-12-02T11:57:05.076Z"
   },
   {
    "duration": 24,
    "start_time": "2022-12-02T11:58:25.936Z"
   },
   {
    "duration": 34,
    "start_time": "2022-12-02T11:59:05.153Z"
   },
   {
    "duration": 16,
    "start_time": "2022-12-02T12:00:02.496Z"
   },
   {
    "duration": 18,
    "start_time": "2022-12-02T12:00:47.121Z"
   },
   {
    "duration": 39,
    "start_time": "2022-12-02T12:29:09.133Z"
   },
   {
    "duration": 62,
    "start_time": "2022-12-02T12:30:28.299Z"
   },
   {
    "duration": 34,
    "start_time": "2022-12-02T12:30:46.672Z"
   },
   {
    "duration": 38,
    "start_time": "2022-12-02T12:31:16.154Z"
   },
   {
    "duration": 26,
    "start_time": "2022-12-02T12:32:43.011Z"
   },
   {
    "duration": 31,
    "start_time": "2022-12-02T12:32:51.208Z"
   },
   {
    "duration": 22,
    "start_time": "2022-12-02T12:32:56.821Z"
   },
   {
    "duration": 23,
    "start_time": "2022-12-02T12:33:20.743Z"
   },
   {
    "duration": 40,
    "start_time": "2022-12-02T12:36:08.173Z"
   },
   {
    "duration": 25,
    "start_time": "2022-12-02T12:36:33.880Z"
   },
   {
    "duration": 35,
    "start_time": "2022-12-02T12:36:44.081Z"
   },
   {
    "duration": 31,
    "start_time": "2022-12-02T12:39:58.586Z"
   },
   {
    "duration": 35,
    "start_time": "2022-12-02T12:41:15.670Z"
   },
   {
    "duration": 29,
    "start_time": "2022-12-02T14:26:13.248Z"
   },
   {
    "duration": 350,
    "start_time": "2022-12-02T16:08:40.919Z"
   },
   {
    "duration": 30,
    "start_time": "2022-12-02T16:08:41.299Z"
   },
   {
    "duration": 51,
    "start_time": "2022-12-02T16:08:41.635Z"
   },
   {
    "duration": 35,
    "start_time": "2022-12-02T16:08:42.374Z"
   },
   {
    "duration": 100,
    "start_time": "2022-12-02T16:08:42.729Z"
   },
   {
    "duration": 8,
    "start_time": "2022-12-02T16:08:43.515Z"
   },
   {
    "duration": 11,
    "start_time": "2022-12-02T16:08:43.934Z"
   },
   {
    "duration": 11,
    "start_time": "2022-12-02T16:08:44.591Z"
   },
   {
    "duration": 15,
    "start_time": "2022-12-02T16:08:44.982Z"
   },
   {
    "duration": 10,
    "start_time": "2022-12-02T16:08:45.402Z"
   },
   {
    "duration": 78,
    "start_time": "2022-12-02T16:08:46.106Z"
   },
   {
    "duration": 32,
    "start_time": "2022-12-02T16:08:46.573Z"
   },
   {
    "duration": 5,
    "start_time": "2022-12-02T16:08:47.233Z"
   },
   {
    "duration": 38,
    "start_time": "2022-12-02T16:08:47.842Z"
   },
   {
    "duration": 38,
    "start_time": "2022-12-02T16:08:48.299Z"
   },
   {
    "duration": 30,
    "start_time": "2022-12-02T16:08:48.528Z"
   },
   {
    "duration": 10,
    "start_time": "2022-12-02T16:08:49.233Z"
   },
   {
    "duration": 34,
    "start_time": "2022-12-02T16:08:49.446Z"
   },
   {
    "duration": 8,
    "start_time": "2022-12-02T16:08:49.916Z"
   },
   {
    "duration": 11,
    "start_time": "2022-12-02T16:08:50.428Z"
   },
   {
    "duration": 14,
    "start_time": "2022-12-02T16:08:50.618Z"
   },
   {
    "duration": 17,
    "start_time": "2022-12-02T16:08:51.323Z"
   },
   {
    "duration": 8,
    "start_time": "2022-12-02T16:20:12.605Z"
   },
   {
    "duration": 26,
    "start_time": "2022-12-02T16:23:58.150Z"
   },
   {
    "duration": 24,
    "start_time": "2022-12-02T16:24:28.592Z"
   },
   {
    "duration": 61,
    "start_time": "2022-12-02T16:27:07.547Z"
   },
   {
    "duration": 37,
    "start_time": "2022-12-02T16:33:53.705Z"
   },
   {
    "duration": 69,
    "start_time": "2022-12-02T16:34:09.808Z"
   },
   {
    "duration": 43,
    "start_time": "2022-12-02T16:34:17.688Z"
   },
   {
    "duration": 31,
    "start_time": "2022-12-02T16:50:41.244Z"
   },
   {
    "duration": 19,
    "start_time": "2022-12-02T16:53:28.062Z"
   },
   {
    "duration": 9,
    "start_time": "2022-12-02T16:53:34.825Z"
   },
   {
    "duration": 17,
    "start_time": "2022-12-02T16:53:47.228Z"
   },
   {
    "duration": 14,
    "start_time": "2022-12-02T17:05:12.927Z"
   },
   {
    "duration": 592,
    "start_time": "2022-12-03T10:28:10.617Z"
   },
   {
    "duration": 24,
    "start_time": "2022-12-03T10:28:11.211Z"
   },
   {
    "duration": 17,
    "start_time": "2022-12-03T10:28:11.238Z"
   },
   {
    "duration": 10,
    "start_time": "2022-12-03T10:28:11.257Z"
   },
   {
    "duration": 37,
    "start_time": "2022-12-03T10:28:11.268Z"
   },
   {
    "duration": 4,
    "start_time": "2022-12-03T10:28:11.306Z"
   },
   {
    "duration": 10,
    "start_time": "2022-12-03T10:28:11.312Z"
   },
   {
    "duration": 31,
    "start_time": "2022-12-03T10:28:11.324Z"
   },
   {
    "duration": 13,
    "start_time": "2022-12-03T10:28:11.357Z"
   },
   {
    "duration": 6,
    "start_time": "2022-12-03T10:28:11.373Z"
   },
   {
    "duration": 42,
    "start_time": "2022-12-03T10:28:11.380Z"
   },
   {
    "duration": 10,
    "start_time": "2022-12-03T10:28:11.424Z"
   },
   {
    "duration": 4,
    "start_time": "2022-12-03T10:28:11.451Z"
   },
   {
    "duration": 13,
    "start_time": "2022-12-03T10:28:11.457Z"
   },
   {
    "duration": 24,
    "start_time": "2022-12-03T10:28:11.472Z"
   },
   {
    "duration": 19,
    "start_time": "2022-12-03T10:28:11.497Z"
   },
   {
    "duration": 4,
    "start_time": "2022-12-03T10:28:11.518Z"
   },
   {
    "duration": 12,
    "start_time": "2022-12-03T10:28:11.551Z"
   },
   {
    "duration": 11,
    "start_time": "2022-12-03T10:28:11.565Z"
   },
   {
    "duration": 3,
    "start_time": "2022-12-03T10:28:11.578Z"
   },
   {
    "duration": 20,
    "start_time": "2022-12-03T10:28:11.583Z"
   },
   {
    "duration": 21,
    "start_time": "2022-12-03T10:28:11.605Z"
   },
   {
    "duration": 40,
    "start_time": "2022-12-03T10:28:11.628Z"
   },
   {
    "duration": 14,
    "start_time": "2022-12-03T10:28:11.670Z"
   },
   {
    "duration": 15,
    "start_time": "2022-12-03T10:28:11.686Z"
   },
   {
    "duration": 620,
    "start_time": "2022-12-03T11:06:38.440Z"
   },
   {
    "duration": 28,
    "start_time": "2022-12-03T11:06:39.063Z"
   },
   {
    "duration": 16,
    "start_time": "2022-12-03T11:06:39.377Z"
   },
   {
    "duration": 12,
    "start_time": "2022-12-03T11:06:40.165Z"
   },
   {
    "duration": 38,
    "start_time": "2022-12-03T11:06:40.551Z"
   },
   {
    "duration": 4,
    "start_time": "2022-12-03T11:06:41.129Z"
   },
   {
    "duration": 9,
    "start_time": "2022-12-03T11:06:41.530Z"
   },
   {
    "duration": 5,
    "start_time": "2022-12-03T11:06:42.101Z"
   },
   {
    "duration": 7,
    "start_time": "2022-12-03T11:06:42.486Z"
   },
   {
    "duration": 5,
    "start_time": "2022-12-03T11:06:42.865Z"
   },
   {
    "duration": 39,
    "start_time": "2022-12-03T11:06:43.460Z"
   },
   {
    "duration": 12,
    "start_time": "2022-12-03T11:06:43.886Z"
   },
   {
    "duration": 4,
    "start_time": "2022-12-03T11:06:44.963Z"
   },
   {
    "duration": 13,
    "start_time": "2022-12-03T11:06:45.596Z"
   },
   {
    "duration": 22,
    "start_time": "2022-12-03T11:06:46.011Z"
   },
   {
    "duration": 20,
    "start_time": "2022-12-03T11:06:46.221Z"
   },
   {
    "duration": 4,
    "start_time": "2022-12-03T11:06:46.835Z"
   },
   {
    "duration": 11,
    "start_time": "2022-12-03T11:06:47.052Z"
   },
   {
    "duration": 6,
    "start_time": "2022-12-03T11:06:47.520Z"
   },
   {
    "duration": 4,
    "start_time": "2022-12-03T11:06:47.952Z"
   },
   {
    "duration": 8,
    "start_time": "2022-12-03T11:06:48.161Z"
   },
   {
    "duration": 18,
    "start_time": "2022-12-03T11:06:48.997Z"
   },
   {
    "duration": 25,
    "start_time": "2022-12-03T11:06:52.179Z"
   },
   {
    "duration": 15,
    "start_time": "2022-12-03T11:06:55.347Z"
   },
   {
    "duration": 23,
    "start_time": "2022-12-03T11:06:58.246Z"
   },
   {
    "duration": 14,
    "start_time": "2022-12-03T11:08:21.386Z"
   },
   {
    "duration": 8,
    "start_time": "2022-12-03T11:19:10.736Z"
   },
   {
    "duration": 22,
    "start_time": "2022-12-03T11:19:25.949Z"
   },
   {
    "duration": 75,
    "start_time": "2022-12-03T11:37:59.320Z"
   },
   {
    "duration": 6,
    "start_time": "2022-12-03T11:39:55.246Z"
   },
   {
    "duration": 17,
    "start_time": "2022-12-03T11:43:40.149Z"
   },
   {
    "duration": 9,
    "start_time": "2022-12-03T11:55:59.062Z"
   },
   {
    "duration": 548,
    "start_time": "2022-12-04T09:04:13.506Z"
   },
   {
    "duration": 44,
    "start_time": "2022-12-04T09:04:14.056Z"
   },
   {
    "duration": 17,
    "start_time": "2022-12-04T09:04:14.106Z"
   },
   {
    "duration": 17,
    "start_time": "2022-12-04T09:04:14.126Z"
   },
   {
    "duration": 51,
    "start_time": "2022-12-04T09:04:14.145Z"
   },
   {
    "duration": 4,
    "start_time": "2022-12-04T09:04:14.201Z"
   },
   {
    "duration": 21,
    "start_time": "2022-12-04T09:04:14.207Z"
   },
   {
    "duration": 10,
    "start_time": "2022-12-04T09:04:14.231Z"
   },
   {
    "duration": 26,
    "start_time": "2022-12-04T09:04:14.243Z"
   },
   {
    "duration": 15,
    "start_time": "2022-12-04T09:04:14.274Z"
   },
   {
    "duration": 60,
    "start_time": "2022-12-04T09:04:14.291Z"
   },
   {
    "duration": 9,
    "start_time": "2022-12-04T09:04:14.353Z"
   },
   {
    "duration": 6,
    "start_time": "2022-12-04T09:04:14.363Z"
   },
   {
    "duration": 21,
    "start_time": "2022-12-04T09:04:14.371Z"
   },
   {
    "duration": 22,
    "start_time": "2022-12-04T09:04:14.394Z"
   },
   {
    "duration": 16,
    "start_time": "2022-12-04T09:04:14.417Z"
   },
   {
    "duration": 4,
    "start_time": "2022-12-04T09:04:14.434Z"
   },
   {
    "duration": 15,
    "start_time": "2022-12-04T09:04:14.439Z"
   },
   {
    "duration": 9,
    "start_time": "2022-12-04T09:04:14.456Z"
   },
   {
    "duration": 13,
    "start_time": "2022-12-04T09:04:14.467Z"
   },
   {
    "duration": 27,
    "start_time": "2022-12-04T09:04:14.481Z"
   },
   {
    "duration": 29,
    "start_time": "2022-12-04T09:04:14.509Z"
   },
   {
    "duration": 23,
    "start_time": "2022-12-04T09:04:14.540Z"
   },
   {
    "duration": 11,
    "start_time": "2022-12-04T09:04:14.564Z"
   },
   {
    "duration": 22,
    "start_time": "2022-12-04T09:04:14.576Z"
   },
   {
    "duration": 9,
    "start_time": "2022-12-04T09:04:14.599Z"
   }
  ],
  "colab": {
   "name": "dpp_template_part2.ipynb",
   "provenance": []
  },
  "kernelspec": {
   "display_name": "Python 3 (ipykernel)",
   "language": "python",
   "name": "python3"
  },
  "language_info": {
   "codemirror_mode": {
    "name": "ipython",
    "version": 3
   },
   "file_extension": ".py",
   "mimetype": "text/x-python",
   "name": "python",
   "nbconvert_exporter": "python",
   "pygments_lexer": "ipython3",
   "version": "3.9.5"
  },
  "toc": {
   "base_numbering": 1,
   "nav_menu": {},
   "number_sections": true,
   "sideBar": true,
   "skip_h1_title": true,
   "title_cell": "Table of Contents",
   "title_sidebar": "Contents",
   "toc_cell": false,
   "toc_position": {},
   "toc_section_display": true,
   "toc_window_display": false
  }
 },
 "nbformat": 4,
 "nbformat_minor": 5
}
